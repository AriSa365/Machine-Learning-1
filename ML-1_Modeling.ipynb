{
 "cells": [
  {
   "cell_type": "markdown",
   "metadata": {
    "id": "iwi5NYeS_n_c"
   },
   "source": []
  },
  {
   "cell_type": "markdown",
   "metadata": {
    "id": "2wey4emW_rMj"
   },
   "source": [
    "## Problem Statement"
   ]
  },
  {
   "cell_type": "markdown",
   "metadata": {
    "id": "3LHJ2hP58kXM"
   },
   "source": [
    "**Context**\n",
    "- A significant number of hotel bookings are called off due to cancellations or no-shows. The typical reasons for cancellations include change of plans, scheduling conflicts, etc. This is often made easier by the option to do so free of charge or preferably at a low cost which is beneficial to hotel guests but it is a less desirable and possibly revenue-diminishing factor for hotels to deal with. Such losses are particularly high on last-minute cancellations.\n",
    "\n",
    "- The new technologies involving online booking channels have dramatically changed customers’ booking possibilities and behavior. This adds a further dimension to the challenge of how hotels handle cancellations, which are no longer limited to traditional booking and guest characteristics.\n",
    "\n",
    "The cancellation of bookings impact a hotel on various fronts:\n",
    "1. Loss of resources (revenue) when the hotel cannot resell the room.\n",
    "2. Additional costs of distribution channels by increasing commissions or paying for publicity to help sell these rooms.\n",
    "3. Lowering prices last minute, so the hotel can resell a room, resulting in reducing the profit margin.\n",
    "4. Human resources to make arrangements for the guests.\n",
    "\n",
    "\n",
    "\n",
    "**Objective**\n",
    "\n",
    "The increasing number of cancellations calls for a Machine Learning based solution that can help in predicting which booking is likely to be canceled. INN Hotels Group has a chain of hotels in Portugal, they are facing problems with the high number of booking cancellations and have reached out to your firm for data-driven solutions. You as a data scientist have to analyze the data provided to find which factors have a high influence on booking cancellations, build a predictive model that can predict which booking is going to be canceled in advance, and help in formulating profitable policies for cancellations and refunds.\n",
    "\n",
    "\n",
    "\n",
    "**Data Description**\n",
    "\n",
    "The data contains the different attributes of customers' booking details. The detailed data dictionary is given below.\n",
    "\n",
    "**Data Dictionary**:\n",
    "\n",
    "`Booking_ID`: the unique identifier of each booking\n",
    "\n",
    "`no_of_adults`: Number of adults\n",
    "\n",
    "`no_of_children`: Number of Children\n",
    "\n",
    "`no_of_weekend_nights`: Number of weekend nights (Saturday or Sunday) the guest stayed or booked to stay at the hotel\n",
    "\n",
    "`no_of_week_nights`: Number of weeknights (Monday to Friday) the guest stayed or booked to stay at the hotel\n",
    "\n",
    "`type_of_meal_plan`: Type of meal plan booked by the customer:\n",
    "\n",
    "Not Selected - No meal plan selected\n",
    "\n",
    "Meal Plan 1 - Breakfast\n",
    "\n",
    "Meal Plan 2 - Half board (breakfast and one other meal)\n",
    "\n",
    "Meal Plan 3 - Full board (breakfast, lunch, and dinner)\n",
    "\n",
    "\n",
    "`required_car_parking_space`: Does the customer require a car parking space? (0 - No, 1- Yes)\n",
    "\n",
    "`room_type_reserved`: Type of room reserved by the customer. The values are ciphered (encoded) by INN Hotels Group\n",
    "\n",
    "`lead_time`: Number of days between the date of booking and the arrival date\n",
    "\n",
    "`arrival_year`: Year of arrival date\n",
    "\n",
    "`arrival_month`: Month of arrival date\n",
    "\n",
    "`arrival_date`: Date of the month\n",
    "\n",
    "`market_segment_type`: Market segment designation.\n",
    "\n",
    "`repeated_guest`: Is the customer a repeated guest? (0 - No, 1- Yes)\n",
    "\n",
    "`no_of_previous_cancellations`: Number of previous bookings that were canceled by the customer prior to the current booking\n",
    "\n",
    "`no_of_previous_bookings_not_canceled`: Number of previous bookings not canceled by the customer prior to the current booking\n",
    "\n",
    "`avg_price_per_room`: Average price per day of the reservation; prices of the rooms are dynamic. (in euros)\n",
    "\n",
    "`no_of_special_requests`: Total number of special requests made by the customer (e.g. high floor, view from the room, etc)\n",
    "\n",
    "`booking_status`: Flag indicating if the booking was canceled or not.\n",
    "\n",
    "**EDA Questions**\n",
    "\n",
    "1. What are the busiest months in the hotel?\n",
    "\n",
    "2.   Which market segment do most of the guests come from?\n",
    "3.   Hotel rates are dynamic and change according to demand and customer demographics. What are the differences in room prices in different market segments?\n",
    "\n",
    "4.   What percentage of bookings are canceled?\n",
    "5.   Repeating guests are the guests who stay in the hotel often and are important to brand equity. What percentage of repeating guests cancel?\n",
    "6.   Many guests have special requirements when booking a hotel room. Do these requirements affect booking cancellation?\n",
    "\n",
    "**Note**: These are a few questions to help guide you in performing EDA. EDA has to be done beyond this set of questions to obtain the maximum point in the corresponding rubric section."
   ]
  },
  {
   "cell_type": "markdown",
   "metadata": {
    "id": "STqwSODS_1_A"
   },
   "source": [
    "## Loading Libraries"
   ]
  },
  {
   "cell_type": "code",
   "execution_count": 31,
   "metadata": {
    "executionInfo": {
     "elapsed": 3808,
     "status": "ok",
     "timestamp": 1722357055961,
     "user": {
      "displayName": "Arindam Saha",
      "userId": "13183971684604990720"
     },
     "user_tz": -330
    },
    "id": "4XApBMnH8jUl"
   },
   "outputs": [],
   "source": [
    "# this will help in making the Python code more structured automatically (good coding practice)\n",
    "#%load_ext nb_black\n",
    "\n",
    "import warnings\n",
    "\n",
    "warnings.filterwarnings(\"ignore\")\n",
    "from statsmodels.tools.sm_exceptions import ConvergenceWarning\n",
    "\n",
    "warnings.simplefilter(\"ignore\", ConvergenceWarning)\n",
    "\n",
    "# Libraries to help with reading and manipulating data\n",
    "\n",
    "import pandas as pd\n",
    "import numpy as np\n",
    "\n",
    "# Library to split data\n",
    "from sklearn.model_selection import train_test_split\n",
    "\n",
    "# libaries to help with data visualization\n",
    "import matplotlib.pyplot as plt\n",
    "import seaborn as sns\n",
    "\n",
    "# Removes the limit for the number of displayed columns\n",
    "pd.set_option(\"display.max_columns\", None)\n",
    "# Sets the limit for the number of displayed rows\n",
    "pd.set_option(\"display.max_rows\", 200)\n",
    "\n",
    "\n",
    "# To build model for prediction\n",
    "import statsmodels.stats.api as sms\n",
    "from statsmodels.stats.outliers_influence import variance_inflation_factor\n",
    "import statsmodels.api as sm\n",
    "from statsmodels.tools.tools import add_constant\n",
    "from sklearn.linear_model import LogisticRegression\n",
    "\n",
    "\n",
    "# Library for scaling\n",
    "from sklearn import preprocessing\n",
    "from sklearn.preprocessing import StandardScaler\n",
    "\n",
    "# To build model for prediction\n",
    "from sklearn.neighbors import KNeighborsClassifier\n",
    "from sklearn.naive_bayes import GaussianNB\n",
    "\n",
    "# To get diferent metric scores\n",
    "from sklearn.metrics import (\n",
    "    f1_score,\n",
    "    accuracy_score,\n",
    "    recall_score,\n",
    "    precision_score,\n",
    "    confusion_matrix,\n",
    "    roc_auc_score,\n",
    "    ConfusionMatrixDisplay,\n",
    "    precision_recall_curve,\n",
    "    roc_curve,\n",
    ")"
   ]
  },
  {
   "cell_type": "markdown",
   "metadata": {
    "id": "J3QpXoifAAWw"
   },
   "source": [
    "## Loading data"
   ]
  },
  {
   "cell_type": "code",
   "execution_count": 3,
   "metadata": {
    "colab": {
     "base_uri": "https://localhost:8080/"
    },
    "executionInfo": {
     "elapsed": 27439,
     "status": "ok",
     "timestamp": 1722357083396,
     "user": {
      "displayName": "Arindam Saha",
      "userId": "13183971684604990720"
     },
     "user_tz": -330
    },
    "id": "SbUjR1HnAGd3",
    "outputId": "278744d6-3113-404c-963a-2dc412641db7"
   },
   "outputs": [],
   "source": [
    "'''\n",
    "# Loading the dataset - sheet_name parameter is used if there are multiple tabs in the excel file.\n",
    "from google.colab import drive\n",
    "drive.mount('/content/drive/') #/Colab_notebooks/Python_Files\n",
    "'''\n",
    "data = pd.read_csv(\"\\\\Users\\\\2211563\\\\Downloads\\\\INNHotelsGroup.csv\")"
   ]
  },
  {
   "cell_type": "code",
   "execution_count": 17,
   "metadata": {
    "executionInfo": {
     "elapsed": 11,
     "status": "ok",
     "timestamp": 1722357083397,
     "user": {
      "displayName": "Arindam Saha",
      "userId": "13183971684604990720"
     },
     "user_tz": -330
    },
    "id": "dpHt6-WxAf9s"
   },
   "outputs": [],
   "source": [
    "# copying data to another variable to avoid any changes to original data\n",
    "df = data.copy()"
   ]
  },
  {
   "cell_type": "markdown",
   "metadata": {
    "id": "S8-e1TTJBGue"
   },
   "source": [
    "## Overview of the data"
   ]
  },
  {
   "cell_type": "markdown",
   "metadata": {
    "id": "mJORF1ebBNLx"
   },
   "source": [
    "### View the first and last 5 rows of the dataset."
   ]
  },
  {
   "cell_type": "code",
   "execution_count": null,
   "metadata": {
    "colab": {
     "base_uri": "https://localhost:8080/",
     "height": 226
    },
    "executionInfo": {
     "elapsed": 9,
     "status": "ok",
     "timestamp": 1722357083397,
     "user": {
      "displayName": "Arindam Saha",
      "userId": "13183971684604990720"
     },
     "user_tz": -330
    },
    "id": "gH3wzDjLBARe",
    "outputId": "b1588efb-2ac9-4e2e-b105-5e6da5262a2e"
   },
   "outputs": [],
   "source": [
    "df.head()"
   ]
  },
  {
   "cell_type": "code",
   "execution_count": null,
   "metadata": {
    "colab": {
     "base_uri": "https://localhost:8080/",
     "height": 226
    },
    "executionInfo": {
     "elapsed": 927,
     "status": "ok",
     "timestamp": 1722357084317,
     "user": {
      "displayName": "Arindam Saha",
      "userId": "13183971684604990720"
     },
     "user_tz": -330
    },
    "id": "GxXw36pEBReR",
    "outputId": "1a7d6678-80ba-4fc6-ae12-f1343874848e"
   },
   "outputs": [],
   "source": [
    "df.tail()"
   ]
  },
  {
   "cell_type": "markdown",
   "metadata": {
    "id": "oYzgGwWkTwiI"
   },
   "source": [
    "### Understand the shape of the dataset."
   ]
  },
  {
   "cell_type": "code",
   "execution_count": null,
   "metadata": {
    "colab": {
     "base_uri": "https://localhost:8080/"
    },
    "executionInfo": {
     "elapsed": 53,
     "status": "ok",
     "timestamp": 1722357084318,
     "user": {
      "displayName": "Arindam Saha",
      "userId": "13183971684604990720"
     },
     "user_tz": -330
    },
    "id": "8ohr-4iJBTMS",
    "outputId": "1bca9380-5d25-453e-d5f7-e6c964b7c633"
   },
   "outputs": [],
   "source": [
    "df.shape"
   ]
  },
  {
   "cell_type": "markdown",
   "metadata": {
    "id": "xPWPzxzaT-oI"
   },
   "source": [
    "### Check the data types of the columns for the dataset."
   ]
  },
  {
   "cell_type": "code",
   "execution_count": null,
   "metadata": {
    "colab": {
     "base_uri": "https://localhost:8080/"
    },
    "executionInfo": {
     "elapsed": 50,
     "status": "ok",
     "timestamp": 1722357084319,
     "user": {
      "displayName": "Arindam Saha",
      "userId": "13183971684604990720"
     },
     "user_tz": -330
    },
    "id": "2TvfNU5-T2a5",
    "outputId": "3e21954e-a881-47af-db30-258774618aeb"
   },
   "outputs": [],
   "source": [
    "df.info()"
   ]
  },
  {
   "cell_type": "markdown",
   "metadata": {
    "id": "CSgijWOhWZQ6"
   },
   "source": [
    "* Dependent variable is the booking status which is of categorical type.\n",
    "* Booking id, meal plan type, room reservation type, and market segment are of categorical and market segment is float type while other variables are of integer type.\n",
    "* There are no missing values in the dataset."
   ]
  },
  {
   "cell_type": "markdown",
   "metadata": {
    "id": "qkDjuXo3UMWQ"
   },
   "source": [
    "### Checking for duplicate values"
   ]
  },
  {
   "cell_type": "code",
   "execution_count": null,
   "metadata": {
    "colab": {
     "base_uri": "https://localhost:8080/"
    },
    "executionInfo": {
     "elapsed": 47,
     "status": "ok",
     "timestamp": 1722357084319,
     "user": {
      "displayName": "Arindam Saha",
      "userId": "13183971684604990720"
     },
     "user_tz": -330
    },
    "id": "TAAT0JwIUDUg",
    "outputId": "c5bafdd8-96c4-4d7b-d8c0-a3e60eb4f991"
   },
   "outputs": [],
   "source": [
    "df.duplicated().sum()"
   ]
  },
  {
   "cell_type": "markdown",
   "metadata": {
    "id": "AJVsbTdKUUu4"
   },
   "source": [
    "- There are no duplicate values in the dataset."
   ]
  },
  {
   "cell_type": "markdown",
   "metadata": {
    "id": "WPpd45QsUa7J"
   },
   "source": [
    "### Checking for missing values"
   ]
  },
  {
   "cell_type": "code",
   "execution_count": null,
   "metadata": {
    "colab": {
     "base_uri": "https://localhost:8080/"
    },
    "executionInfo": {
     "elapsed": 45,
     "status": "ok",
     "timestamp": 1722357084320,
     "user": {
      "displayName": "Arindam Saha",
      "userId": "13183971684604990720"
     },
     "user_tz": -330
    },
    "id": "oALeRUh3UQaR",
    "outputId": "bda3201c-094a-48a0-e9f5-1f6f19823143"
   },
   "outputs": [],
   "source": [
    "df.isnull().sum()"
   ]
  },
  {
   "cell_type": "markdown",
   "metadata": {
    "id": "1hdYRzFevXTS"
   },
   "source": [
    "- There are no null values in the dataset."
   ]
  },
  {
   "cell_type": "markdown",
   "metadata": {
    "id": "GhwCTeXQUk9R"
   },
   "source": [
    "### Statistical summary"
   ]
  },
  {
   "cell_type": "code",
   "execution_count": null,
   "metadata": {
    "colab": {
     "base_uri": "https://localhost:8080/",
     "height": 489
    },
    "executionInfo": {
     "elapsed": 41,
     "status": "ok",
     "timestamp": 1722357084321,
     "user": {
      "displayName": "Arindam Saha",
      "userId": "13183971684604990720"
     },
     "user_tz": -330
    },
    "id": "1aSTKG0BUfcM",
    "outputId": "e46d072b-0e67-46c0-deea-995570340963"
   },
   "outputs": [],
   "source": [
    "df.describe().T"
   ]
  },
  {
   "cell_type": "markdown",
   "metadata": {
    "id": "CET7kEOwYCoi"
   },
   "source": [
    "* `no_of_week_nights`: Average no of week nights are 2.2. A vast difference in minimum value and 25th percentile, as well as 75th percentile and the maximum value, indicates that there might be outliers present in the variable.\n",
    "* `lead_time`: The mean number of days between the date of booking and the arrival date is 85.23. A vast difference in minimum value and 25th percentile, as well as 75th percentile and the maximum value, indicates that there might be outliers present in the variable.\n",
    "* `avg_price_per_room`: The average price per room is 103.42 in euros. A vast difference in minimum value and 25th percentile, as well as 75th percentile and the maximum value, indicates that there might be outliers present in the variable.\n",
    "* `No_of_previous_booking_not_cancelled`: There's a huge difference in the 75th percentile and maximum value of No_of_previous_booking_not_cancelled indicating the presence of outliers. Also, 75% of the observations are 0.\n",
    "* `no_of_previous_cancelled`: Same as no_of_previous_cancelled there's a huge difference in the 75th percentile and maximum value indicating the presence of outliers. Also, 75% of the observations are 0.\n",
    "* `repeated_guest`: Same as repeated_guest there's a huge difference in the 75th percentile and maximum value indicating the presence of outliers. Also, 75% of the observations are 0.\n",
    "* `car_parking_space`: Same as car_parking_space there's a huge difference in the 75th percentile and maximum value indicating the presence of outliers. Also, 75% of the observations are 0.\n",
    "* `no_of_children`: Same as no_of_children there's a huge difference in the 75th percentile and maximum value indicating the presence of outliers. Also, 75% of the observations are 0."
   ]
  },
  {
   "cell_type": "markdown",
   "metadata": {
    "id": "BhhCscVLwTEZ"
   },
   "source": [
    "## Find out unique values in each categorical column"
   ]
  },
  {
   "cell_type": "code",
   "execution_count": null,
   "metadata": {
    "colab": {
     "base_uri": "https://localhost:8080/"
    },
    "executionInfo": {
     "elapsed": 39,
     "status": "ok",
     "timestamp": 1722357084321,
     "user": {
      "displayName": "Arindam Saha",
      "userId": "13183971684604990720"
     },
     "user_tz": -330
    },
    "id": "X_9XS4JlwZvx",
    "outputId": "00d5f365-a11d-41c7-eb05-16ccbccf8d53"
   },
   "outputs": [],
   "source": [
    "df['type_of_meal_plan'].unique()"
   ]
  },
  {
   "cell_type": "code",
   "execution_count": null,
   "metadata": {
    "colab": {
     "base_uri": "https://localhost:8080/"
    },
    "executionInfo": {
     "elapsed": 36,
     "status": "ok",
     "timestamp": 1722357084322,
     "user": {
      "displayName": "Arindam Saha",
      "userId": "13183971684604990720"
     },
     "user_tz": -330
    },
    "id": "3lG9NJ1nwxbT",
    "outputId": "25b65371-7850-47c1-8d58-a53d498995a8"
   },
   "outputs": [],
   "source": [
    "df['room_type_reserved'].unique()"
   ]
  },
  {
   "cell_type": "code",
   "execution_count": null,
   "metadata": {
    "colab": {
     "base_uri": "https://localhost:8080/"
    },
    "executionInfo": {
     "elapsed": 34,
     "status": "ok",
     "timestamp": 1722357084322,
     "user": {
      "displayName": "Arindam Saha",
      "userId": "13183971684604990720"
     },
     "user_tz": -330
    },
    "id": "seXegtJNxKFK",
    "outputId": "07ab7a99-adef-44f7-b5a1-ac9ee4c01802"
   },
   "outputs": [],
   "source": [
    "df['market_segment_type'].unique()"
   ]
  },
  {
   "cell_type": "code",
   "execution_count": null,
   "metadata": {
    "colab": {
     "base_uri": "https://localhost:8080/"
    },
    "executionInfo": {
     "elapsed": 33,
     "status": "ok",
     "timestamp": 1722357084323,
     "user": {
      "displayName": "Arindam Saha",
      "userId": "13183971684604990720"
     },
     "user_tz": -330
    },
    "id": "zXHtv8zpxTvb",
    "outputId": "20c43f98-937d-44d3-f939-82ee9197eb26"
   },
   "outputs": [],
   "source": [
    "df['booking_status'].unique()"
   ]
  },
  {
   "cell_type": "markdown",
   "metadata": {
    "id": "FSZ9WFb2w-HJ"
   },
   "source": [
    "- There are six different types of rooms available.\n",
    "- Meal plans come in three types, with an option for guests to not select a meal plan.\n",
    "- There are five different market segments.\n",
    "- Booking statuses are either cancelled or not cancelled."
   ]
  },
  {
   "cell_type": "code",
   "execution_count": null,
   "metadata": {
    "colab": {
     "base_uri": "https://localhost:8080/"
    },
    "executionInfo": {
     "elapsed": 30,
     "status": "ok",
     "timestamp": 1722357084323,
     "user": {
      "displayName": "Arindam Saha",
      "userId": "13183971684604990720"
     },
     "user_tz": -330
    },
    "id": "QZrrSdRC1taI",
    "outputId": "8a19f4c8-7e2f-4bd9-e60a-6448e3b603aa"
   },
   "outputs": [],
   "source": [
    "df['no_of_previous_cancellations'].unique()"
   ]
  },
  {
   "cell_type": "code",
   "execution_count": null,
   "metadata": {
    "colab": {
     "base_uri": "https://localhost:8080/"
    },
    "executionInfo": {
     "elapsed": 26,
     "status": "ok",
     "timestamp": 1722357084323,
     "user": {
      "displayName": "Arindam Saha",
      "userId": "13183971684604990720"
     },
     "user_tz": -330
    },
    "id": "kJapohMm2ApO",
    "outputId": "d0abde32-c47d-4932-80a8-af3bb8556665"
   },
   "outputs": [],
   "source": [
    "df['no_of_previous_bookings_not_canceled'].unique()"
   ]
  },
  {
   "cell_type": "markdown",
   "metadata": {
    "id": "yTUGnHtSU6wx"
   },
   "source": [
    "## Exploratory Data Analysis (EDA) Summary"
   ]
  },
  {
   "cell_type": "code",
   "execution_count": null,
   "metadata": {
    "executionInfo": {
     "elapsed": 23,
     "status": "ok",
     "timestamp": 1722357084324,
     "user": {
      "displayName": "Arindam Saha",
      "userId": "13183971684604990720"
     },
     "user_tz": -330
    },
    "id": "BLwO4uaaUpg2"
   },
   "outputs": [],
   "source": [
    "def histogram_boxplot(data, feature, figsize=(15, 10), kde=True, bins=None):\n",
    "    \"\"\"\n",
    "    Boxplot and histogram combined\n",
    "\n",
    "    data: dataframe\n",
    "    feature: dataframe column\n",
    "    figsize: size of figure (default (15,10))\n",
    "    kde: whether to show the density curve (default False)\n",
    "    bins: number of bins for histogram (default None)\n",
    "    \"\"\"\n",
    "    f2, (ax_box2, ax_hist2) = plt.subplots(\n",
    "        nrows=2,  # Number of rows of the subplot grid= 2\n",
    "        sharex=True,  # x-axis will be shared among all subplots\n",
    "        gridspec_kw={\"height_ratios\": (0.25, 0.75)},\n",
    "        figsize=figsize,\n",
    "    )  # creating the 2 subplots\n",
    "    sns.boxplot(\n",
    "        data=data, x=feature, ax=ax_box2, showmeans=True, color=\"violet\"\n",
    "    )  # boxplot will be created and a triangle will indicate the mean value of the column\n",
    "    sns.histplot(\n",
    "        data=data, x=feature, kde=kde, ax=ax_hist2, bins=bins\n",
    "    ) if bins else sns.histplot(\n",
    "        data=data, x=feature, kde=kde, ax=ax_hist2\n",
    "    )  # For histogram\n",
    "    ax_hist2.axvline(\n",
    "        data[feature].mean(), color=\"green\", linestyle=\"--\"\n",
    "    )  # Add mean to the histogram\n",
    "    ax_hist2.axvline(\n",
    "        data[feature].median(), color=\"black\", linestyle=\"-\"\n",
    "    )  # Add median to the histogram"
   ]
  },
  {
   "cell_type": "code",
   "execution_count": null,
   "metadata": {
    "executionInfo": {
     "elapsed": 23,
     "status": "ok",
     "timestamp": 1722357084324,
     "user": {
      "displayName": "Arindam Saha",
      "userId": "13183971684604990720"
     },
     "user_tz": -330
    },
    "id": "JuFzW_IfVMBo"
   },
   "outputs": [],
   "source": [
    "# function to create labeled barplots\n",
    "\n",
    "\n",
    "def labeled_barplot(data, feature, perc=False, n=None):\n",
    "    \"\"\"\n",
    "    Barplot with percentage at the top\n",
    "\n",
    "    data: dataframe\n",
    "    feature: dataframe column\n",
    "    perc: whether to display percentages instead of count (default is False)\n",
    "    n: displays the top n category levels (default is None, i.e., display all levels)\n",
    "    \"\"\"\n",
    "\n",
    "    total = len(data[feature])  # length of the column\n",
    "    count = data[feature].nunique()\n",
    "    if n is None:\n",
    "        plt.figure(figsize=(count + 2, 6))\n",
    "    else:\n",
    "        plt.figure(figsize=(n + 2, 6))\n",
    "\n",
    "    plt.xticks(rotation=90, fontsize=15)\n",
    "    ax = sns.countplot(\n",
    "        data=data,\n",
    "        x=feature,\n",
    "        palette=\"Paired\",\n",
    "        order=data[feature].value_counts().index[:n],\n",
    "    )\n",
    "\n",
    "    for p in ax.patches:\n",
    "        if perc == True:\n",
    "            label = \"{:.1f}%\".format(\n",
    "                100 * p.get_height() / total\n",
    "            )  # percentage of each class of the category\n",
    "        else:\n",
    "            label = p.get_height()  # count of each level of the category\n",
    "\n",
    "        x = p.get_x() + p.get_width() / 2  # width of the plot\n",
    "        y = p.get_height()  # height of the plot\n",
    "\n",
    "        ax.annotate(\n",
    "            label,\n",
    "            (x, y),\n",
    "            ha=\"center\",\n",
    "            va=\"center\",\n",
    "            size=12,\n",
    "            xytext=(0, 5),\n",
    "            textcoords=\"offset points\",\n",
    "        )  # annotate the percentage\n",
    "\n",
    "    plt.show()  # show the plot"
   ]
  },
  {
   "cell_type": "code",
   "execution_count": null,
   "metadata": {
    "executionInfo": {
     "elapsed": 22,
     "status": "ok",
     "timestamp": 1722357084324,
     "user": {
      "displayName": "Arindam Saha",
      "userId": "13183971684604990720"
     },
     "user_tz": -330
    },
    "id": "8autRQHIyv9s"
   },
   "outputs": [],
   "source": [
    "def stacked_barplot(data, predictor, target):\n",
    "    \"\"\"\n",
    "    Print the category counts and plot a stacked bar chart with percentiles\n",
    "\n",
    "    data: dataframe\n",
    "    predictor: independent variable\n",
    "    target: target variable\n",
    "    \"\"\"\n",
    "    count = data[predictor].nunique()\n",
    "    sorter = data[target].value_counts().index[-1]\n",
    "\n",
    "    # Crosstab for counts\n",
    "    tab1 = pd.crosstab(data[predictor], data[target], margins=True).sort_values(\n",
    "        by=sorter, ascending=False\n",
    "    )\n",
    "    print(tab1)\n",
    "    print(\"-\" * 120)\n",
    "\n",
    "    # Crosstab for normalized (percentile) values\n",
    "    tab = pd.crosstab(data[predictor], data[target], normalize=\"index\").sort_values(\n",
    "        by=sorter, ascending=False\n",
    "    )\n",
    "\n",
    "    # Plotting\n",
    "    ax = tab.plot(kind=\"bar\", stacked=True, figsize=(count + 5, 5))\n",
    "    plt.legend(loc=\"upper left\", bbox_to_anchor=(1, 1))\n",
    "\n",
    "    # Annotate with percentiles\n",
    "    for p in ax.patches:\n",
    "        width = p.get_width()\n",
    "        height = p.get_height()\n",
    "        x = p.get_x()\n",
    "        y = p.get_y()\n",
    "        if height > 0:\n",
    "            ax.annotate(f'{height*100:.1f}%', (x + width / 2, y + height / 2),\n",
    "                        ha='center', va='center', fontsize=10, color='white')\n",
    "\n",
    "    plt.show()"
   ]
  },
  {
   "cell_type": "code",
   "execution_count": null,
   "metadata": {
    "executionInfo": {
     "elapsed": 23,
     "status": "ok",
     "timestamp": 1722357084325,
     "user": {
      "displayName": "Arindam Saha",
      "userId": "13183971684604990720"
     },
     "user_tz": -330
    },
    "id": "XKfgVSElVpnA"
   },
   "outputs": [],
   "source": [
    "### function to plot distributions wrt target\n",
    "def distribution_plot_wrt_target(data, predictor, target):\n",
    "\n",
    "    fig, axs = plt.subplots(2, 2, figsize=(12, 10))\n",
    "\n",
    "    target_uniq = data[target].unique()\n",
    "\n",
    "    axs[0, 0].set_title(\"Distribution of target for target=\" + str(target_uniq[0]))\n",
    "    sns.histplot(\n",
    "        data=data[data[target] == target_uniq[0]],\n",
    "        x=predictor,\n",
    "        kde=True,\n",
    "        ax=axs[0, 0],\n",
    "        color=\"teal\",\n",
    "        stat=\"density\",\n",
    "    )\n",
    "\n",
    "    axs[0, 1].set_title(\"Distribution of target for target=\" + str(target_uniq[1]))\n",
    "    sns.histplot(\n",
    "        data=data[data[target] == target_uniq[1]],\n",
    "        x=predictor,\n",
    "        kde=True,\n",
    "        ax=axs[0, 1],\n",
    "        color=\"orange\",\n",
    "        stat=\"density\",\n",
    "    )\n",
    "\n",
    "    axs[1, 0].set_title(\"Boxplot w.r.t target\")\n",
    "    sns.boxplot(data=data, x=target, y=predictor, ax=axs[1, 0], palette=\"gist_rainbow\")\n",
    "\n",
    "    axs[1, 1].set_title(\"Boxplot (without outliers) w.r.t target\")\n",
    "    sns.boxplot(\n",
    "        data=data,\n",
    "        x=target,\n",
    "        y=predictor,\n",
    "        ax=axs[1, 1],\n",
    "        showfliers=False,\n",
    "        palette=\"gist_rainbow\",\n",
    "    )\n",
    "\n",
    "    plt.tight_layout()\n",
    "    plt.show()"
   ]
  },
  {
   "cell_type": "markdown",
   "metadata": {
    "id": "zy_JlMQbv0AI"
   },
   "source": [
    "### Univariate Analysis"
   ]
  },
  {
   "cell_type": "markdown",
   "metadata": {
    "id": "FKum5mPet6v0"
   },
   "source": [
    "#### Observations on no of adults"
   ]
  },
  {
   "cell_type": "code",
   "execution_count": null,
   "metadata": {
    "colab": {
     "base_uri": "https://localhost:8080/",
     "height": 850
    },
    "executionInfo": {
     "elapsed": 810,
     "status": "ok",
     "timestamp": 1722357085112,
     "user": {
      "displayName": "Arindam Saha",
      "userId": "13183971684604990720"
     },
     "user_tz": -330
    },
    "id": "fRhl7vSfVtGm",
    "outputId": "e0552216-d1ef-4973-c379-b16d112cc8b6"
   },
   "outputs": [],
   "source": [
    "histogram_boxplot(df, \"no_of_adults\", bins=50)"
   ]
  },
  {
   "cell_type": "markdown",
   "metadata": {
    "id": "YlpPbRWGulDm"
   },
   "source": [
    "- The majority of bookings were for two adults, totaling over 25,000.\n",
    "- Bookings for three adults were minimal (around 2,500), and bookings for one adult were about 7,500.\n",
    "- The boxplot indicates that bookings with zero, one, and three adults are outliers.\n",
    "- It's important to investigate the reasons behind bookings with zero adults."
   ]
  },
  {
   "cell_type": "code",
   "execution_count": null,
   "metadata": {
    "colab": {
     "base_uri": "https://localhost:8080/"
    },
    "executionInfo": {
     "elapsed": 511,
     "status": "ok",
     "timestamp": 1722357085613,
     "user": {
      "displayName": "Arindam Saha",
      "userId": "13183971684604990720"
     },
     "user_tz": -330
    },
    "id": "IzhmuChAweCC",
    "outputId": "9d507930-10b5-4f88-d855-5db2fd6215d3"
   },
   "outputs": [],
   "source": [
    "rows_with_zero_adults = df[df['no_of_adults'] == 0]\n",
    "print('There are', rows_with_zero_adults.shape[0] ,'no of records having booking with zero adults.')"
   ]
  },
  {
   "cell_type": "markdown",
   "metadata": {
    "id": "k7M0GCpr1KKU"
   },
   "source": [
    "- Now we will try to check if there is any booking made by children for those booking where there is no record of adults."
   ]
  },
  {
   "cell_type": "code",
   "execution_count": null,
   "metadata": {
    "colab": {
     "base_uri": "https://localhost:8080/"
    },
    "executionInfo": {
     "elapsed": 9,
     "status": "ok",
     "timestamp": 1722357085613,
     "user": {
      "displayName": "Arindam Saha",
      "userId": "13183971684604990720"
     },
     "user_tz": -330
    },
    "id": "uNoaJ3UG0Eae",
    "outputId": "42be25a6-8b10-45ec-dd2d-8c112a11f3b1"
   },
   "outputs": [],
   "source": [
    "rows_with_zero_adults['no_of_children'].unique()"
   ]
  },
  {
   "cell_type": "markdown",
   "metadata": {
    "id": "bw6nZnWk1hTC"
   },
   "source": [
    "- It is clear the zero no of adult's booking has some influence of children.\n",
    "- We must check if those bookings were cancelled or not."
   ]
  },
  {
   "cell_type": "code",
   "execution_count": null,
   "metadata": {
    "colab": {
     "base_uri": "https://localhost:8080/"
    },
    "executionInfo": {
     "elapsed": 6,
     "status": "ok",
     "timestamp": 1722357085613,
     "user": {
      "displayName": "Arindam Saha",
      "userId": "13183971684604990720"
     },
     "user_tz": -330
    },
    "id": "0U-XXrcs1ggc",
    "outputId": "16e20119-e617-44c2-aa02-26e73a1eb70d"
   },
   "outputs": [],
   "source": [
    "rows_with_zero_adults['booking_status'].value_counts(normalize=True)"
   ]
  },
  {
   "cell_type": "markdown",
   "metadata": {
    "id": "TFVMsFnh-I3K"
   },
   "source": [
    "- This tells us around 31 percentile of the booking with zero adults got cancelled."
   ]
  },
  {
   "cell_type": "markdown",
   "metadata": {
    "id": "pnIn-hQg-hLM"
   },
   "source": [
    "#### Observations on no of children"
   ]
  },
  {
   "cell_type": "code",
   "execution_count": null,
   "metadata": {
    "colab": {
     "base_uri": "https://localhost:8080/",
     "height": 850
    },
    "executionInfo": {
     "elapsed": 795,
     "status": "ok",
     "timestamp": 1722357086405,
     "user": {
      "displayName": "Arindam Saha",
      "userId": "13183971684604990720"
     },
     "user_tz": -330
    },
    "id": "nkOfDvnQzyr6",
    "outputId": "d59649b4-accd-4ed3-dd37-ac1e17a8bae8"
   },
   "outputs": [],
   "source": [
    "histogram_boxplot(df, \"no_of_children\", bins=50)"
   ]
  },
  {
   "cell_type": "markdown",
   "metadata": {
    "id": "DC1ToeO2-kpR"
   },
   "source": [
    "* Most of the booking were made with zero no of child. But also seems to have outliers present in it.\n",
    "* We need to check if there is any relation with multiple number of children."
   ]
  },
  {
   "cell_type": "code",
   "execution_count": null,
   "metadata": {
    "colab": {
     "base_uri": "https://localhost:8080/",
     "height": 164
    },
    "executionInfo": {
     "elapsed": 23,
     "status": "ok",
     "timestamp": 1722357086407,
     "user": {
      "displayName": "Arindam Saha",
      "userId": "13183971684604990720"
     },
     "user_tz": -330
    },
    "id": "kilhtbTyAD7M",
    "outputId": "004377b7-5a82-4b4c-f684-a7c2174c4770"
   },
   "outputs": [],
   "source": [
    "df[df['no_of_children']>=4]"
   ]
  },
  {
   "cell_type": "markdown",
   "metadata": {
    "id": "IJe2wnZhUeVL"
   },
   "source": [
    "- One or two adults with 9 to 10 children is a rare phenomenon.\n",
    "- We must get more understanding on this from client."
   ]
  },
  {
   "cell_type": "markdown",
   "metadata": {
    "id": "GKCeBE8mVu3W"
   },
   "source": [
    "#### Observation on no of weekend nights"
   ]
  },
  {
   "cell_type": "code",
   "execution_count": null,
   "metadata": {
    "colab": {
     "base_uri": "https://localhost:8080/",
     "height": 850
    },
    "executionInfo": {
     "elapsed": 1472,
     "status": "ok",
     "timestamp": 1722357087859,
     "user": {
      "displayName": "Arindam Saha",
      "userId": "13183971684604990720"
     },
     "user_tz": -330
    },
    "id": "oKvQn30h0syt",
    "outputId": "0ec41610-5480-4aaf-9215-f49bc353ab7a"
   },
   "outputs": [],
   "source": [
    "histogram_boxplot(df, \"no_of_weekend_nights\", bins=50)"
   ]
  },
  {
   "cell_type": "markdown",
   "metadata": {
    "id": "du6xd5xCWM47"
   },
   "source": [
    "- It is right skewe. As booking more than 2 weekend nights means long stay in the hotel.\n",
    "- We shall check in depth to understand these bookings."
   ]
  },
  {
   "cell_type": "code",
   "execution_count": null,
   "metadata": {
    "colab": {
     "base_uri": "https://localhost:8080/",
     "height": 444
    },
    "executionInfo": {
     "elapsed": 40,
     "status": "ok",
     "timestamp": 1722357087859,
     "user": {
      "displayName": "Arindam Saha",
      "userId": "13183971684604990720"
     },
     "user_tz": -330
    },
    "id": "VM3CusxQWvDl",
    "outputId": "f367cbd7-47ec-4e8b-9d6b-b59b43c2e41d"
   },
   "outputs": [],
   "source": [
    "stays_more_than_week=df[df['no_of_weekend_nights']> 2]\n",
    "stays_more_than_week"
   ]
  },
  {
   "cell_type": "code",
   "execution_count": null,
   "metadata": {
    "colab": {
     "base_uri": "https://localhost:8080/"
    },
    "executionInfo": {
     "elapsed": 38,
     "status": "ok",
     "timestamp": 1722357087860,
     "user": {
      "displayName": "Arindam Saha",
      "userId": "13183971684604990720"
     },
     "user_tz": -330
    },
    "id": "Z7yO6X_bXdx-",
    "outputId": "f56e405c-5196-4adb-ca8a-a544ad6a1c67"
   },
   "outputs": [],
   "source": [
    "# check the ratio of cancellation for stays more than a week\n",
    "stays_more_than_week['booking_status'].value_counts(normalize=True)"
   ]
  },
  {
   "cell_type": "markdown",
   "metadata": {
    "id": "5o6bMoLrYLS4"
   },
   "source": [
    "- We can clearly observe that booking with more than 7 days has more probability (~ 60%) of getting cancelled.\n",
    "- We will try to analyze further if we can understand of getting cancelled for these bookings."
   ]
  },
  {
   "cell_type": "code",
   "execution_count": null,
   "metadata": {
    "colab": {
     "base_uri": "https://localhost:8080/",
     "height": 489
    },
    "executionInfo": {
     "elapsed": 35,
     "status": "ok",
     "timestamp": 1722357087861,
     "user": {
      "displayName": "Arindam Saha",
      "userId": "13183971684604990720"
     },
     "user_tz": -330
    },
    "id": "zNJREQ3_Y9Uj",
    "outputId": "a39804f8-42e9-46c9-fd30-d28546c12e0c"
   },
   "outputs": [],
   "source": [
    "stays_more_than_week[stays_more_than_week['booking_status']=='Canceled'].describe().T"
   ]
  },
  {
   "cell_type": "code",
   "execution_count": null,
   "metadata": {
    "colab": {
     "base_uri": "https://localhost:8080/",
     "height": 489
    },
    "executionInfo": {
     "elapsed": 33,
     "status": "ok",
     "timestamp": 1722357087861,
     "user": {
      "displayName": "Arindam Saha",
      "userId": "13183971684604990720"
     },
     "user_tz": -330
    },
    "id": "AEOVz5-6Zikq",
    "outputId": "86d1f9f6-f0c7-4ff9-a293-3e4a5dc77466"
   },
   "outputs": [],
   "source": [
    "stays_more_than_week[stays_more_than_week['booking_status']=='Not_Canceled'].describe().T"
   ]
  },
  {
   "cell_type": "markdown",
   "metadata": {
    "id": "PqkJM7PUa6cn"
   },
   "source": [
    "- Probability of getting cancelled for more than a week bookings might be dependent on the price of the rooms.\n",
    "- Mean observed price of room for cancelled and not cancelled bookings are 108 euros and 97 euros respectively. A little higher mean price could be observed for bookings which got cancelled with the not cancelled bookings."
   ]
  },
  {
   "cell_type": "code",
   "execution_count": null,
   "metadata": {
    "colab": {
     "base_uri": "https://localhost:8080/"
    },
    "executionInfo": {
     "elapsed": 31,
     "status": "ok",
     "timestamp": 1722357087861,
     "user": {
      "displayName": "Arindam Saha",
      "userId": "13183971684604990720"
     },
     "user_tz": -330
    },
    "id": "g-4uNB7J1Aiq",
    "outputId": "8c054f3c-0bfc-45c4-8e0e-17bdf71f9f88"
   },
   "outputs": [],
   "source": [
    "df.columns"
   ]
  },
  {
   "cell_type": "markdown",
   "metadata": {
    "id": "o6BzmbLJdzCD"
   },
   "source": [
    "#### Observations on no of week nights"
   ]
  },
  {
   "cell_type": "code",
   "execution_count": null,
   "metadata": {
    "colab": {
     "base_uri": "https://localhost:8080/",
     "height": 850
    },
    "executionInfo": {
     "elapsed": 1293,
     "status": "ok",
     "timestamp": 1722357089127,
     "user": {
      "displayName": "Arindam Saha",
      "userId": "13183971684604990720"
     },
     "user_tz": -330
    },
    "id": "fpwKbDdP2MAc",
    "outputId": "79df6dca-1f80-4368-b58e-6257f96cfc0c"
   },
   "outputs": [],
   "source": [
    "histogram_boxplot(df, \"no_of_week_nights\", bins=50)"
   ]
  },
  {
   "cell_type": "markdown",
   "metadata": {
    "id": "SNTTggIUd4EF"
   },
   "source": [
    "- Seems to have outliers for the no of week day nights more than ~5.5 days.\n",
    "- We can also check those outliers."
   ]
  },
  {
   "cell_type": "code",
   "execution_count": null,
   "metadata": {
    "colab": {
     "base_uri": "https://localhost:8080/",
     "height": 444
    },
    "executionInfo": {
     "elapsed": 26,
     "status": "ok",
     "timestamp": 1722357089129,
     "user": {
      "displayName": "Arindam Saha",
      "userId": "13183971684604990720"
     },
     "user_tz": -330
    },
    "id": "xltw3Pzyel0d",
    "outputId": "42a6fd13-45d9-45b7-de3d-43f03f399acd"
   },
   "outputs": [],
   "source": [
    "stays_more_than_5_5_days=df[df['no_of_week_nights'] > 5.5]\n",
    "stays_more_than_5_5_days"
   ]
  },
  {
   "cell_type": "code",
   "execution_count": null,
   "metadata": {
    "colab": {
     "base_uri": "https://localhost:8080/"
    },
    "executionInfo": {
     "elapsed": 23,
     "status": "ok",
     "timestamp": 1722357089129,
     "user": {
      "displayName": "Arindam Saha",
      "userId": "13183971684604990720"
     },
     "user_tz": -330
    },
    "id": "0RaNW2sZi9F0",
    "outputId": "f8bbf184-4208-4d45-fbc3-470b0473bb04"
   },
   "outputs": [],
   "source": [
    "stays_more_than_5_5_days['booking_status'].value_counts(normalize=True)"
   ]
  },
  {
   "cell_type": "code",
   "execution_count": null,
   "metadata": {
    "colab": {
     "base_uri": "https://localhost:8080/",
     "height": 489
    },
    "executionInfo": {
     "elapsed": 21,
     "status": "ok",
     "timestamp": 1722357089130,
     "user": {
      "displayName": "Arindam Saha",
      "userId": "13183971684604990720"
     },
     "user_tz": -330
    },
    "id": "CmYDspEWnFVE",
    "outputId": "b97f569b-38fb-490d-9879-b7af3927bc72"
   },
   "outputs": [],
   "source": [
    "stays_more_than_5_5_days[stays_more_than_5_5_days['booking_status']=='Canceled'].describe().T"
   ]
  },
  {
   "cell_type": "code",
   "execution_count": null,
   "metadata": {
    "colab": {
     "base_uri": "https://localhost:8080/",
     "height": 489
    },
    "executionInfo": {
     "elapsed": 1268,
     "status": "ok",
     "timestamp": 1722357090379,
     "user": {
      "displayName": "Arindam Saha",
      "userId": "13183971684604990720"
     },
     "user_tz": -330
    },
    "id": "PwzoOQVsnMmr",
    "outputId": "9b7759e2-de9d-4395-a465-1b07e5373017"
   },
   "outputs": [],
   "source": [
    "stays_more_than_5_5_days[stays_more_than_5_5_days['booking_status']=='Not_Canceled'].describe().T"
   ]
  },
  {
   "cell_type": "markdown",
   "metadata": {
    "id": "8QJjYxN2i8X0"
   },
   "source": [
    "- We can also observe here booking with more than 5.5 week nights has ~10% higher probability of getting cancelled.\n",
    "- Price of rooms are likely to be the main reason for cancellation."
   ]
  },
  {
   "cell_type": "markdown",
   "metadata": {
    "id": "JFYHT7HenTTl"
   },
   "source": [
    "#### Observations on lead_time"
   ]
  },
  {
   "cell_type": "code",
   "execution_count": null,
   "metadata": {
    "colab": {
     "base_uri": "https://localhost:8080/",
     "height": 850
    },
    "executionInfo": {
     "elapsed": 26,
     "status": "ok",
     "timestamp": 1722357090380,
     "user": {
      "displayName": "Arindam Saha",
      "userId": "13183971684604990720"
     },
     "user_tz": -330
    },
    "id": "IZ1dRQ4B2Q_v",
    "outputId": "dd107426-5be4-462c-c11a-a31e08fcf827"
   },
   "outputs": [],
   "source": [
    "histogram_boxplot(df, \"lead_time\", bins=50)"
   ]
  },
  {
   "cell_type": "markdown",
   "metadata": {
    "id": "AJxp7hZrz3gZ"
   },
   "source": [
    "- Lead time seems to be right skewed. It also have some outliers towards the right tail."
   ]
  },
  {
   "cell_type": "code",
   "execution_count": null,
   "metadata": {
    "colab": {
     "base_uri": "https://localhost:8080/",
     "height": 444
    },
    "executionInfo": {
     "elapsed": 22,
     "status": "ok",
     "timestamp": 1722357090380,
     "user": {
      "displayName": "Arindam Saha",
      "userId": "13183971684604990720"
     },
     "user_tz": -330
    },
    "id": "ckPc5f5u0XiV",
    "outputId": "18245459-4593-4657-eca6-cc75234bbf8e"
   },
   "outputs": [],
   "source": [
    "# let's check why the outliers in Lead time\n",
    "lead_time_outliers=df[df['lead_time'] > 290]\n",
    "lead_time_outliers"
   ]
  },
  {
   "cell_type": "code",
   "execution_count": null,
   "metadata": {
    "colab": {
     "base_uri": "https://localhost:8080/"
    },
    "executionInfo": {
     "elapsed": 20,
     "status": "ok",
     "timestamp": 1722357090380,
     "user": {
      "displayName": "Arindam Saha",
      "userId": "13183971684604990720"
     },
     "user_tz": -330
    },
    "id": "T2SB_shZ1MKo",
    "outputId": "a5e79ca4-8892-4bb1-bed6-8444545ab379"
   },
   "outputs": [],
   "source": [
    "# Let's check the cancellation percentile for these booking\n",
    "lead_time_outliers['booking_status'].value_counts(normalize=True)"
   ]
  },
  {
   "cell_type": "markdown",
   "metadata": {
    "id": "5kRABx7h19tu"
   },
   "source": [
    "- It is very clear that if the booking date is very far / prior bookings are likely to get cancelled."
   ]
  },
  {
   "cell_type": "markdown",
   "metadata": {
    "id": "oqI4eSf_3ltq"
   },
   "source": [
    "#### Observation on arival month"
   ]
  },
  {
   "cell_type": "code",
   "execution_count": null,
   "metadata": {
    "colab": {
     "base_uri": "https://localhost:8080/",
     "height": 554
    },
    "executionInfo": {
     "elapsed": 1070,
     "status": "ok",
     "timestamp": 1722357091433,
     "user": {
      "displayName": "Arindam Saha",
      "userId": "13183971684604990720"
     },
     "user_tz": -330
    },
    "id": "fFzBHcdU8taM",
    "outputId": "31d48ea2-5ee9-415a-ed0b-29b2d7948b06"
   },
   "outputs": [],
   "source": [
    "labeled_barplot(df, \"arrival_month\")"
   ]
  },
  {
   "cell_type": "markdown",
   "metadata": {
    "id": "2d9clsXb4D2j"
   },
   "source": [
    "- October has the highest number of arrivals, followed by September and August. January and February have the lowest number of arrivals."
   ]
  },
  {
   "cell_type": "markdown",
   "metadata": {
    "id": "Jh5mpL1K7NUU"
   },
   "source": [
    "#### Observations on avg Price per room"
   ]
  },
  {
   "cell_type": "code",
   "execution_count": null,
   "metadata": {
    "colab": {
     "base_uri": "https://localhost:8080/",
     "height": 850
    },
    "executionInfo": {
     "elapsed": 923,
     "status": "ok",
     "timestamp": 1722357092345,
     "user": {
      "displayName": "Arindam Saha",
      "userId": "13183971684604990720"
     },
     "user_tz": -330
    },
    "id": "SP3CT5cr29SC",
    "outputId": "a7754b53-0819-482e-f07a-d1c0784e6f32"
   },
   "outputs": [],
   "source": [
    "histogram_boxplot(df, \"avg_price_per_room\",bins=50)"
   ]
  },
  {
   "cell_type": "markdown",
   "metadata": {
    "id": "J7R779zz7aIJ"
   },
   "source": [
    "- Distribution looks normal and slightly right skewed with outliers.\n",
    "- Mean and median are almost existing at same point ~ 100-105 Euros."
   ]
  },
  {
   "cell_type": "code",
   "execution_count": null,
   "metadata": {
    "colab": {
     "base_uri": "https://localhost:8080/",
     "height": 444
    },
    "executionInfo": {
     "elapsed": 20,
     "status": "ok",
     "timestamp": 1722357092346,
     "user": {
      "displayName": "Arindam Saha",
      "userId": "13183971684604990720"
     },
     "user_tz": -330
    },
    "id": "6Cm18ojT3OxP",
    "outputId": "36e1248c-a710-46e2-d7f8-fbe0d2249265"
   },
   "outputs": [],
   "source": [
    "# Let's check the outliers\n",
    "AVG_Price_outliers=df[df['avg_price_per_room'] > 200]\n",
    "AVG_Price_outliers"
   ]
  },
  {
   "cell_type": "code",
   "execution_count": null,
   "metadata": {
    "colab": {
     "base_uri": "https://localhost:8080/"
    },
    "executionInfo": {
     "elapsed": 17,
     "status": "ok",
     "timestamp": 1722357092346,
     "user": {
      "displayName": "Arindam Saha",
      "userId": "13183971684604990720"
     },
     "user_tz": -330
    },
    "id": "2r53Qiux9y9J",
    "outputId": "20bc5ed5-b9a1-4c57-efbd-7d84c38cd274"
   },
   "outputs": [],
   "source": [
    "AVG_Price_outliers['booking_status'].value_counts(normalize=True)"
   ]
  },
  {
   "cell_type": "markdown",
   "metadata": {
    "id": "DVF9uzxH_jGM"
   },
   "source": [
    "- Outliers seems to have no influence on booking cancellation."
   ]
  },
  {
   "cell_type": "markdown",
   "metadata": {
    "id": "Cv593h2QI2v7"
   },
   "source": [
    "#### Observation on market segment"
   ]
  },
  {
   "cell_type": "code",
   "execution_count": null,
   "metadata": {
    "colab": {
     "base_uri": "https://localhost:8080/",
     "height": 696
    },
    "executionInfo": {
     "elapsed": 1498,
     "status": "ok",
     "timestamp": 1722357093830,
     "user": {
      "displayName": "Arindam Saha",
      "userId": "13183971684604990720"
     },
     "user_tz": -330
    },
    "id": "7aHGYyur_STI",
    "outputId": "e937e06f-29dc-46e5-a96f-8538dd3bc315"
   },
   "outputs": [],
   "source": [
    "labeled_barplot(df,'market_segment_type')"
   ]
  },
  {
   "cell_type": "code",
   "execution_count": null,
   "metadata": {
    "colab": {
     "base_uri": "https://localhost:8080/"
    },
    "executionInfo": {
     "elapsed": 34,
     "status": "ok",
     "timestamp": 1722357093830,
     "user": {
      "displayName": "Arindam Saha",
      "userId": "13183971684604990720"
     },
     "user_tz": -330
    },
    "id": "lWlM1zmlIyL7",
    "outputId": "d14864f5-1815-4ee8-f74a-7cefeb0d2d00"
   },
   "outputs": [],
   "source": [
    "df['market_segment_type'].value_counts(normalize = True)"
   ]
  },
  {
   "cell_type": "markdown",
   "metadata": {
    "id": "fPbs_Dv9I8Nx"
   },
   "source": [
    "- The online mode is the most dominant market segment (~64%), followed by the offline mode (29%).\n",
    "- Bookings in the complimentary and aviation market segments are very few."
   ]
  },
  {
   "cell_type": "markdown",
   "metadata": {
    "id": "X_NESy8GKeiY"
   },
   "source": [
    "#### Observations on room type reserved"
   ]
  },
  {
   "cell_type": "code",
   "execution_count": null,
   "metadata": {
    "colab": {
     "base_uri": "https://localhost:8080/",
     "height": 666
    },
    "executionInfo": {
     "elapsed": 30,
     "status": "ok",
     "timestamp": 1722357093831,
     "user": {
      "displayName": "Arindam Saha",
      "userId": "13183971684604990720"
     },
     "user_tz": -330
    },
    "id": "8qK_n7WNKPu2",
    "outputId": "be300be3-d363-42a4-8e2f-625998ef9861"
   },
   "outputs": [],
   "source": [
    "labeled_barplot(df,'room_type_reserved')"
   ]
  },
  {
   "cell_type": "code",
   "execution_count": null,
   "metadata": {
    "colab": {
     "base_uri": "https://localhost:8080/"
    },
    "executionInfo": {
     "elapsed": 29,
     "status": "ok",
     "timestamp": 1722357093832,
     "user": {
      "displayName": "Arindam Saha",
      "userId": "13183971684604990720"
     },
     "user_tz": -330
    },
    "id": "jZxUtskwLcBq",
    "outputId": "a08246c2-24ae-425c-c965-5bacf5363884"
   },
   "outputs": [],
   "source": [
    "df['room_type_reserved'].value_counts(normalize = True)"
   ]
  },
  {
   "cell_type": "markdown",
   "metadata": {
    "id": "ZDYOtel-K0vT"
   },
   "source": [
    "- Type one rooms were booked the most (77%), followed by type four rooms (~17%). Other types of rooms had significantly fewer bookings."
   ]
  },
  {
   "cell_type": "markdown",
   "metadata": {
    "id": "jajS77Bn7IoA"
   },
   "source": [
    "#### Observation on booking status\n"
   ]
  },
  {
   "cell_type": "code",
   "execution_count": null,
   "metadata": {
    "colab": {
     "base_uri": "https://localhost:8080/",
     "height": 672
    },
    "executionInfo": {
     "elapsed": 27,
     "status": "ok",
     "timestamp": 1722357093833,
     "user": {
      "displayName": "Arindam Saha",
      "userId": "13183971684604990720"
     },
     "user_tz": -330
    },
    "id": "DHfm_gF-7ZTo",
    "outputId": "2bb18601-37f5-49e6-fbfd-a53246e99151"
   },
   "outputs": [],
   "source": [
    "labeled_barplot(df,'booking_status')"
   ]
  },
  {
   "cell_type": "code",
   "execution_count": null,
   "metadata": {
    "colab": {
     "base_uri": "https://localhost:8080/"
    },
    "executionInfo": {
     "elapsed": 25,
     "status": "ok",
     "timestamp": 1722357093833,
     "user": {
      "displayName": "Arindam Saha",
      "userId": "13183971684604990720"
     },
     "user_tz": -330
    },
    "id": "YZs6gTy97og-",
    "outputId": "2f4b15b4-59c8-421f-e2ea-60d82f9095cc"
   },
   "outputs": [],
   "source": [
    "df['booking_status'].value_counts(normalize=True)"
   ]
  },
  {
   "cell_type": "markdown",
   "metadata": {
    "id": "k5x3WG1Y8nfk"
   },
   "source": [
    "- Almost one third of the total bookings got cancelled."
   ]
  },
  {
   "cell_type": "markdown",
   "metadata": {
    "id": "ZllMlYI5NkSD"
   },
   "source": [
    "### Bivariate Analysis"
   ]
  },
  {
   "cell_type": "code",
   "execution_count": null,
   "metadata": {
    "colab": {
     "base_uri": "https://localhost:8080/",
     "height": 864
    },
    "executionInfo": {
     "elapsed": 2709,
     "status": "ok",
     "timestamp": 1722357103877,
     "user": {
      "displayName": "Arindam Saha",
      "userId": "13183971684604990720"
     },
     "user_tz": -330
    },
    "id": "iMu0VCYrgp81",
    "outputId": "7f299da4-3b39-43ab-dbcc-e50c9db27c14"
   },
   "outputs": [],
   "source": [
    "df1=data.copy()\n",
    "df1[\"booking_status\"] = df1[\"booking_status\"].apply(lambda x: 1 if x == \"Canceled\" else 0)\n",
    "plt.figure(figsize=(15, 7))\n",
    "sns.heatmap(df1.corr(numeric_only = True), annot=True, vmin=-1, vmax=1, fmt=\".2f\", cmap=\"Spectral\")\n",
    "plt.show()\n"
   ]
  },
  {
   "cell_type": "code",
   "execution_count": null,
   "metadata": {
    "colab": {
     "base_uri": "https://localhost:8080/",
     "height": 1000,
     "output_embedded_package_id": "105ayHzhgDJrbCdRAMDQuYKno0OHzKA81"
    },
    "executionInfo": {
     "elapsed": 618932,
     "status": "ok",
     "timestamp": 1722357750425,
     "user": {
      "displayName": "Arindam Saha",
      "userId": "13183971684604990720"
     },
     "user_tz": -330
    },
    "id": "5VW92jt2hFdm",
    "outputId": "d9376540-d855-4aab-f301-47148395e8bb"
   },
   "outputs": [],
   "source": [
    "sns.pairplot(df, hue=\"booking_status\")\n",
    "plt.show()"
   ]
  },
  {
   "cell_type": "markdown",
   "metadata": {
    "id": "-vzaBfKvPxh2"
   },
   "source": [
    "#### Bivariate market segment vs price"
   ]
  },
  {
   "cell_type": "code",
   "execution_count": null,
   "metadata": {
    "colab": {
     "base_uri": "https://localhost:8080/",
     "height": 619
    },
    "executionInfo": {
     "elapsed": 34,
     "status": "ok",
     "timestamp": 1722357750427,
     "user": {
      "displayName": "Arindam Saha",
      "userId": "13183971684604990720"
     },
     "user_tz": -330
    },
    "id": "C96Nb9HkQeAr",
    "outputId": "083cd49b-68f8-41eb-b0cd-002440c8b776"
   },
   "outputs": [],
   "source": [
    "plt.figure(figsize=(10,7))\n",
    "sns.boxplot(data=df,x='market_segment_type',y='avg_price_per_room');"
   ]
  },
  {
   "cell_type": "markdown",
   "metadata": {
    "id": "hkVaNpM7ziXe"
   },
   "source": [
    "- Outliers can be observed in all the market segments."
   ]
  },
  {
   "cell_type": "code",
   "execution_count": null,
   "metadata": {
    "colab": {
     "base_uri": "https://localhost:8080/",
     "height": 619
    },
    "executionInfo": {
     "elapsed": 1719,
     "status": "ok",
     "timestamp": 1722357752115,
     "user": {
      "displayName": "Arindam Saha",
      "userId": "13183971684604990720"
     },
     "user_tz": -330
    },
    "id": "LVCldvrITPAB",
    "outputId": "e514fc77-add7-4b66-9df3-b23fa5ae9cf8"
   },
   "outputs": [],
   "source": [
    "plt.figure(figsize=(10,7))\n",
    "sns.boxplot(data=df,x='market_segment_type',y='avg_price_per_room',showfliers =False);"
   ]
  },
  {
   "cell_type": "markdown",
   "metadata": {
    "id": "uAgAc26Szpp4"
   },
   "source": [
    "- The mean price per room for Online market segments are at the highest level.\n",
    "- Further analysis will be needed to check if the cancellation probability is more or not."
   ]
  },
  {
   "cell_type": "code",
   "execution_count": null,
   "metadata": {
    "colab": {
     "base_uri": "https://localhost:8080/",
     "height": 619
    },
    "executionInfo": {
     "elapsed": 134,
     "status": "ok",
     "timestamp": 1722357752116,
     "user": {
      "displayName": "Arindam Saha",
      "userId": "13183971684604990720"
     },
     "user_tz": -330
    },
    "id": "g6vgcNL5UjpH",
    "outputId": "a4cf1aed-8c9a-4306-b486-ec4fb9340512"
   },
   "outputs": [],
   "source": [
    "plt.figure(figsize=(10,7))\n",
    "sns.boxplot(data=df,x='market_segment_type',y='avg_price_per_room',hue='booking_status',showfliers =False);"
   ]
  },
  {
   "cell_type": "markdown",
   "metadata": {
    "id": "m7Vcx2dU2mye"
   },
   "source": [
    "- For corporate and offline bookings, the mean price per room for cancelled bookings was significantly higher compared to non-cancelled bookings.\n",
    "- In contrast, online and aviation bookings exhibited nearly identical room prices regardless of whether the bookings were cancelled or not."
   ]
  },
  {
   "cell_type": "code",
   "execution_count": null,
   "metadata": {
    "colab": {
     "base_uri": "https://localhost:8080/"
    },
    "executionInfo": {
     "elapsed": 127,
     "status": "ok",
     "timestamp": 1722357752117,
     "user": {
      "displayName": "Arindam Saha",
      "userId": "13183971684604990720"
     },
     "user_tz": -330
    },
    "id": "NGxKkryQsPR5",
    "outputId": "bbddc2b4-cf6b-43c9-c24a-152e88356773"
   },
   "outputs": [],
   "source": [
    "Online_market_segment=df[df['market_segment_type']=='Online']\n",
    "Online_market_segment['booking_status'].value_counts(normalize=True)"
   ]
  },
  {
   "cell_type": "code",
   "execution_count": null,
   "metadata": {
    "colab": {
     "base_uri": "https://localhost:8080/"
    },
    "executionInfo": {
     "elapsed": 121,
     "status": "ok",
     "timestamp": 1722357752119,
     "user": {
      "displayName": "Arindam Saha",
      "userId": "13183971684604990720"
     },
     "user_tz": -330
    },
    "id": "sTWnvxq90rRL",
    "outputId": "a756dbb7-360b-4024-c7bb-5c8dd97188d6"
   },
   "outputs": [],
   "source": [
    "Offline_market_segment=df[df['market_segment_type']=='Offline']\n",
    "Offline_market_segment['booking_status'].value_counts(normalize=True)"
   ]
  },
  {
   "cell_type": "code",
   "execution_count": null,
   "metadata": {
    "colab": {
     "base_uri": "https://localhost:8080/"
    },
    "executionInfo": {
     "elapsed": 115,
     "status": "ok",
     "timestamp": 1722357752120,
     "user": {
      "displayName": "Arindam Saha",
      "userId": "13183971684604990720"
     },
     "user_tz": -330
    },
    "id": "LS5EQZJ001Uo",
    "outputId": "49c9a4d5-6f71-460f-9985-d9069c968c57"
   },
   "outputs": [],
   "source": [
    "Corporate_market_segment=df[df['market_segment_type']=='Corporate']\n",
    "Corporate_market_segment['booking_status'].value_counts(normalize=True)"
   ]
  },
  {
   "cell_type": "code",
   "execution_count": null,
   "metadata": {
    "colab": {
     "base_uri": "https://localhost:8080/"
    },
    "executionInfo": {
     "elapsed": 110,
     "status": "ok",
     "timestamp": 1722357752120,
     "user": {
      "displayName": "Arindam Saha",
      "userId": "13183971684604990720"
     },
     "user_tz": -330
    },
    "id": "kIYmJUsb0_od",
    "outputId": "09b2a69c-8801-41ab-cf7f-399baefce670"
   },
   "outputs": [],
   "source": [
    "Aviation_market_segment=df[df['market_segment_type']=='Aviation']\n",
    "Aviation_market_segment['booking_status'].value_counts(normalize=True)"
   ]
  },
  {
   "cell_type": "code",
   "execution_count": null,
   "metadata": {
    "colab": {
     "base_uri": "https://localhost:8080/"
    },
    "executionInfo": {
     "elapsed": 106,
     "status": "ok",
     "timestamp": 1722357752121,
     "user": {
      "displayName": "Arindam Saha",
      "userId": "13183971684604990720"
     },
     "user_tz": -330
    },
    "id": "Zsu9GqNh1KB4",
    "outputId": "0affeb60-2295-48f4-942a-23902004c62d"
   },
   "outputs": [],
   "source": [
    "Complementary_market_segment=df[df['market_segment_type']=='Complementary']\n",
    "Complementary_market_segment['booking_status'].value_counts(normalize=True)"
   ]
  },
  {
   "cell_type": "markdown",
   "metadata": {
    "id": "ltv7oPwD4XEu"
   },
   "source": [
    "- Online bookings have a higher probability of cancellation at 36.5%, compared to offline and aviation bookings, which have a cancellation probability of around 30%."
   ]
  },
  {
   "cell_type": "markdown",
   "metadata": {
    "id": "svcCA0ak87eR"
   },
   "source": [
    "#### Bivariate on repeating guest"
   ]
  },
  {
   "cell_type": "code",
   "execution_count": null,
   "metadata": {
    "colab": {
     "base_uri": "https://localhost:8080/"
    },
    "executionInfo": {
     "elapsed": 104,
     "status": "ok",
     "timestamp": 1722357752123,
     "user": {
      "displayName": "Arindam Saha",
      "userId": "13183971684604990720"
     },
     "user_tz": -330
    },
    "id": "zA-QUiBU1d0-",
    "outputId": "e43d951b-b7ee-4d9a-fbba-7b66f6c160fc"
   },
   "outputs": [],
   "source": [
    "repeadted_guest_list=df[df['repeated_guest']==1]\n",
    "repeadted_guest_list['booking_status'].value_counts(normalize=True)"
   ]
  },
  {
   "cell_type": "code",
   "execution_count": null,
   "metadata": {
    "colab": {
     "base_uri": "https://localhost:8080/",
     "height": 564
    },
    "executionInfo": {
     "elapsed": 99,
     "status": "ok",
     "timestamp": 1722357752123,
     "user": {
      "displayName": "Arindam Saha",
      "userId": "13183971684604990720"
     },
     "user_tz": -330
    },
    "id": "KBySLBSR9YH1",
    "outputId": "ede6cf6e-e513-473f-b1dd-a0f006552674"
   },
   "outputs": [],
   "source": [
    "stacked_barplot(df,'repeated_guest','booking_status')"
   ]
  },
  {
   "cell_type": "markdown",
   "metadata": {
    "id": "-eG6906O_2uZ"
   },
   "source": [
    "- Repeat guests are less likely to cancel (1.7%) their bookings compared to new guests.\n",
    "- We can also check what are the no of previous booking not cancelled and how many of them are fall in the repeated guests."
   ]
  },
  {
   "cell_type": "code",
   "execution_count": null,
   "metadata": {
    "colab": {
     "base_uri": "https://localhost:8080/"
    },
    "executionInfo": {
     "elapsed": 94,
     "status": "ok",
     "timestamp": 1722357752125,
     "user": {
      "displayName": "Arindam Saha",
      "userId": "13183971684604990720"
     },
     "user_tz": -330
    },
    "id": "vSUoplIK3Qe1",
    "outputId": "a8e67ecb-d134-496e-b29b-cb1e4e50a66e"
   },
   "outputs": [],
   "source": [
    "previous_bookings_not_canceled=df[df['no_of_previous_bookings_not_canceled']>0]\n",
    "previous_bookings_not_canceled['repeated_guest'].value_counts()"
   ]
  },
  {
   "cell_type": "code",
   "execution_count": null,
   "metadata": {
    "colab": {
     "base_uri": "https://localhost:8080/",
     "height": 73
    },
    "executionInfo": {
     "elapsed": 90,
     "status": "ok",
     "timestamp": 1722357752126,
     "user": {
      "displayName": "Arindam Saha",
      "userId": "13183971684604990720"
     },
     "user_tz": -330
    },
    "id": "doo-fe4O5QEl",
    "outputId": "807da228-5e00-42ba-ae89-39f5eec79287"
   },
   "outputs": [],
   "source": [
    "previous_bookings_not_canceled[previous_bookings_not_canceled['booking_status']=='Cancelled']"
   ]
  },
  {
   "cell_type": "markdown",
   "metadata": {
    "id": "MVBvcwF75F8A"
   },
   "source": [
    "- The guests who did not cancelled their bookings previously, seems to be the repeated guests who did not calcelled new bookings as well."
   ]
  },
  {
   "cell_type": "markdown",
   "metadata": {
    "id": "g274K8Ih6Q7d"
   },
   "source": [
    "#### Observation on special requests"
   ]
  },
  {
   "cell_type": "code",
   "execution_count": null,
   "metadata": {
    "colab": {
     "base_uri": "https://localhost:8080/"
    },
    "executionInfo": {
     "elapsed": 86,
     "status": "ok",
     "timestamp": 1722357752126,
     "user": {
      "displayName": "Arindam Saha",
      "userId": "13183971684604990720"
     },
     "user_tz": -330
    },
    "id": "f3ba6YJV-Vo7",
    "outputId": "6d51ea3d-d8dd-4de9-d9cb-b260ef0039d6"
   },
   "outputs": [],
   "source": [
    "special_req_list=df[df['no_of_special_requests']>0]\n",
    "special_req_list['booking_status'].value_counts(normalize=True)"
   ]
  },
  {
   "cell_type": "code",
   "execution_count": null,
   "metadata": {
    "colab": {
     "base_uri": "https://localhost:8080/"
    },
    "executionInfo": {
     "elapsed": 81,
     "status": "ok",
     "timestamp": 1722357752126,
     "user": {
      "displayName": "Arindam Saha",
      "userId": "13183971684604990720"
     },
     "user_tz": -330
    },
    "id": "q5wlmKlo1MJ2",
    "outputId": "ab81e00d-662d-4dea-afe3-11494a1aebb0"
   },
   "outputs": [],
   "source": [
    "special_req_list['no_of_previous_cancellations'].value_counts()"
   ]
  },
  {
   "cell_type": "code",
   "execution_count": null,
   "metadata": {
    "colab": {
     "base_uri": "https://localhost:8080/"
    },
    "executionInfo": {
     "elapsed": 77,
     "status": "ok",
     "timestamp": 1722357752127,
     "user": {
      "displayName": "Arindam Saha",
      "userId": "13183971684604990720"
     },
     "user_tz": -330
    },
    "id": "yg9JITjR2eB_",
    "outputId": "eabedaeb-003a-4a5c-c069-8dad84bda58e"
   },
   "outputs": [],
   "source": [
    "special_req_list[special_req_list['no_of_previous_cancellations']>1].shape[0]"
   ]
  },
  {
   "cell_type": "markdown",
   "metadata": {
    "id": "mxmpIFyn7BA2"
   },
   "source": [
    "- Guests who make special requests are less likely to cancel their bookings. Historically, only 69 guests with special requests have cancelled their bookings. Currently, the cancellation rate for bookings with special requests is just 20%."
   ]
  },
  {
   "cell_type": "markdown",
   "metadata": {},
   "source": [
    " # Logistic Regression"
   ]
  },
  {
   "cell_type": "markdown",
   "metadata": {
    "id": "VijDu2OY-ad8"
   },
   "source": [
    "### Data Preprocessing"
   ]
  },
  {
   "cell_type": "markdown",
   "metadata": {
    "id": "2n03uZNQ-gOJ"
   },
   "source": [
    "- We can drop 'no_of_children', 'required_car_parking_space', 'no_of_previous_cancellations','no_of_previous_bookings_not_canceled', and 'repeated_guest' as most of the observations are 0 in these variables.\n",
    "- 'Booking_ID' we can drop as it is a unique value no influence can be observed.\n",
    "- There are many outliers in the data which we will treat (perform capping of outliers)\n",
    "  - All the values smaller than the lower whisker will be assigned the value of the lower whisker, and all the values above the upper whisker will be assigned the value of the upper whisker.\n"
   ]
  },
  {
   "cell_type": "code",
   "execution_count": 18,
   "metadata": {
    "executionInfo": {
     "elapsed": 73,
     "status": "ok",
     "timestamp": 1722357752128,
     "user": {
      "displayName": "Arindam Saha",
      "userId": "13183971684604990720"
     },
     "user_tz": -330
    },
    "id": "1hNAn5Lrbt86"
   },
   "outputs": [],
   "source": [
    "# Define labeling function\n",
    "def label_bookings(count):\n",
    "    if count < 1:\n",
    "        return 'Very Low'\n",
    "    elif count <= 5:\n",
    "        return 'Low'\n",
    "    elif count <= 15:\n",
    "        return 'Medium'\n",
    "    elif count <= 30:\n",
    "        return 'High'\n",
    "    else:\n",
    "        return 'Very High'\n",
    "\n",
    "# Apply the labeling function to the dataframe\n",
    "df['booking_label'] = df['no_of_previous_bookings_not_canceled'].apply(label_bookings)"
   ]
  },
  {
   "cell_type": "code",
   "execution_count": 19,
   "metadata": {
    "executionInfo": {
     "elapsed": 72,
     "status": "ok",
     "timestamp": 1722357752129,
     "user": {
      "displayName": "Arindam Saha",
      "userId": "13183971684604990720"
     },
     "user_tz": -330
    },
    "id": "kxY0OSk6c710"
   },
   "outputs": [],
   "source": [
    "# Define the function to label the data\n",
    "def label_cancellations(row):\n",
    "    if row['no_of_previous_cancellations'] == 0:\n",
    "        return 'No Cancellations'\n",
    "    elif row['no_of_previous_cancellations'] <= 5:\n",
    "        return 'Few Cancellations'\n",
    "    elif row['no_of_previous_cancellations'] <= 10:\n",
    "        return 'Moderate Cancellations'\n",
    "    else:\n",
    "        return 'Frequent Cancellations'\n",
    "\n",
    "# Apply the labeling function\n",
    "df['cancellation_label'] = df.apply(label_cancellations, axis=1)"
   ]
  },
  {
   "cell_type": "code",
   "execution_count": 20,
   "metadata": {
    "executionInfo": {
     "elapsed": 72,
     "status": "ok",
     "timestamp": 1722357752129,
     "user": {
      "displayName": "Arindam Saha",
      "userId": "13183971684604990720"
     },
     "user_tz": -330
    },
    "id": "Mq_5-GM7de0v"
   },
   "outputs": [],
   "source": [
    "df['repeated_guest'] = df['repeated_guest'].map({0: 'No', 1: 'Yes'})"
   ]
  },
  {
   "cell_type": "code",
   "execution_count": 21,
   "metadata": {
    "colab": {
     "base_uri": "https://localhost:8080/",
     "height": 383
    },
    "executionInfo": {
     "elapsed": 71,
     "status": "ok",
     "timestamp": 1722357752129,
     "user": {
      "displayName": "Arindam Saha",
      "userId": "13183971684604990720"
     },
     "user_tz": -330
    },
    "id": "uiYC_PZ4eJAk",
    "outputId": "c3cfe5d6-08df-4858-ae68-02dd3b390a1a"
   },
   "outputs": [
    {
     "data": {
      "text/html": [
       "<div>\n",
       "<style scoped>\n",
       "    .dataframe tbody tr th:only-of-type {\n",
       "        vertical-align: middle;\n",
       "    }\n",
       "\n",
       "    .dataframe tbody tr th {\n",
       "        vertical-align: top;\n",
       "    }\n",
       "\n",
       "    .dataframe thead th {\n",
       "        text-align: right;\n",
       "    }\n",
       "</style>\n",
       "<table border=\"1\" class=\"dataframe\">\n",
       "  <thead>\n",
       "    <tr style=\"text-align: right;\">\n",
       "      <th></th>\n",
       "      <th>Booking_ID</th>\n",
       "      <th>no_of_adults</th>\n",
       "      <th>no_of_children</th>\n",
       "      <th>no_of_weekend_nights</th>\n",
       "      <th>no_of_week_nights</th>\n",
       "      <th>type_of_meal_plan</th>\n",
       "      <th>required_car_parking_space</th>\n",
       "      <th>room_type_reserved</th>\n",
       "      <th>lead_time</th>\n",
       "      <th>arrival_year</th>\n",
       "      <th>arrival_month</th>\n",
       "      <th>arrival_date</th>\n",
       "      <th>market_segment_type</th>\n",
       "      <th>repeated_guest</th>\n",
       "      <th>no_of_previous_cancellations</th>\n",
       "      <th>no_of_previous_bookings_not_canceled</th>\n",
       "      <th>avg_price_per_room</th>\n",
       "      <th>no_of_special_requests</th>\n",
       "      <th>booking_status</th>\n",
       "      <th>booking_label</th>\n",
       "      <th>cancellation_label</th>\n",
       "    </tr>\n",
       "  </thead>\n",
       "  <tbody>\n",
       "    <tr>\n",
       "      <th>0</th>\n",
       "      <td>INN00001</td>\n",
       "      <td>2</td>\n",
       "      <td>0</td>\n",
       "      <td>1</td>\n",
       "      <td>2</td>\n",
       "      <td>Meal Plan 1</td>\n",
       "      <td>0</td>\n",
       "      <td>Room_Type 1</td>\n",
       "      <td>224</td>\n",
       "      <td>2017</td>\n",
       "      <td>10</td>\n",
       "      <td>2</td>\n",
       "      <td>Offline</td>\n",
       "      <td>No</td>\n",
       "      <td>0</td>\n",
       "      <td>0</td>\n",
       "      <td>65.00</td>\n",
       "      <td>0</td>\n",
       "      <td>Not_Canceled</td>\n",
       "      <td>Very Low</td>\n",
       "      <td>No Cancellations</td>\n",
       "    </tr>\n",
       "    <tr>\n",
       "      <th>1</th>\n",
       "      <td>INN00002</td>\n",
       "      <td>2</td>\n",
       "      <td>0</td>\n",
       "      <td>2</td>\n",
       "      <td>3</td>\n",
       "      <td>Not Selected</td>\n",
       "      <td>0</td>\n",
       "      <td>Room_Type 1</td>\n",
       "      <td>5</td>\n",
       "      <td>2018</td>\n",
       "      <td>11</td>\n",
       "      <td>6</td>\n",
       "      <td>Online</td>\n",
       "      <td>No</td>\n",
       "      <td>0</td>\n",
       "      <td>0</td>\n",
       "      <td>106.68</td>\n",
       "      <td>1</td>\n",
       "      <td>Not_Canceled</td>\n",
       "      <td>Very Low</td>\n",
       "      <td>No Cancellations</td>\n",
       "    </tr>\n",
       "    <tr>\n",
       "      <th>2</th>\n",
       "      <td>INN00003</td>\n",
       "      <td>1</td>\n",
       "      <td>0</td>\n",
       "      <td>2</td>\n",
       "      <td>1</td>\n",
       "      <td>Meal Plan 1</td>\n",
       "      <td>0</td>\n",
       "      <td>Room_Type 1</td>\n",
       "      <td>1</td>\n",
       "      <td>2018</td>\n",
       "      <td>2</td>\n",
       "      <td>28</td>\n",
       "      <td>Online</td>\n",
       "      <td>No</td>\n",
       "      <td>0</td>\n",
       "      <td>0</td>\n",
       "      <td>60.00</td>\n",
       "      <td>0</td>\n",
       "      <td>Canceled</td>\n",
       "      <td>Very Low</td>\n",
       "      <td>No Cancellations</td>\n",
       "    </tr>\n",
       "    <tr>\n",
       "      <th>3</th>\n",
       "      <td>INN00004</td>\n",
       "      <td>2</td>\n",
       "      <td>0</td>\n",
       "      <td>0</td>\n",
       "      <td>2</td>\n",
       "      <td>Meal Plan 1</td>\n",
       "      <td>0</td>\n",
       "      <td>Room_Type 1</td>\n",
       "      <td>211</td>\n",
       "      <td>2018</td>\n",
       "      <td>5</td>\n",
       "      <td>20</td>\n",
       "      <td>Online</td>\n",
       "      <td>No</td>\n",
       "      <td>0</td>\n",
       "      <td>0</td>\n",
       "      <td>100.00</td>\n",
       "      <td>0</td>\n",
       "      <td>Canceled</td>\n",
       "      <td>Very Low</td>\n",
       "      <td>No Cancellations</td>\n",
       "    </tr>\n",
       "    <tr>\n",
       "      <th>4</th>\n",
       "      <td>INN00005</td>\n",
       "      <td>2</td>\n",
       "      <td>0</td>\n",
       "      <td>1</td>\n",
       "      <td>1</td>\n",
       "      <td>Not Selected</td>\n",
       "      <td>0</td>\n",
       "      <td>Room_Type 1</td>\n",
       "      <td>48</td>\n",
       "      <td>2018</td>\n",
       "      <td>4</td>\n",
       "      <td>11</td>\n",
       "      <td>Online</td>\n",
       "      <td>No</td>\n",
       "      <td>0</td>\n",
       "      <td>0</td>\n",
       "      <td>94.50</td>\n",
       "      <td>0</td>\n",
       "      <td>Canceled</td>\n",
       "      <td>Very Low</td>\n",
       "      <td>No Cancellations</td>\n",
       "    </tr>\n",
       "    <tr>\n",
       "      <th>5</th>\n",
       "      <td>INN00006</td>\n",
       "      <td>2</td>\n",
       "      <td>0</td>\n",
       "      <td>0</td>\n",
       "      <td>2</td>\n",
       "      <td>Meal Plan 2</td>\n",
       "      <td>0</td>\n",
       "      <td>Room_Type 1</td>\n",
       "      <td>346</td>\n",
       "      <td>2018</td>\n",
       "      <td>9</td>\n",
       "      <td>13</td>\n",
       "      <td>Online</td>\n",
       "      <td>No</td>\n",
       "      <td>0</td>\n",
       "      <td>0</td>\n",
       "      <td>115.00</td>\n",
       "      <td>1</td>\n",
       "      <td>Canceled</td>\n",
       "      <td>Very Low</td>\n",
       "      <td>No Cancellations</td>\n",
       "    </tr>\n",
       "    <tr>\n",
       "      <th>6</th>\n",
       "      <td>INN00007</td>\n",
       "      <td>2</td>\n",
       "      <td>0</td>\n",
       "      <td>1</td>\n",
       "      <td>3</td>\n",
       "      <td>Meal Plan 1</td>\n",
       "      <td>0</td>\n",
       "      <td>Room_Type 1</td>\n",
       "      <td>34</td>\n",
       "      <td>2017</td>\n",
       "      <td>10</td>\n",
       "      <td>15</td>\n",
       "      <td>Online</td>\n",
       "      <td>No</td>\n",
       "      <td>0</td>\n",
       "      <td>0</td>\n",
       "      <td>107.55</td>\n",
       "      <td>1</td>\n",
       "      <td>Not_Canceled</td>\n",
       "      <td>Very Low</td>\n",
       "      <td>No Cancellations</td>\n",
       "    </tr>\n",
       "    <tr>\n",
       "      <th>7</th>\n",
       "      <td>INN00008</td>\n",
       "      <td>2</td>\n",
       "      <td>0</td>\n",
       "      <td>1</td>\n",
       "      <td>3</td>\n",
       "      <td>Meal Plan 1</td>\n",
       "      <td>0</td>\n",
       "      <td>Room_Type 4</td>\n",
       "      <td>83</td>\n",
       "      <td>2018</td>\n",
       "      <td>12</td>\n",
       "      <td>26</td>\n",
       "      <td>Online</td>\n",
       "      <td>No</td>\n",
       "      <td>0</td>\n",
       "      <td>0</td>\n",
       "      <td>105.61</td>\n",
       "      <td>1</td>\n",
       "      <td>Not_Canceled</td>\n",
       "      <td>Very Low</td>\n",
       "      <td>No Cancellations</td>\n",
       "    </tr>\n",
       "    <tr>\n",
       "      <th>8</th>\n",
       "      <td>INN00009</td>\n",
       "      <td>3</td>\n",
       "      <td>0</td>\n",
       "      <td>0</td>\n",
       "      <td>4</td>\n",
       "      <td>Meal Plan 1</td>\n",
       "      <td>0</td>\n",
       "      <td>Room_Type 1</td>\n",
       "      <td>121</td>\n",
       "      <td>2018</td>\n",
       "      <td>7</td>\n",
       "      <td>6</td>\n",
       "      <td>Offline</td>\n",
       "      <td>No</td>\n",
       "      <td>0</td>\n",
       "      <td>0</td>\n",
       "      <td>96.90</td>\n",
       "      <td>1</td>\n",
       "      <td>Not_Canceled</td>\n",
       "      <td>Very Low</td>\n",
       "      <td>No Cancellations</td>\n",
       "    </tr>\n",
       "    <tr>\n",
       "      <th>9</th>\n",
       "      <td>INN00010</td>\n",
       "      <td>2</td>\n",
       "      <td>0</td>\n",
       "      <td>0</td>\n",
       "      <td>5</td>\n",
       "      <td>Meal Plan 1</td>\n",
       "      <td>0</td>\n",
       "      <td>Room_Type 4</td>\n",
       "      <td>44</td>\n",
       "      <td>2018</td>\n",
       "      <td>10</td>\n",
       "      <td>18</td>\n",
       "      <td>Online</td>\n",
       "      <td>No</td>\n",
       "      <td>0</td>\n",
       "      <td>0</td>\n",
       "      <td>133.44</td>\n",
       "      <td>3</td>\n",
       "      <td>Not_Canceled</td>\n",
       "      <td>Very Low</td>\n",
       "      <td>No Cancellations</td>\n",
       "    </tr>\n",
       "  </tbody>\n",
       "</table>\n",
       "</div>"
      ],
      "text/plain": [
       "  Booking_ID  no_of_adults  no_of_children  no_of_weekend_nights  \\\n",
       "0   INN00001             2               0                     1   \n",
       "1   INN00002             2               0                     2   \n",
       "2   INN00003             1               0                     2   \n",
       "3   INN00004             2               0                     0   \n",
       "4   INN00005             2               0                     1   \n",
       "5   INN00006             2               0                     0   \n",
       "6   INN00007             2               0                     1   \n",
       "7   INN00008             2               0                     1   \n",
       "8   INN00009             3               0                     0   \n",
       "9   INN00010             2               0                     0   \n",
       "\n",
       "   no_of_week_nights type_of_meal_plan  required_car_parking_space  \\\n",
       "0                  2       Meal Plan 1                           0   \n",
       "1                  3      Not Selected                           0   \n",
       "2                  1       Meal Plan 1                           0   \n",
       "3                  2       Meal Plan 1                           0   \n",
       "4                  1      Not Selected                           0   \n",
       "5                  2       Meal Plan 2                           0   \n",
       "6                  3       Meal Plan 1                           0   \n",
       "7                  3       Meal Plan 1                           0   \n",
       "8                  4       Meal Plan 1                           0   \n",
       "9                  5       Meal Plan 1                           0   \n",
       "\n",
       "  room_type_reserved  lead_time  arrival_year  arrival_month  arrival_date  \\\n",
       "0        Room_Type 1        224          2017             10             2   \n",
       "1        Room_Type 1          5          2018             11             6   \n",
       "2        Room_Type 1          1          2018              2            28   \n",
       "3        Room_Type 1        211          2018              5            20   \n",
       "4        Room_Type 1         48          2018              4            11   \n",
       "5        Room_Type 1        346          2018              9            13   \n",
       "6        Room_Type 1         34          2017             10            15   \n",
       "7        Room_Type 4         83          2018             12            26   \n",
       "8        Room_Type 1        121          2018              7             6   \n",
       "9        Room_Type 4         44          2018             10            18   \n",
       "\n",
       "  market_segment_type repeated_guest  no_of_previous_cancellations  \\\n",
       "0             Offline             No                             0   \n",
       "1              Online             No                             0   \n",
       "2              Online             No                             0   \n",
       "3              Online             No                             0   \n",
       "4              Online             No                             0   \n",
       "5              Online             No                             0   \n",
       "6              Online             No                             0   \n",
       "7              Online             No                             0   \n",
       "8             Offline             No                             0   \n",
       "9              Online             No                             0   \n",
       "\n",
       "   no_of_previous_bookings_not_canceled  avg_price_per_room  \\\n",
       "0                                     0               65.00   \n",
       "1                                     0              106.68   \n",
       "2                                     0               60.00   \n",
       "3                                     0              100.00   \n",
       "4                                     0               94.50   \n",
       "5                                     0              115.00   \n",
       "6                                     0              107.55   \n",
       "7                                     0              105.61   \n",
       "8                                     0               96.90   \n",
       "9                                     0              133.44   \n",
       "\n",
       "   no_of_special_requests booking_status booking_label cancellation_label  \n",
       "0                       0   Not_Canceled      Very Low   No Cancellations  \n",
       "1                       1   Not_Canceled      Very Low   No Cancellations  \n",
       "2                       0       Canceled      Very Low   No Cancellations  \n",
       "3                       0       Canceled      Very Low   No Cancellations  \n",
       "4                       0       Canceled      Very Low   No Cancellations  \n",
       "5                       1       Canceled      Very Low   No Cancellations  \n",
       "6                       1   Not_Canceled      Very Low   No Cancellations  \n",
       "7                       1   Not_Canceled      Very Low   No Cancellations  \n",
       "8                       1   Not_Canceled      Very Low   No Cancellations  \n",
       "9                       3   Not_Canceled      Very Low   No Cancellations  "
      ]
     },
     "execution_count": 21,
     "metadata": {},
     "output_type": "execute_result"
    }
   ],
   "source": [
    "df.head(10)"
   ]
  },
  {
   "cell_type": "code",
   "execution_count": 22,
   "metadata": {
    "executionInfo": {
     "elapsed": 68,
     "status": "ok",
     "timestamp": 1722357752130,
     "user": {
      "displayName": "Arindam Saha",
      "userId": "13183971684604990720"
     },
     "user_tz": -330
    },
    "id": "lRnZaCbP-fQw"
   },
   "outputs": [],
   "source": [
    "df.drop(['no_of_children', 'Booking_ID', 'required_car_parking_space','no_of_previous_cancellations','no_of_previous_bookings_not_canceled'], axis=1, inplace=True)"
   ]
  },
  {
   "cell_type": "markdown",
   "metadata": {
    "id": "QD9EEm94-96H"
   },
   "source": [
    "#### Outlier Detection"
   ]
  },
  {
   "cell_type": "code",
   "execution_count": 23,
   "metadata": {
    "colab": {
     "base_uri": "https://localhost:8080/",
     "height": 1000
    },
    "executionInfo": {
     "elapsed": 1802,
     "status": "ok",
     "timestamp": 1722357753865,
     "user": {
      "displayName": "Arindam Saha",
      "userId": "13183971684604990720"
     },
     "user_tz": -330
    },
    "id": "_seKQLDa-9TY",
    "outputId": "ad91815a-399b-41c3-fc87-818738c79c07"
   },
   "outputs": [
    {
     "data": {
      "image/png": "[encoded data removed]",
      "text/plain": [
       "<Figure size 1440x2160 with 9 Axes>"
      ]
     },
     "metadata": {
      "needs_background": "light"
     },
     "output_type": "display_data"
    }
   ],
   "source": [
    "numerical_col = df.select_dtypes(include=np.number).columns.tolist()\n",
    "plt.figure(figsize=(20, 30))\n",
    "\n",
    "for i, variable in enumerate(numerical_col):\n",
    "    plt.subplot(5, 4, i + 1)\n",
    "    plt.boxplot(df[variable], whis=1.5)\n",
    "    plt.tight_layout()\n",
    "    plt.title(variable)\n",
    "\n",
    "plt.show()"
   ]
  },
  {
   "cell_type": "code",
   "execution_count": 24,
   "metadata": {
    "executionInfo": {
     "elapsed": 14,
     "status": "ok",
     "timestamp": 1722357753865,
     "user": {
      "displayName": "Arindam Saha",
      "userId": "13183971684604990720"
     },
     "user_tz": -330
    },
    "id": "6f4pAQ-2_JtE"
   },
   "outputs": [],
   "source": [
    "# functions to treat outliers by flooring and capping\n",
    "\n",
    "\n",
    "def treat_outliers(df, col):\n",
    "    \"\"\"\n",
    "    Treats outliers in a variable\n",
    "\n",
    "    df: dataframe\n",
    "    col: dataframe column\n",
    "    \"\"\"\n",
    "    Q1 = df[col].quantile(0.25)  # 25th quantile\n",
    "    Q3 = df[col].quantile(0.75)  # 75th quantile\n",
    "    IQR = Q3 - Q1\n",
    "    Lower_Whisker = Q1 - 1.5 * IQR\n",
    "    Upper_Whisker = Q3 + 1.5 * IQR\n",
    "\n",
    "    # all the values smaller than Lower_Whisker will be assigned the value of Lower_Whisker\n",
    "    # all the values greater than Upper_Whisker will be assigned the value of Upper_Whisker\n",
    "    df[col] = np.clip(df[col], Lower_Whisker, Upper_Whisker)\n",
    "\n",
    "    return df\n",
    "\n",
    "\n",
    "def treat_outliers_all(df, col_list):\n",
    "    \"\"\"\n",
    "    Treat outliers in a list of variables\n",
    "\n",
    "    df: dataframe\n",
    "    col_list: list of dataframe columns\n",
    "    \"\"\"\n",
    "    for c in col_list:\n",
    "        df = treat_outliers(df, c)\n",
    "\n",
    "    return df"
   ]
  },
  {
   "cell_type": "code",
   "execution_count": 25,
   "metadata": {
    "executionInfo": {
     "elapsed": 13,
     "status": "ok",
     "timestamp": 1722357753866,
     "user": {
      "displayName": "Arindam Saha",
      "userId": "13183971684604990720"
     },
     "user_tz": -330
    },
    "id": "8HzgyFqp_Ntu"
   },
   "outputs": [],
   "source": [
    "numerical_col = df.select_dtypes(include=np.number).columns.tolist()\n",
    "df = treat_outliers_all(df, numerical_col)"
   ]
  },
  {
   "cell_type": "code",
   "execution_count": 26,
   "metadata": {
    "colab": {
     "base_uri": "https://localhost:8080/",
     "height": 1000
    },
    "executionInfo": {
     "elapsed": 2245,
     "status": "ok",
     "timestamp": 1722357756099,
     "user": {
      "displayName": "Arindam Saha",
      "userId": "13183971684604990720"
     },
     "user_tz": -330
    },
    "id": "VM2ULMja_QQp",
    "outputId": "195b250c-496f-4a90-d7a4-73593db52aad"
   },
   "outputs": [
    {
     "data": {
      "image/png": "[encoded data removed]",
      "text/plain": [
       "<Figure size 1440x2160 with 9 Axes>"
      ]
     },
     "metadata": {
      "needs_background": "light"
     },
     "output_type": "display_data"
    }
   ],
   "source": [
    "# let's look at box plot to see if outliers have been treated or not\n",
    "plt.figure(figsize=(20, 30))\n",
    "\n",
    "for i, variable in enumerate(numerical_col):\n",
    "    plt.subplot(5, 4, i + 1)\n",
    "    plt.boxplot(df[variable], whis=1.5)\n",
    "    plt.tight_layout()\n",
    "    plt.title(variable)\n",
    "\n",
    "plt.show()"
   ]
  },
  {
   "cell_type": "markdown",
   "metadata": {
    "id": "AWkx0EdVAb5w"
   },
   "source": [
    "### Data Preparation for Modeling"
   ]
  },
  {
   "cell_type": "code",
   "execution_count": 27,
   "metadata": {
    "executionInfo": {
     "elapsed": 20,
     "status": "ok",
     "timestamp": 1722357756100,
     "user": {
      "displayName": "Arindam Saha",
      "userId": "13183971684604990720"
     },
     "user_tz": -330
    },
    "id": "Dz4HNt0i7Wjj"
   },
   "outputs": [],
   "source": [
    "df[\"booking_status\"] = df[\"booking_status\"].apply(lambda x: 1 if x == \"Canceled\" else 0)"
   ]
  },
  {
   "cell_type": "markdown",
   "metadata": {
    "id": "d4U4LjRkBXIg"
   },
   "source": [
    "**Creating training and test set**"
   ]
  },
  {
   "cell_type": "code",
   "execution_count": 15,
   "metadata": {
    "executionInfo": {
     "elapsed": 18,
     "status": "ok",
     "timestamp": 1722357756100,
     "user": {
      "displayName": "Arindam Saha",
      "userId": "13183971684604990720"
     },
     "user_tz": -330
    },
    "id": "94GrZg-jA1t5"
   },
   "outputs": [],
   "source": [
    "# specifying the independent  and dependent variables\n",
    "X = df.drop([\"booking_status\"], axis=1)\n",
    "Y = df[\"booking_status\"]\n",
    "\n",
    "# adding a constant to the independent variables\n",
    "X = sm.add_constant(X)\n",
    "\n",
    "# creating dummy variables\n",
    "X = pd.get_dummies(X, drop_first=True)\n",
    "\n",
    "#Converting values to float\n",
    "X = X.astype(float)\n",
    "\n",
    "# splitting data in train and test sets\n",
    "X_train, X_test, y_train, y_test = train_test_split(\n",
    "    X, Y, test_size=0.30, random_state=1\n",
    ")"
   ]
  },
  {
   "cell_type": "code",
   "execution_count": 16,
   "metadata": {
    "colab": {
     "base_uri": "https://localhost:8080/"
    },
    "executionInfo": {
     "elapsed": 18,
     "status": "ok",
     "timestamp": 1722357756100,
     "user": {
      "displayName": "Arindam Saha",
      "userId": "13183971684604990720"
     },
     "user_tz": -330
    },
    "id": "qGGk4kDGBlSU",
    "outputId": "e8b56385-ca7f-4fe2-d5f2-51982bad2aa4"
   },
   "outputs": [
    {
     "name": "stdout",
     "output_type": "stream",
     "text": [
      "Shape of Training set :  (25392, 31)\n",
      "Shape of test set :  (10883, 31)\n",
      "Percentage of classes in training set:\n",
      "0    1.0\n",
      "Name: booking_status, dtype: float64\n",
      "Percentage of classes in test set:\n",
      "0    1.0\n",
      "Name: booking_status, dtype: float64\n"
     ]
    }
   ],
   "source": [
    "print(\"Shape of Training set : \", X_train.shape)\n",
    "print(\"Shape of test set : \", X_test.shape)\n",
    "print(\"Percentage of classes in training set:\")\n",
    "print(y_train.value_counts(normalize=True))\n",
    "print(\"Percentage of classes in test set:\")\n",
    "print(y_test.value_counts(normalize=True))"
   ]
  },
  {
   "cell_type": "code",
   "execution_count": null,
   "metadata": {
    "id": "-mE84bnzSM6V"
   },
   "outputs": [],
   "source": [
    "X_train"
   ]
  },
  {
   "cell_type": "markdown",
   "metadata": {
    "id": "kSNMhXcEJ2V3"
   },
   "source": [
    "## Model Building - Logistic Regression"
   ]
  },
  {
   "cell_type": "markdown",
   "metadata": {
    "id": "VbsxxKvfJ6vn"
   },
   "source": [
    "- We will now perform logistic regression using statsmodels, a Python module that provides functions for the estimation of many statistical models, as well as for conducting statistical tests, and statistical data exploration.\n",
    "\n",
    "- Using statsmodels, we will be able to check the statistical validity of our model - identify the significant predictors from p-values that we get for each predictor variable."
   ]
  },
  {
   "cell_type": "code",
   "execution_count": 18,
   "metadata": {
    "id": "qSZgOaHuCiKK"
   },
   "outputs": [
    {
     "name": "stdout",
     "output_type": "stream",
     "text": [
      "                           Logit Regression Results                           \n",
      "==============================================================================\n",
      "Dep. Variable:         booking_status   No. Observations:                25392\n",
      "Model:                          Logit   Df Residuals:                    25362\n",
      "Method:                           MLE   Df Model:                           29\n",
      "Date:                Tue, 30 Jul 2024   Pseudo R-squ.:                  0.3208\n",
      "Time:                        22:28:09   Log-Likelihood:                -10929.\n",
      "converged:                      False   LL-Null:                       -16091.\n",
      "Covariance Type:            nonrobust   LLR p-value:                     0.000\n",
      "=============================================================================================================\n",
      "                                                coef    std err          z      P>|z|      [0.025      0.975]\n",
      "-------------------------------------------------------------------------------------------------------------\n",
      "no_of_adults                                  0.0003   1.64e+05   2.02e-09      1.000   -3.22e+05    3.22e+05\n",
      "no_of_weekend_nights                          0.1184      0.020      6.072      0.000       0.080       0.157\n",
      "no_of_week_nights                             0.0193      0.013      1.437      0.151      -0.007       0.046\n",
      "lead_time                                     0.0169      0.000     64.386      0.000       0.016       0.017\n",
      "arrival_year                                 -0.0032    149.633  -2.15e-05      1.000    -293.278     293.272\n",
      "arrival_month                                -0.0587      0.006     -9.811      0.000      -0.070      -0.047\n",
      "arrival_date                                  0.0012      0.002      0.636      0.525      -0.003       0.005\n",
      "avg_price_per_room                            0.0212      0.001     28.379      0.000       0.020       0.023\n",
      "no_of_special_requests                       -1.4778      0.030    -49.754      0.000      -1.536      -1.420\n",
      "type_of_meal_plan_Meal Plan 2                 0.1311      0.063      2.098      0.036       0.009       0.254\n",
      "type_of_meal_plan_Meal Plan 3                33.0472   9.89e+06   3.34e-06      1.000   -1.94e+07    1.94e+07\n",
      "type_of_meal_plan_Not Selected                0.3663      0.052      7.004      0.000       0.264       0.469\n",
      "room_type_reserved_Room_Type 2               -0.3406      0.126     -2.704      0.007      -0.587      -0.094\n",
      "room_type_reserved_Room_Type 3                0.0310      1.296      0.024      0.981      -2.509       2.571\n",
      "room_type_reserved_Room_Type 4               -0.2447      0.052     -4.750      0.000      -0.346      -0.144\n",
      "room_type_reserved_Room_Type 5               -0.6310      0.208     -3.039      0.002      -1.038      -0.224\n",
      "room_type_reserved_Room_Type 6               -0.5253      0.112     -4.708      0.000      -0.744      -0.307\n",
      "room_type_reserved_Room_Type 7               -0.4989      0.272     -1.834      0.067      -1.032       0.034\n",
      "market_segment_type_Complementary           -62.8776   1.32e+07  -4.76e-06      1.000   -2.59e+07    2.59e+07\n",
      "market_segment_type_Corporate                -1.2813      0.264     -4.860      0.000      -1.798      -0.765\n",
      "market_segment_type_Offline                  -2.2489      0.251     -8.977      0.000      -2.740      -1.758\n",
      "market_segment_type_Online                   -0.4417      0.247     -1.788      0.074      -0.926       0.042\n",
      "repeated_guest_Yes                          -21.2628   5888.185     -0.004      0.997   -1.16e+04    1.15e+04\n",
      "booking_label_Low                            24.1502   1.39e+05      0.000      1.000   -2.72e+05    2.72e+05\n",
      "booking_label_Medium                         23.8889   1.39e+05      0.000      1.000   -2.72e+05    2.72e+05\n",
      "booking_label_Very High                      10.2145   1.39e+05   7.36e-05      1.000   -2.72e+05    2.72e+05\n",
      "booking_label_Very Low                       23.6085   1.39e+05      0.000      1.000   -2.72e+05    2.72e+05\n",
      "cancellation_label_Frequent Cancellations     1.2578      1.003      1.254      0.210      -0.709       3.224\n",
      "cancellation_label_Moderate Cancellations     2.6828   9192.304      0.000      1.000    -1.8e+04     1.8e+04\n",
      "cancellation_label_No Cancellations         -19.6030   5888.185     -0.003      0.997   -1.16e+04    1.15e+04\n",
      "=============================================================================================================\n"
     ]
    }
   ],
   "source": [
    "# fitting logistic regression model\n",
    "logit = sm.Logit(y_train, X_train.astype(float))\n",
    "lg = logit.fit(disp=False)\n",
    "\n",
    "print(lg.summary())"
   ]
  },
  {
   "cell_type": "markdown",
   "metadata": {},
   "source": [
    "**Observations**\n",
    "\n",
    "- Negative values of the coefficient show that the probability of a booking to get canceled decreases with the increase of the corresponding attribute value.\n",
    "\n",
    "- Positive values of the coefficient show that the probability of a booking to get canceled increases with the increase of the corresponding attribute value.\n",
    "\n",
    "- p-value of a variable indicates if the variable is significant or not. If we consider the significance level to be 0.05 (5%), then any variable with a p-value less than 0.05 would be considered significant."
   ]
  },
  {
   "cell_type": "markdown",
   "metadata": {
    "id": "AYFBq35PKDtw"
   },
   "source": [
    "### Model Performance Evaluation"
   ]
  },
  {
   "cell_type": "markdown",
   "metadata": {
    "id": "saZIuhh8k1Vg"
   },
   "source": [
    "**Model can make wrong predictions as**:\n",
    "\n",
    "1. Predicting a booking status as cancelled but in reality the booking status is not cancelled.\n",
    "2. Predicting a booking status as not cancelled but in reality the booking status is cancelled.\n",
    "\n",
    "**Which case is more important?**\n",
    "\n",
    "* Both the cases are important.\n",
    "\n",
    "**How to reduce this loss?**\n",
    "\n",
    "* We need to reduce both False Negatives and False Positives\n",
    "\n",
    "* `f1_score` should be maximized as the greater the f1_score, the higher the chances of reducing both False Negatives and False Positives and identifying both the classes correctly\n",
    "  * fi_score is computed as\n",
    "  $$f1\\_score = \\frac{2 * Precision * Recall}{Precision + Recall}$$"
   ]
  },
  {
   "cell_type": "markdown",
   "metadata": {
    "id": "UdDj5aCrmhMB"
   },
   "source": [
    "**First, let's create functions to calculate different metrics and confusion matrix so that we don't have to use the same code repeatedly for each model.**\n",
    "\n",
    "* The model_performance_classification_statsmodels function will be used to check the model performance of models.\n",
    "* The confusion_matrix_statsmodels function will be used to plot confusion matrix."
   ]
  },
  {
   "cell_type": "code",
   "execution_count": 19,
   "metadata": {
    "id": "jNcSyE_qmdn1"
   },
   "outputs": [],
   "source": [
    "# defining a function to compute different metrics to check performance of a classification model built using statsmodels\n",
    "def model_performance_classification_statsmodels(\n",
    "    model, predictors, target, threshold=0.5\n",
    "):\n",
    "    \"\"\"\n",
    "    Function to compute different metrics to check classification model performance\n",
    "\n",
    "    model: classifier\n",
    "    predictors: independent variables\n",
    "    target: dependent variable\n",
    "    threshold: threshold for classifying the observation as class 1\n",
    "    \"\"\"\n",
    "\n",
    "    # checking which probabilities are greater than threshold\n",
    "    pred_temp = model.predict(predictors) > threshold\n",
    "    # rounding off the above values to get classes\n",
    "    pred = np.round(pred_temp)\n",
    "\n",
    "    acc = accuracy_score(target, pred)  # to compute Accuracy\n",
    "    recall = recall_score(target, pred)  # to compute Recall\n",
    "    precision = precision_score(target, pred)  # to compute Precision\n",
    "    f1 = f1_score(target, pred)  # to compute F1-score\n",
    "\n",
    "    # creating a dataframe of metrics\n",
    "    df_perf = pd.DataFrame(\n",
    "        {\"Accuracy\": acc, \"Recall\": recall, \"Precision\": precision, \"F1\": f1,},\n",
    "        index=[0],\n",
    "    )\n",
    "\n",
    "    return df_perf"
   ]
  },
  {
   "cell_type": "code",
   "execution_count": 20,
   "metadata": {
    "id": "W9u0u696mrNP"
   },
   "outputs": [],
   "source": [
    "# defining a function to plot the confusion_matrix of a classification model\n",
    "\n",
    "\n",
    "def confusion_matrix_statsmodels(model, predictors, target, threshold=0.5):\n",
    "    \"\"\"\n",
    "    To plot the confusion_matrix with percentages\n",
    "\n",
    "    model: classifier\n",
    "    predictors: independent variables\n",
    "    target: dependent variable\n",
    "    threshold: threshold for classifying the observation as class 1\n",
    "    \"\"\"\n",
    "    y_pred = model.predict(predictors) > threshold\n",
    "    cm = confusion_matrix(target, y_pred)\n",
    "    labels = np.asarray(\n",
    "        [\n",
    "            [\"{0:0.0f}\".format(item) + \"\\n{0:.2%}\".format(item / cm.flatten().sum())]\n",
    "            for item in cm.flatten()\n",
    "        ]\n",
    "    ).reshape(2, 2)\n",
    "\n",
    "    plt.figure(figsize=(6, 4))\n",
    "    sns.heatmap(cm, annot=labels, fmt=\"\")\n",
    "    plt.ylabel(\"True label\")\n",
    "    plt.xlabel(\"Predicted label\")"
   ]
  },
  {
   "cell_type": "code",
   "execution_count": 21,
   "metadata": {
    "id": "9KNzE2cwmuoj"
   },
   "outputs": [
    {
     "data": {
      "image/png": "[encoded data removed]",
      "text/plain": [
       "<Figure size 432x288 with 2 Axes>"
      ]
     },
     "metadata": {
      "needs_background": "light"
     },
     "output_type": "display_data"
    }
   ],
   "source": [
    "confusion_matrix_statsmodels(lg, X_train, y_train)"
   ]
  },
  {
   "cell_type": "code",
   "execution_count": 22,
   "metadata": {
    "colab": {
     "base_uri": "https://localhost:8080/",
     "height": 98
    },
    "executionInfo": {
     "elapsed": 738,
     "status": "ok",
     "timestamp": 1722323527871,
     "user": {
      "displayName": "Arindam Saha",
      "userId": "13183971684604990720"
     },
     "user_tz": -330
    },
    "id": "PoxTFKZlnaNW",
    "outputId": "3e6c8c31-bde2-4732-b36d-990da0429f14"
   },
   "outputs": [
    {
     "name": "stdout",
     "output_type": "stream",
     "text": [
      "Training performance:\n"
     ]
    },
    {
     "data": {
      "text/html": [
       "<div>\n",
       "<style scoped>\n",
       "    .dataframe tbody tr th:only-of-type {\n",
       "        vertical-align: middle;\n",
       "    }\n",
       "\n",
       "    .dataframe tbody tr th {\n",
       "        vertical-align: top;\n",
       "    }\n",
       "\n",
       "    .dataframe thead th {\n",
       "        text-align: right;\n",
       "    }\n",
       "</style>\n",
       "<table border=\"1\" class=\"dataframe\">\n",
       "  <thead>\n",
       "    <tr style=\"text-align: right;\">\n",
       "      <th></th>\n",
       "      <th>Accuracy</th>\n",
       "      <th>Recall</th>\n",
       "      <th>Precision</th>\n",
       "      <th>F1</th>\n",
       "    </tr>\n",
       "  </thead>\n",
       "  <tbody>\n",
       "    <tr>\n",
       "      <th>0</th>\n",
       "      <td>0.800764</td>\n",
       "      <td>0.625852</td>\n",
       "      <td>0.730597</td>\n",
       "      <td>0.67418</td>\n",
       "    </tr>\n",
       "  </tbody>\n",
       "</table>\n",
       "</div>"
      ],
      "text/plain": [
       "   Accuracy    Recall  Precision       F1\n",
       "0  0.800764  0.625852   0.730597  0.67418"
      ]
     },
     "execution_count": 22,
     "metadata": {},
     "output_type": "execute_result"
    }
   ],
   "source": [
    "print(\"Training performance:\")\n",
    "model_performance_classification_statsmodels(lg, X_train, y_train)"
   ]
  },
  {
   "cell_type": "markdown",
   "metadata": {},
   "source": [
    "**Observations**\n",
    "\n",
    "- The f1_score of the model is ~0.67 and we will try to maximize it further\n",
    "\n",
    "- The variables used to build the model might contain multicollinearity, which will affect the p-values\n",
    "\n",
    "* We will have to remove multicollinearity from the data to get reliable coefficients and p-values"
   ]
  },
  {
   "cell_type": "markdown",
   "metadata": {},
   "source": [
    "### Detecting and Dealing with Multicollinearity"
   ]
  },
  {
   "cell_type": "markdown",
   "metadata": {
    "executionInfo": {
     "elapsed": 36,
     "status": "aborted",
     "timestamp": 1722320116775,
     "user": {
      "displayName": "Arindam Saha",
      "userId": "13183971684604990720"
     },
     "user_tz": -330
    },
    "id": "UO6X9lbjoe-0"
   },
   "source": [
    "There are different ways of detecting (or testing for) multicollinearity. One such way is using the Variation Inflation Factor (VIF).\n",
    "\n",
    "* **Variance  Inflation  factor**:  Variance  inflation  factors  measure  the  inflation  in  the variances of the regression coefficients estimates due to collinearities that exist among the  predictors.  It  is  a  measure  of  how  much  the  variance  of  the  estimated  regression coefficient $\\beta_k$ is \"inflated\" by  the  existence  of  correlation  among  the  predictor variables in the model.\n",
    "\n",
    "* **General Rule of thumb**:\n",
    "  - If VIF is 1 then there is no correlation among the $k$th predictor and the remaining predictor variables, and  hence  the variance of $\\beta_k$ is not inflated at all\n",
    "  - If VIF exceeds 5, we say there is moderate multicollinearity\n",
    "  - If VIF is equal or exceeding 10, it shows signs of high multi-collinearity\n",
    "\n",
    "* The purpose of the analysis should dictate which threshold to use"
   ]
  },
  {
   "cell_type": "code",
   "execution_count": 23,
   "metadata": {},
   "outputs": [
    {
     "name": "stdout",
     "output_type": "stream",
     "text": [
      "Series before feature selection: \n",
      "\n",
      "no_of_adults                                  0.000000\n",
      "no_of_weekend_nights                          1.049034\n",
      "no_of_week_nights                             1.091255\n",
      "lead_time                                     1.234799\n",
      "arrival_year                                  0.000000\n",
      "arrival_month                                 1.055013\n",
      "arrival_date                                  1.006518\n",
      "avg_price_per_room                            1.771767\n",
      "no_of_special_requests                        1.234083\n",
      "type_of_meal_plan_Meal Plan 2                 1.197394\n",
      "type_of_meal_plan_Meal Plan 3                 1.025023\n",
      "type_of_meal_plan_Not Selected                1.232626\n",
      "room_type_reserved_Room_Type 2                1.032162\n",
      "room_type_reserved_Room_Type 3                1.003222\n",
      "room_type_reserved_Room_Type 4                1.298606\n",
      "room_type_reserved_Room_Type 5                1.027844\n",
      "room_type_reserved_Room_Type 6                1.222209\n",
      "room_type_reserved_Room_Type 7                1.067303\n",
      "market_segment_type_Complementary             4.418293\n",
      "market_segment_type_Corporate                16.848768\n",
      "market_segment_type_Offline                  63.262135\n",
      "market_segment_type_Online                   70.267056\n",
      "repeated_guest_Yes                           15.327959\n",
      "booking_label_Low                            10.003723\n",
      "booking_label_Medium                          3.728786\n",
      "booking_label_Very High                       1.565616\n",
      "booking_label_Very Low                       21.116049\n",
      "cancellation_label_Frequent Cancellations     1.192059\n",
      "cancellation_label_Moderate Cancellations     1.050285\n",
      "cancellation_label_No Cancellations           2.823584\n",
      "dtype: float64\n",
      "\n"
     ]
    }
   ],
   "source": [
    "vif_series = pd.Series(\n",
    "    [variance_inflation_factor(X_train.values, i) for i in range(X_train.shape[1])],\n",
    "    index=X_train.columns,\n",
    "    dtype=float,\n",
    ")\n",
    "print(\"Series before feature selection: \\n\\n{}\\n\".format(vif_series))"
   ]
  },
  {
   "cell_type": "markdown",
   "metadata": {},
   "source": [
    "- * Sme categorical levels of `market_segment_type`, `repeated_guest`, and `booking_label` exhibit high multicollinearity"
   ]
  },
  {
   "cell_type": "markdown",
   "metadata": {},
   "source": [
    "Removing `market_segment_type_Online`"
   ]
  },
  {
   "cell_type": "code",
   "execution_count": 25,
   "metadata": {},
   "outputs": [
    {
     "name": "stdout",
     "output_type": "stream",
     "text": [
      "Series before feature selection: \n",
      "\n",
      "no_of_adults                                  0.000000\n",
      "no_of_weekend_nights                          1.048753\n",
      "no_of_week_nights                             1.091227\n",
      "lead_time                                     1.230575\n",
      "arrival_year                                  0.000000\n",
      "arrival_month                                 1.054732\n",
      "arrival_date                                  1.006516\n",
      "avg_price_per_room                            1.769812\n",
      "no_of_special_requests                        1.226956\n",
      "type_of_meal_plan_Meal Plan 2                 1.197336\n",
      "type_of_meal_plan_Meal Plan 3                 1.025022\n",
      "type_of_meal_plan_Not Selected                1.230683\n",
      "room_type_reserved_Room_Type 2                1.032039\n",
      "room_type_reserved_Room_Type 3                1.003222\n",
      "room_type_reserved_Room_Type 4                1.296018\n",
      "room_type_reserved_Room_Type 5                1.027844\n",
      "room_type_reserved_Room_Type 6                1.222206\n",
      "room_type_reserved_Room_Type 7                1.067303\n",
      "market_segment_type_Complementary             1.295920\n",
      "market_segment_type_Corporate                 1.515236\n",
      "market_segment_type_Offline                   1.614331\n",
      "repeated_guest_Yes                           15.327923\n",
      "booking_label_Low                            10.002256\n",
      "booking_label_Medium                          3.728771\n",
      "booking_label_Very High                       1.565616\n",
      "booking_label_Very Low                       21.115071\n",
      "cancellation_label_Frequent Cancellations     1.191927\n",
      "cancellation_label_Moderate Cancellations     1.050285\n",
      "cancellation_label_No Cancellations           2.823468\n",
      "dtype: float64\n",
      "\n"
     ]
    }
   ],
   "source": [
    "X_train1 = X_train.drop(\"market_segment_type_Online\", axis=1)\n",
    "\n",
    "vif_series2 = pd.Series(\n",
    "    [variance_inflation_factor(X_train1.values, i) for i in range(X_train1.shape[1])],\n",
    "    index=X_train1.columns,\n",
    ")\n",
    "print(\"Series before feature selection: \\n\\n{}\\n\".format(vif_series2))"
   ]
  },
  {
   "cell_type": "code",
   "execution_count": 26,
   "metadata": {},
   "outputs": [
    {
     "name": "stdout",
     "output_type": "stream",
     "text": [
      "Series before feature selection: \n",
      "\n",
      "no_of_adults                                  0.000000\n",
      "no_of_weekend_nights                          1.048749\n",
      "no_of_week_nights                             1.091160\n",
      "lead_time                                     1.229911\n",
      "arrival_year                                  0.000000\n",
      "arrival_month                                 1.053265\n",
      "arrival_date                                  1.006469\n",
      "avg_price_per_room                            1.769152\n",
      "no_of_special_requests                        1.225065\n",
      "type_of_meal_plan_Meal Plan 2                 1.197099\n",
      "type_of_meal_plan_Meal Plan 3                 1.024750\n",
      "type_of_meal_plan_Not Selected                1.230582\n",
      "room_type_reserved_Room_Type 2                1.032031\n",
      "room_type_reserved_Room_Type 3                1.003208\n",
      "room_type_reserved_Room_Type 4                1.295613\n",
      "room_type_reserved_Room_Type 5                1.027785\n",
      "room_type_reserved_Room_Type 6                1.222036\n",
      "room_type_reserved_Room_Type 7                1.065462\n",
      "market_segment_type_Complementary             1.285802\n",
      "market_segment_type_Corporate                 1.503474\n",
      "market_segment_type_Offline                   1.614190\n",
      "repeated_guest_Yes                           10.168833\n",
      "booking_label_Low                             5.941280\n",
      "booking_label_Medium                          2.225890\n",
      "booking_label_Very High                       1.233116\n",
      "cancellation_label_Frequent Cancellations     1.128016\n",
      "cancellation_label_Moderate Cancellations     1.050283\n",
      "cancellation_label_No Cancellations           2.663657\n",
      "dtype: float64\n",
      "\n"
     ]
    }
   ],
   "source": [
    "X_train2 = X_train1.drop(\"booking_label_Very Low\", axis=1)\n",
    "vif_series3 = pd.Series(\n",
    "    [variance_inflation_factor(X_train2.values, i) for i in range(X_train2.shape[1])],\n",
    "    index=X_train2.columns,\n",
    ")\n",
    "print(\"Series before feature selection: \\n\\n{}\\n\".format(vif_series3))"
   ]
  },
  {
   "cell_type": "code",
   "execution_count": 28,
   "metadata": {},
   "outputs": [
    {
     "name": "stdout",
     "output_type": "stream",
     "text": [
      "Series before feature selection: \n",
      "\n",
      "no_of_adults                                 0.000000\n",
      "no_of_weekend_nights                         1.048722\n",
      "no_of_week_nights                            1.091155\n",
      "lead_time                                    1.228748\n",
      "arrival_year                                 0.000000\n",
      "arrival_month                                1.053217\n",
      "arrival_date                                 1.006197\n",
      "avg_price_per_room                           1.768303\n",
      "no_of_special_requests                       1.224039\n",
      "type_of_meal_plan_Meal Plan 2                1.197080\n",
      "type_of_meal_plan_Meal Plan 3                1.024728\n",
      "type_of_meal_plan_Not Selected               1.230517\n",
      "room_type_reserved_Room_Type 2               1.032014\n",
      "room_type_reserved_Room_Type 3               1.003186\n",
      "room_type_reserved_Room_Type 4               1.295550\n",
      "room_type_reserved_Room_Type 5               1.027695\n",
      "room_type_reserved_Room_Type 6               1.222025\n",
      "room_type_reserved_Room_Type 7               1.065426\n",
      "market_segment_type_Complementary            1.278572\n",
      "market_segment_type_Corporate                1.493909\n",
      "market_segment_type_Offline                  1.613475\n",
      "booking_label_Low                            1.255582\n",
      "booking_label_Medium                         1.189261\n",
      "booking_label_Very High                      1.169131\n",
      "cancellation_label_Frequent Cancellations    1.124534\n",
      "cancellation_label_Moderate Cancellations    1.050269\n",
      "cancellation_label_No Cancellations          1.398739\n",
      "dtype: float64\n",
      "\n"
     ]
    }
   ],
   "source": [
    "X_train3 = X_train2.drop(\"repeated_guest_Yes\", axis=1)\n",
    "vif_series4 = pd.Series(\n",
    "    [variance_inflation_factor(X_train3.values, i) for i in range(X_train3.shape[1])],\n",
    "    index=X_train3.columns,\n",
    ")\n",
    "print(\"Series before feature selection: \\n\\n{}\\n\".format(vif_series4))"
   ]
  },
  {
   "cell_type": "code",
   "execution_count": 29,
   "metadata": {},
   "outputs": [
    {
     "name": "stdout",
     "output_type": "stream",
     "text": [
      "Training performance:\n"
     ]
    },
    {
     "data": {
      "text/html": [
       "<div>\n",
       "<style scoped>\n",
       "    .dataframe tbody tr th:only-of-type {\n",
       "        vertical-align: middle;\n",
       "    }\n",
       "\n",
       "    .dataframe tbody tr th {\n",
       "        vertical-align: top;\n",
       "    }\n",
       "\n",
       "    .dataframe thead th {\n",
       "        text-align: right;\n",
       "    }\n",
       "</style>\n",
       "<table border=\"1\" class=\"dataframe\">\n",
       "  <thead>\n",
       "    <tr style=\"text-align: right;\">\n",
       "      <th></th>\n",
       "      <th>Accuracy</th>\n",
       "      <th>Recall</th>\n",
       "      <th>Precision</th>\n",
       "      <th>F1</th>\n",
       "    </tr>\n",
       "  </thead>\n",
       "  <tbody>\n",
       "    <tr>\n",
       "      <th>0</th>\n",
       "      <td>0.80041</td>\n",
       "      <td>0.625374</td>\n",
       "      <td>0.729937</td>\n",
       "      <td>0.673622</td>\n",
       "    </tr>\n",
       "  </tbody>\n",
       "</table>\n",
       "</div>"
      ],
      "text/plain": [
       "   Accuracy    Recall  Precision        F1\n",
       "0   0.80041  0.625374   0.729937  0.673622"
      ]
     },
     "execution_count": 29,
     "metadata": {},
     "output_type": "execute_result"
    }
   ],
   "source": [
    "logit2 = sm.Logit(y_train, X_train3.astype(float))\n",
    "lg2 = logit2.fit(disp=False)\n",
    "\n",
    "print(\"Training performance:\")\n",
    "model_performance_classification_statsmodels(lg2, X_train3, y_train)"
   ]
  },
  {
   "cell_type": "markdown",
   "metadata": {},
   "source": [
    "* No significant change in the model performance."
   ]
  },
  {
   "cell_type": "code",
   "execution_count": 30,
   "metadata": {},
   "outputs": [
    {
     "name": "stdout",
     "output_type": "stream",
     "text": [
      "                           Logit Regression Results                           \n",
      "==============================================================================\n",
      "Dep. Variable:         booking_status   No. Observations:                25392\n",
      "Model:                          Logit   Df Residuals:                    25365\n",
      "Method:                           MLE   Df Model:                           26\n",
      "Date:                Tue, 30 Jul 2024   Pseudo R-squ.:                  0.3201\n",
      "Time:                        23:18:44   Log-Likelihood:                -10941.\n",
      "converged:                      False   LL-Null:                       -16091.\n",
      "Covariance Type:            nonrobust   LLR p-value:                     0.000\n",
      "=============================================================================================================\n",
      "                                                coef    std err          z      P>|z|      [0.025      0.975]\n",
      "-------------------------------------------------------------------------------------------------------------\n",
      "no_of_adults                               -3.59e-05   5.69e+04  -6.31e-10      1.000   -1.12e+05    1.12e+05\n",
      "no_of_weekend_nights                          0.1190      0.019      6.105      0.000       0.081       0.157\n",
      "no_of_week_nights                             0.0197      0.013      1.466      0.143      -0.007       0.046\n",
      "lead_time                                     0.0169      0.000     64.486      0.000       0.016       0.017\n",
      "arrival_year                                 -0.0020     56.382  -3.52e-05      1.000    -110.508     110.504\n",
      "arrival_month                                -0.0586      0.006     -9.797      0.000      -0.070      -0.047\n",
      "arrival_date                                  0.0012      0.002      0.637      0.524      -0.003       0.005\n",
      "avg_price_per_room                            0.0212      0.001     28.376      0.000       0.020       0.023\n",
      "no_of_special_requests                       -1.4811      0.030    -49.925      0.000      -1.539      -1.423\n",
      "type_of_meal_plan_Meal Plan 2                 0.1312      0.062      2.099      0.036       0.009       0.254\n",
      "type_of_meal_plan_Meal Plan 3                28.5048   1.02e+06   2.79e-05      1.000      -2e+06       2e+06\n",
      "type_of_meal_plan_Not Selected                0.3615      0.052      6.922      0.000       0.259       0.464\n",
      "room_type_reserved_Room_Type 2               -0.3430      0.126     -2.724      0.006      -0.590      -0.096\n",
      "room_type_reserved_Room_Type 3                0.0284      1.296      0.022      0.982      -2.512       2.568\n",
      "room_type_reserved_Room_Type 4               -0.2419      0.051     -4.698      0.000      -0.343      -0.141\n",
      "room_type_reserved_Room_Type 5               -0.6366      0.207     -3.076      0.002      -1.042      -0.231\n",
      "room_type_reserved_Room_Type 6               -0.5259      0.112     -4.713      0.000      -0.745      -0.307\n",
      "room_type_reserved_Room_Type 7               -0.4984      0.272     -1.832      0.067      -1.032       0.035\n",
      "market_segment_type_Complementary           -40.8975   1.02e+06     -4e-05      1.000      -2e+06       2e+06\n",
      "market_segment_type_Corporate                -0.8630      0.102     -8.467      0.000      -1.063      -0.663\n",
      "market_segment_type_Offline                  -1.8099      0.052    -34.889      0.000      -1.912      -1.708\n",
      "booking_label_Low                            -2.1197      0.537     -3.948      0.000      -3.172      -1.067\n",
      "booking_label_Medium                         -1.3182      1.031     -1.278      0.201      -3.339       0.703\n",
      "booking_label_Very High                     -15.6217   4562.502     -0.003      0.997   -8957.961    8926.718\n",
      "cancellation_label_Frequent Cancellations     1.9157      0.880      2.176      0.030       0.190       3.641\n",
      "cancellation_label_Moderate Cancellations     2.1178    2.8e+04   7.58e-05      1.000   -5.48e+04    5.48e+04\n",
      "cancellation_label_No Cancellations           1.0887      0.546      1.994      0.046       0.018       2.159\n",
      "=============================================================================================================\n"
     ]
    }
   ],
   "source": [
    "print(lg2.summary())"
   ]
  },
  {
   "cell_type": "markdown",
   "metadata": {},
   "source": [
    "### Removing high p-value variables"
   ]
  },
  {
   "cell_type": "markdown",
   "metadata": {},
   "source": [
    "* For other attributes present in the data, the p-values are high only for few dummy variables and since only one (or some) of the categorical levels have a high p-value we will drop them iteratively as sometimes p-values change after dropping a variable. So, we'll not drop all variables at once.\n",
    "\n",
    "* Instead, we will do the following repeatedly using a loop:\n",
    "  - Build a model, check the p-values of the variables, and drop the column with the highest p-value.\n",
    "  - Create a new model without the dropped feature, check the p-values of the variables, and drop the column with the highest p-value.\n",
    "  - Repeat the above two steps till there are no columns with p-value > 0.05.\n",
    "\n",
    "\n",
    "Note: The above process can also be done manually by picking one variable at a time that has a high p-value, dropping it, and building a model again. But that might be a little tedious and using a loop will be more efficient."
   ]
  },
  {
   "cell_type": "code",
   "execution_count": 31,
   "metadata": {},
   "outputs": [
    {
     "name": "stdout",
     "output_type": "stream",
     "text": [
      "['no_of_weekend_nights', 'lead_time', 'arrival_year', 'arrival_month', 'avg_price_per_room', 'no_of_special_requests', 'type_of_meal_plan_Not Selected', 'room_type_reserved_Room_Type 2', 'room_type_reserved_Room_Type 4', 'room_type_reserved_Room_Type 5', 'room_type_reserved_Room_Type 6', 'room_type_reserved_Room_Type 7', 'market_segment_type_Corporate', 'market_segment_type_Offline', 'booking_label_Low', 'cancellation_label_Frequent Cancellations', 'cancellation_label_No Cancellations']\n"
     ]
    }
   ],
   "source": [
    "# initial list of columns\n",
    "cols = X_train3.columns.tolist()\n",
    "\n",
    "# setting an initial max p-value\n",
    "max_p_value = 1\n",
    "\n",
    "while len(cols) > 0:\n",
    "    # defining the train set\n",
    "    X_train_aux = X_train3[cols]\n",
    "\n",
    "    # fitting the model\n",
    "    model = sm.Logit(y_train, X_train_aux).fit(disp=False)\n",
    "\n",
    "    # getting the p-values and the maximum p-value\n",
    "    p_values = model.pvalues\n",
    "    max_p_value = max(p_values)\n",
    "\n",
    "    # name of the variable with maximum p-value\n",
    "    feature_with_p_max = p_values.idxmax()\n",
    "\n",
    "    if max_p_value > 0.05:\n",
    "        cols.remove(feature_with_p_max)\n",
    "    else:\n",
    "        break\n",
    "\n",
    "selected_features = cols\n",
    "print(selected_features)"
   ]
  },
  {
   "cell_type": "code",
   "execution_count": 32,
   "metadata": {},
   "outputs": [],
   "source": [
    "X_train4 = X_train3[selected_features]"
   ]
  },
  {
   "cell_type": "code",
   "execution_count": 33,
   "metadata": {},
   "outputs": [
    {
     "name": "stdout",
     "output_type": "stream",
     "text": [
      "                           Logit Regression Results                           \n",
      "==============================================================================\n",
      "Dep. Variable:         booking_status   No. Observations:                25392\n",
      "Model:                          Logit   Df Residuals:                    25375\n",
      "Method:                           MLE   Df Model:                           16\n",
      "Date:                Tue, 30 Jul 2024   Pseudo R-squ.:                  0.3189\n",
      "Time:                        23:21:38   Log-Likelihood:                -10960.\n",
      "converged:                       True   LL-Null:                       -16091.\n",
      "Covariance Type:            nonrobust   LLR p-value:                     0.000\n",
      "=============================================================================================================\n",
      "                                                coef    std err          z      P>|z|      [0.025      0.975]\n",
      "-------------------------------------------------------------------------------------------------------------\n",
      "no_of_weekend_nights                          0.1246      0.019      6.430      0.000       0.087       0.163\n",
      "lead_time                                     0.0170      0.000     66.003      0.000       0.017       0.018\n",
      "arrival_year                                 -0.0021      0.000     -8.092      0.000      -0.003      -0.002\n",
      "arrival_month                                -0.0598      0.006    -10.027      0.000      -0.071      -0.048\n",
      "avg_price_per_room                            0.0219      0.001     30.489      0.000       0.020       0.023\n",
      "no_of_special_requests                       -1.4781      0.030    -49.956      0.000      -1.536      -1.420\n",
      "type_of_meal_plan_Not Selected                0.3653      0.052      7.033      0.000       0.263       0.467\n",
      "room_type_reserved_Room_Type 2               -0.3388      0.126     -2.691      0.007      -0.586      -0.092\n",
      "room_type_reserved_Room_Type 4               -0.2481      0.051     -4.868      0.000      -0.348      -0.148\n",
      "room_type_reserved_Room_Type 5               -0.6627      0.206     -3.223      0.001      -1.066      -0.260\n",
      "room_type_reserved_Room_Type 6               -0.5568      0.111     -5.018      0.000      -0.774      -0.339\n",
      "room_type_reserved_Room_Type 7               -0.5447      0.271     -2.013      0.044      -1.075      -0.014\n",
      "market_segment_type_Corporate                -0.8690      0.101     -8.581      0.000      -1.067      -0.671\n",
      "market_segment_type_Offline                  -1.7758      0.050    -35.782      0.000      -1.873      -1.679\n",
      "booking_label_Low                            -2.1180      0.532     -3.980      0.000      -3.161      -1.075\n",
      "cancellation_label_Frequent Cancellations     2.0625      0.863      2.391      0.017       0.372       3.753\n",
      "cancellation_label_No Cancellations           1.3567      0.524      2.588      0.010       0.329       2.384\n",
      "=============================================================================================================\n"
     ]
    }
   ],
   "source": [
    "logit3 = sm.Logit(y_train, X_train4.astype(float))\n",
    "lg3 = logit3.fit(disp=False)\n",
    "\n",
    "print(lg3.summary())"
   ]
  },
  {
   "cell_type": "markdown",
   "metadata": {},
   "source": [
    "**Now no categorical feature has p-value greater than 0.05, so we'll consider the features in *X_train4* as the final ones and *lg3* as final model.**"
   ]
  },
  {
   "cell_type": "markdown",
   "metadata": {},
   "source": [
    "### Coefficient Interpretations"
   ]
  },
  {
   "cell_type": "markdown",
   "metadata": {},
   "source": [
    "* Coefficient of some levels of education, workclass, and native country are positive an increase in these will lead to increase in chances of a person having <=50K salary.\n",
    "\n",
    "* Coefficient of age, fnlwgt, marital_status, working_hours_per_week, some levels of education, workclass, and native country are negative increase in these will lead to decrease in chances of a person having <=50K salary."
   ]
  },
  {
   "cell_type": "markdown",
   "metadata": {},
   "source": [
    "**Converting coefficients to odds**\n",
    "\n",
    "* The coefficients ($\\beta$s) of the logistic regression model are in terms of $log(odds)$ and to find the odds, we have to take the exponential of the coefficients\n",
    "* Therefore, **$odds =  exp(\\beta)$**\n",
    "* The percentage change in odds is given as $(exp(\\beta) - 1) * 100$"
   ]
  },
  {
   "cell_type": "code",
   "execution_count": 34,
   "metadata": {},
   "outputs": [
    {
     "data": {
      "text/html": [
       "<div>\n",
       "<style scoped>\n",
       "    .dataframe tbody tr th:only-of-type {\n",
       "        vertical-align: middle;\n",
       "    }\n",
       "\n",
       "    .dataframe tbody tr th {\n",
       "        vertical-align: top;\n",
       "    }\n",
       "\n",
       "    .dataframe thead th {\n",
       "        text-align: right;\n",
       "    }\n",
       "</style>\n",
       "<table border=\"1\" class=\"dataframe\">\n",
       "  <thead>\n",
       "    <tr style=\"text-align: right;\">\n",
       "      <th></th>\n",
       "      <th>no_of_weekend_nights</th>\n",
       "      <th>lead_time</th>\n",
       "      <th>arrival_year</th>\n",
       "      <th>arrival_month</th>\n",
       "      <th>avg_price_per_room</th>\n",
       "      <th>no_of_special_requests</th>\n",
       "      <th>type_of_meal_plan_Not Selected</th>\n",
       "      <th>room_type_reserved_Room_Type 2</th>\n",
       "      <th>room_type_reserved_Room_Type 4</th>\n",
       "      <th>room_type_reserved_Room_Type 5</th>\n",
       "      <th>room_type_reserved_Room_Type 6</th>\n",
       "      <th>room_type_reserved_Room_Type 7</th>\n",
       "      <th>market_segment_type_Corporate</th>\n",
       "      <th>market_segment_type_Offline</th>\n",
       "      <th>booking_label_Low</th>\n",
       "      <th>cancellation_label_Frequent Cancellations</th>\n",
       "      <th>cancellation_label_No Cancellations</th>\n",
       "    </tr>\n",
       "  </thead>\n",
       "  <tbody>\n",
       "    <tr>\n",
       "      <th>Odds</th>\n",
       "      <td>1.132666</td>\n",
       "      <td>1.017189</td>\n",
       "      <td>0.997876</td>\n",
       "      <td>0.941946</td>\n",
       "      <td>1.022091</td>\n",
       "      <td>0.228078</td>\n",
       "      <td>1.440899</td>\n",
       "      <td>0.712628</td>\n",
       "      <td>0.780247</td>\n",
       "      <td>0.515438</td>\n",
       "      <td>0.573017</td>\n",
       "      <td>0.58000</td>\n",
       "      <td>0.419374</td>\n",
       "      <td>0.169340</td>\n",
       "      <td>0.120271</td>\n",
       "      <td>7.865368</td>\n",
       "      <td>3.883472</td>\n",
       "    </tr>\n",
       "    <tr>\n",
       "      <th>Change_odd%</th>\n",
       "      <td>13.266605</td>\n",
       "      <td>1.718883</td>\n",
       "      <td>-0.212364</td>\n",
       "      <td>-5.805406</td>\n",
       "      <td>2.209075</td>\n",
       "      <td>-77.192193</td>\n",
       "      <td>44.089856</td>\n",
       "      <td>-28.737181</td>\n",
       "      <td>-21.975338</td>\n",
       "      <td>-48.456192</td>\n",
       "      <td>-42.698344</td>\n",
       "      <td>-42.00002</td>\n",
       "      <td>-58.062577</td>\n",
       "      <td>-83.065999</td>\n",
       "      <td>-87.972905</td>\n",
       "      <td>686.536767</td>\n",
       "      <td>288.347169</td>\n",
       "    </tr>\n",
       "  </tbody>\n",
       "</table>\n",
       "</div>"
      ],
      "text/plain": [
       "             no_of_weekend_nights  lead_time  arrival_year  arrival_month  \\\n",
       "Odds                     1.132666   1.017189      0.997876       0.941946   \n",
       "Change_odd%             13.266605   1.718883     -0.212364      -5.805406   \n",
       "\n",
       "             avg_price_per_room  no_of_special_requests  \\\n",
       "Odds                   1.022091                0.228078   \n",
       "Change_odd%            2.209075              -77.192193   \n",
       "\n",
       "             type_of_meal_plan_Not Selected  room_type_reserved_Room_Type 2  \\\n",
       "Odds                               1.440899                        0.712628   \n",
       "Change_odd%                       44.089856                      -28.737181   \n",
       "\n",
       "             room_type_reserved_Room_Type 4  room_type_reserved_Room_Type 5  \\\n",
       "Odds                               0.780247                        0.515438   \n",
       "Change_odd%                      -21.975338                      -48.456192   \n",
       "\n",
       "             room_type_reserved_Room_Type 6  room_type_reserved_Room_Type 7  \\\n",
       "Odds                               0.573017                         0.58000   \n",
       "Change_odd%                      -42.698344                       -42.00002   \n",
       "\n",
       "             market_segment_type_Corporate  market_segment_type_Offline  \\\n",
       "Odds                              0.419374                     0.169340   \n",
       "Change_odd%                     -58.062577                   -83.065999   \n",
       "\n",
       "             booking_label_Low  cancellation_label_Frequent Cancellations  \\\n",
       "Odds                  0.120271                                   7.865368   \n",
       "Change_odd%         -87.972905                                 686.536767   \n",
       "\n",
       "             cancellation_label_No Cancellations  \n",
       "Odds                                    3.883472  \n",
       "Change_odd%                           288.347169  "
      ]
     },
     "execution_count": 34,
     "metadata": {},
     "output_type": "execute_result"
    }
   ],
   "source": [
    "# converting coefficients to odds\n",
    "odds = np.exp(lg3.params)\n",
    "\n",
    "# finding the percentage change\n",
    "perc_change_odds = (np.exp(lg3.params) - 1) * 100\n",
    "\n",
    "# removing limit from number of columns to display\n",
    "pd.set_option(\"display.max_columns\", None)\n",
    "\n",
    "# adding the odds to a dataframe\n",
    "pd.DataFrame({\"Odds\": odds, \"Change_odd%\": perc_change_odds}, index=X_train4.columns).T"
   ]
  },
  {
   "cell_type": "markdown",
   "metadata": {},
   "source": [
    "### Checking performance of the new model"
   ]
  },
  {
   "cell_type": "code",
   "execution_count": 35,
   "metadata": {},
   "outputs": [
    {
     "data": {
      "image/png": "[encoded data removed]",
      "text/plain": [
       "<Figure size 432x288 with 2 Axes>"
      ]
     },
     "metadata": {
      "needs_background": "light"
     },
     "output_type": "display_data"
    }
   ],
   "source": [
    "# creating confusion matrix\n",
    "confusion_matrix_statsmodels(lg3, X_train4, y_train)"
   ]
  },
  {
   "cell_type": "code",
   "execution_count": 36,
   "metadata": {},
   "outputs": [
    {
     "name": "stdout",
     "output_type": "stream",
     "text": [
      "Training performance:\n"
     ]
    },
    {
     "data": {
      "text/html": [
       "<div>\n",
       "<style scoped>\n",
       "    .dataframe tbody tr th:only-of-type {\n",
       "        vertical-align: middle;\n",
       "    }\n",
       "\n",
       "    .dataframe tbody tr th {\n",
       "        vertical-align: top;\n",
       "    }\n",
       "\n",
       "    .dataframe thead th {\n",
       "        text-align: right;\n",
       "    }\n",
       "</style>\n",
       "<table border=\"1\" class=\"dataframe\">\n",
       "  <thead>\n",
       "    <tr style=\"text-align: right;\">\n",
       "      <th></th>\n",
       "      <th>Accuracy</th>\n",
       "      <th>Recall</th>\n",
       "      <th>Precision</th>\n",
       "      <th>F1</th>\n",
       "    </tr>\n",
       "  </thead>\n",
       "  <tbody>\n",
       "    <tr>\n",
       "      <th>0</th>\n",
       "      <td>0.799583</td>\n",
       "      <td>0.624776</td>\n",
       "      <td>0.728122</td>\n",
       "      <td>0.672501</td>\n",
       "    </tr>\n",
       "  </tbody>\n",
       "</table>\n",
       "</div>"
      ],
      "text/plain": [
       "   Accuracy    Recall  Precision        F1\n",
       "0  0.799583  0.624776   0.728122  0.672501"
      ]
     },
     "execution_count": 36,
     "metadata": {},
     "output_type": "execute_result"
    }
   ],
   "source": [
    "log_reg_model_train_perf = model_performance_classification_statsmodels(\n",
    "    lg3, X_train4, y_train\n",
    ")\n",
    "\n",
    "print(\"Training performance:\")\n",
    "log_reg_model_train_perf"
   ]
  },
  {
   "cell_type": "markdown",
   "metadata": {},
   "source": [
    "**Test set performance**\n",
    "\n",
    "- We have to first drop the columns from the test set that were dropped from the training set."
   ]
  },
  {
   "cell_type": "code",
   "execution_count": 37,
   "metadata": {},
   "outputs": [],
   "source": [
    "X_test4 = X_test[list(X_train4.columns)]"
   ]
  },
  {
   "cell_type": "code",
   "execution_count": 43,
   "metadata": {},
   "outputs": [
    {
     "name": "stdout",
     "output_type": "stream",
     "text": [
      "Index(['no_of_weekend_nights', 'lead_time', 'arrival_year', 'arrival_month',\n",
      "       'avg_price_per_room', 'no_of_special_requests',\n",
      "       'type_of_meal_plan_Not Selected', 'room_type_reserved_Room_Type 2',\n",
      "       'room_type_reserved_Room_Type 4', 'room_type_reserved_Room_Type 5',\n",
      "       'room_type_reserved_Room_Type 6', 'room_type_reserved_Room_Type 7',\n",
      "       'market_segment_type_Corporate', 'market_segment_type_Offline',\n",
      "       'booking_label_Low', 'cancellation_label_Frequent Cancellations',\n",
      "       'cancellation_label_No Cancellations'],\n",
      "      dtype='object')\n",
      "Index(['no_of_weekend_nights', 'lead_time', 'arrival_year', 'arrival_month',\n",
      "       'avg_price_per_room', 'no_of_special_requests',\n",
      "       'type_of_meal_plan_Not Selected', 'room_type_reserved_Room_Type 2',\n",
      "       'room_type_reserved_Room_Type 4', 'room_type_reserved_Room_Type 5',\n",
      "       'room_type_reserved_Room_Type 6', 'room_type_reserved_Room_Type 7',\n",
      "       'market_segment_type_Corporate', 'market_segment_type_Offline',\n",
      "       'booking_label_Low', 'cancellation_label_Frequent Cancellations',\n",
      "       'cancellation_label_No Cancellations'],\n",
      "      dtype='object')\n"
     ]
    }
   ],
   "source": [
    "print(X_train4.columns)\n",
    "print(X_test4.columns)"
   ]
  },
  {
   "cell_type": "code",
   "execution_count": 38,
   "metadata": {},
   "outputs": [
    {
     "data": {
      "image/png": "[encoded data removed]",
      "text/plain": [
       "<Figure size 432x288 with 2 Axes>"
      ]
     },
     "metadata": {
      "needs_background": "light"
     },
     "output_type": "display_data"
    }
   ],
   "source": [
    "# creating confusion matrix\n",
    "confusion_matrix_statsmodels(lg3, X_test4, y_test)"
   ]
  },
  {
   "cell_type": "code",
   "execution_count": 39,
   "metadata": {},
   "outputs": [
    {
     "name": "stdout",
     "output_type": "stream",
     "text": [
      "Test performance:\n"
     ]
    },
    {
     "data": {
      "text/html": [
       "<div>\n",
       "<style scoped>\n",
       "    .dataframe tbody tr th:only-of-type {\n",
       "        vertical-align: middle;\n",
       "    }\n",
       "\n",
       "    .dataframe tbody tr th {\n",
       "        vertical-align: top;\n",
       "    }\n",
       "\n",
       "    .dataframe thead th {\n",
       "        text-align: right;\n",
       "    }\n",
       "</style>\n",
       "<table border=\"1\" class=\"dataframe\">\n",
       "  <thead>\n",
       "    <tr style=\"text-align: right;\">\n",
       "      <th></th>\n",
       "      <th>Accuracy</th>\n",
       "      <th>Recall</th>\n",
       "      <th>Precision</th>\n",
       "      <th>F1</th>\n",
       "    </tr>\n",
       "  </thead>\n",
       "  <tbody>\n",
       "    <tr>\n",
       "      <th>0</th>\n",
       "      <td>0.802628</td>\n",
       "      <td>0.629756</td>\n",
       "      <td>0.724363</td>\n",
       "      <td>0.673755</td>\n",
       "    </tr>\n",
       "  </tbody>\n",
       "</table>\n",
       "</div>"
      ],
      "text/plain": [
       "   Accuracy    Recall  Precision        F1\n",
       "0  0.802628  0.629756   0.724363  0.673755"
      ]
     },
     "execution_count": 39,
     "metadata": {},
     "output_type": "execute_result"
    }
   ],
   "source": [
    "log_reg_model_test_perf = model_performance_classification_statsmodels(\n",
    "    lg3, X_test4, y_test\n",
    ")\n",
    "\n",
    "print(\"Test performance:\")\n",
    "log_reg_model_test_perf"
   ]
  },
  {
   "cell_type": "markdown",
   "metadata": {},
   "source": [
    "- The model is giving a good f1_score of ~0.6725 and ~0.6737 on the train and test sets respectively\n",
    "- As the train and test performances are comparable, the model is not overfitting\n",
    "- Moving forward we will try to improve the performance of the model"
   ]
  },
  {
   "cell_type": "markdown",
   "metadata": {},
   "source": [
    "## Model Performance Improvement"
   ]
  },
  {
   "cell_type": "markdown",
   "metadata": {},
   "source": [
    "* Let's see if the f1_score can be improved further by changing the model threshold\n",
    "* First, we will check the ROC curve, compute the area under the ROC curve (ROC-AUC), and then use it to find the optimal threshold\n",
    "* Next, we will check the Precision-Recall curve to find the right balance between precision and recall as our metric of choice is f1_score"
   ]
  },
  {
   "cell_type": "markdown",
   "metadata": {},
   "source": [
    "### ROC Curve and ROC-AUC"
   ]
  },
  {
   "cell_type": "markdown",
   "metadata": {},
   "source": [
    "* ROC-AUC on training set"
   ]
  },
  {
   "cell_type": "code",
   "execution_count": 45,
   "metadata": {},
   "outputs": [
    {
     "data": {
      "image/png": "[encoded data removed]",
      "text/plain": [
       "<Figure size 504x360 with 1 Axes>"
      ]
     },
     "metadata": {
      "needs_background": "light"
     },
     "output_type": "display_data"
    }
   ],
   "source": [
    "logit_roc_auc_train = roc_auc_score(y_train, lg3.predict(X_train4))\n",
    "fpr, tpr, thresholds = roc_curve(y_train, lg3.predict(X_train4))\n",
    "plt.figure(figsize=(7, 5))\n",
    "plt.plot(fpr, tpr, label=\"Logistic Regression (area = %0.2f)\" % logit_roc_auc_train)\n",
    "plt.plot([0, 1], [0, 1], \"r--\")\n",
    "plt.xlim([0.0, 1.0])\n",
    "plt.ylim([0.0, 1.05])\n",
    "plt.xlabel(\"False Positive Rate\")\n",
    "plt.ylabel(\"True Positive Rate\")\n",
    "plt.title(\"Receiver operating characteristic\")\n",
    "plt.legend(loc=\"lower right\")\n",
    "plt.show()"
   ]
  },
  {
   "cell_type": "markdown",
   "metadata": {},
   "source": [
    "* Logistic Regression model is giving a good performance on training set."
   ]
  },
  {
   "cell_type": "markdown",
   "metadata": {},
   "source": [
    "### Optimal threshold using AUC-ROC curve"
   ]
  },
  {
   "cell_type": "code",
   "execution_count": 46,
   "metadata": {},
   "outputs": [
    {
     "name": "stdout",
     "output_type": "stream",
     "text": [
      "0.30693474817331534\n"
     ]
    }
   ],
   "source": [
    "# Optimal threshold as per AUC-ROC curve\n",
    "# The optimal cut off would be where tpr is high and fpr is low\n",
    "fpr, tpr, thresholds = roc_curve(y_train, lg3.predict(X_train4))\n",
    "\n",
    "optimal_idx = np.argmax(tpr - fpr)\n",
    "optimal_threshold_auc_roc = thresholds[optimal_idx]\n",
    "print(optimal_threshold_auc_roc)"
   ]
  },
  {
   "cell_type": "markdown",
   "metadata": {},
   "source": [
    "**Checking model performance on training set**"
   ]
  },
  {
   "cell_type": "code",
   "execution_count": 47,
   "metadata": {},
   "outputs": [
    {
     "data": {
      "image/png": "[encoded data removed]",
      "text/plain": [
       "<Figure size 432x288 with 2 Axes>"
      ]
     },
     "metadata": {
      "needs_background": "light"
     },
     "output_type": "display_data"
    }
   ],
   "source": [
    "# creating confusion matrix\n",
    "confusion_matrix_statsmodels(\n",
    "    lg3, X_train4, y_train, threshold=optimal_threshold_auc_roc\n",
    ")"
   ]
  },
  {
   "cell_type": "code",
   "execution_count": 48,
   "metadata": {},
   "outputs": [
    {
     "name": "stdout",
     "output_type": "stream",
     "text": [
      "Training performance:\n"
     ]
    },
    {
     "data": {
      "text/html": [
       "<div>\n",
       "<style scoped>\n",
       "    .dataframe tbody tr th:only-of-type {\n",
       "        vertical-align: middle;\n",
       "    }\n",
       "\n",
       "    .dataframe tbody tr th {\n",
       "        vertical-align: top;\n",
       "    }\n",
       "\n",
       "    .dataframe thead th {\n",
       "        text-align: right;\n",
       "    }\n",
       "</style>\n",
       "<table border=\"1\" class=\"dataframe\">\n",
       "  <thead>\n",
       "    <tr style=\"text-align: right;\">\n",
       "      <th></th>\n",
       "      <th>Accuracy</th>\n",
       "      <th>Recall</th>\n",
       "      <th>Precision</th>\n",
       "      <th>F1</th>\n",
       "    </tr>\n",
       "  </thead>\n",
       "  <tbody>\n",
       "    <tr>\n",
       "      <th>0</th>\n",
       "      <td>0.769888</td>\n",
       "      <td>0.789071</td>\n",
       "      <td>0.618</td>\n",
       "      <td>0.693136</td>\n",
       "    </tr>\n",
       "  </tbody>\n",
       "</table>\n",
       "</div>"
      ],
      "text/plain": [
       "   Accuracy    Recall  Precision        F1\n",
       "0  0.769888  0.789071      0.618  0.693136"
      ]
     },
     "execution_count": 48,
     "metadata": {},
     "output_type": "execute_result"
    }
   ],
   "source": [
    "# checking model performance for this model\n",
    "log_reg_model_train_perf_threshold_auc_roc = model_performance_classification_statsmodels(\n",
    "    lg3, X_train4, y_train, threshold=optimal_threshold_auc_roc\n",
    ")\n",
    "print(\"Training performance:\")\n",
    "log_reg_model_train_perf_threshold_auc_roc"
   ]
  },
  {
   "cell_type": "markdown",
   "metadata": {},
   "source": [
    "- Recall has increased, accuracy and precision has reduced.\n",
    "* The model is still giving a good performance."
   ]
  },
  {
   "cell_type": "markdown",
   "metadata": {},
   "source": [
    "**Checking model performance on test set**"
   ]
  },
  {
   "cell_type": "code",
   "execution_count": 49,
   "metadata": {},
   "outputs": [
    {
     "data": {
      "image/png": "[encoded data removed]",
      "text/plain": [
       "<Figure size 504x360 with 1 Axes>"
      ]
     },
     "metadata": {
      "needs_background": "light"
     },
     "output_type": "display_data"
    }
   ],
   "source": [
    "logit_roc_auc_train = roc_auc_score(y_test, lg3.predict(X_test4))\n",
    "fpr, tpr, thresholds = roc_curve(y_test, lg3.predict(X_test4))\n",
    "plt.figure(figsize=(7, 5))\n",
    "plt.plot(fpr, tpr, label=\"Logistic Regression (area = %0.2f)\" % logit_roc_auc_train)\n",
    "plt.plot([0, 1], [0, 1], \"r--\")\n",
    "plt.xlim([0.0, 1.0])\n",
    "plt.ylim([0.0, 1.05])\n",
    "plt.xlabel(\"False Positive Rate\")\n",
    "plt.ylabel(\"True Positive Rate\")\n",
    "plt.title(\"Receiver operating characteristic\")\n",
    "plt.legend(loc=\"lower right\")\n",
    "plt.show()"
   ]
  },
  {
   "cell_type": "code",
   "execution_count": 50,
   "metadata": {},
   "outputs": [
    {
     "data": {
      "image/png": "[encoded data removed]",
      "text/plain": [
       "<Figure size 432x288 with 2 Axes>"
      ]
     },
     "metadata": {
      "needs_background": "light"
     },
     "output_type": "display_data"
    }
   ],
   "source": [
    "# creating confusion matrix\n",
    "confusion_matrix_statsmodels(lg3, X_test4, y_test, threshold=optimal_threshold_auc_roc)"
   ]
  },
  {
   "cell_type": "code",
   "execution_count": 51,
   "metadata": {},
   "outputs": [
    {
     "name": "stdout",
     "output_type": "stream",
     "text": [
      "Test performance:\n"
     ]
    },
    {
     "data": {
      "text/html": [
       "<div>\n",
       "<style scoped>\n",
       "    .dataframe tbody tr th:only-of-type {\n",
       "        vertical-align: middle;\n",
       "    }\n",
       "\n",
       "    .dataframe tbody tr th {\n",
       "        vertical-align: top;\n",
       "    }\n",
       "\n",
       "    .dataframe thead th {\n",
       "        text-align: right;\n",
       "    }\n",
       "</style>\n",
       "<table border=\"1\" class=\"dataframe\">\n",
       "  <thead>\n",
       "    <tr style=\"text-align: right;\">\n",
       "      <th></th>\n",
       "      <th>Accuracy</th>\n",
       "      <th>Recall</th>\n",
       "      <th>Precision</th>\n",
       "      <th>F1</th>\n",
       "    </tr>\n",
       "  </thead>\n",
       "  <tbody>\n",
       "    <tr>\n",
       "      <th>0</th>\n",
       "      <td>0.77497</td>\n",
       "      <td>0.79188</td>\n",
       "      <td>0.61909</td>\n",
       "      <td>0.694905</td>\n",
       "    </tr>\n",
       "  </tbody>\n",
       "</table>\n",
       "</div>"
      ],
      "text/plain": [
       "   Accuracy   Recall  Precision        F1\n",
       "0   0.77497  0.79188    0.61909  0.694905"
      ]
     },
     "execution_count": 51,
     "metadata": {},
     "output_type": "execute_result"
    }
   ],
   "source": [
    "# checking model performance for this model\n",
    "log_reg_model_test_perf_threshold_auc_roc = model_performance_classification_statsmodels(\n",
    "    lg3, X_test4, y_test, threshold=optimal_threshold_auc_roc\n",
    ")\n",
    "print(\"Test performance:\")\n",
    "log_reg_model_test_perf_threshold_auc_roc"
   ]
  },
  {
   "cell_type": "markdown",
   "metadata": {},
   "source": [
    "### Precision-Recall Curve"
   ]
  },
  {
   "cell_type": "code",
   "execution_count": 52,
   "metadata": {},
   "outputs": [
    {
     "data": {
      "image/png": "[encoded data removed]",
      "text/plain": [
       "<Figure size 720x504 with 1 Axes>"
      ]
     },
     "metadata": {
      "needs_background": "light"
     },
     "output_type": "display_data"
    }
   ],
   "source": [
    "y_scores = lg3.predict(X_train4)\n",
    "prec, rec, tre = precision_recall_curve(y_train, y_scores,)\n",
    "\n",
    "\n",
    "def plot_prec_recall_vs_tresh(precisions, recalls, thresholds):\n",
    "    plt.plot(thresholds, precisions[:-1], \"b--\", label=\"precision\")\n",
    "    plt.plot(thresholds, recalls[:-1], \"g--\", label=\"recall\")\n",
    "    plt.xlabel(\"Threshold\")\n",
    "    plt.legend(loc=\"upper left\")\n",
    "    plt.ylim([0, 1])\n",
    "\n",
    "\n",
    "plt.figure(figsize=(10, 7))\n",
    "plot_prec_recall_vs_tresh(prec, rec, tre)\n",
    "plt.show()"
   ]
  },
  {
   "cell_type": "markdown",
   "metadata": {},
   "source": [
    "* At the threshold of 0.42, we get balanced recall and precision."
   ]
  },
  {
   "cell_type": "code",
   "execution_count": 54,
   "metadata": {},
   "outputs": [],
   "source": [
    "# setting the threshold\n",
    "optimal_threshold_curve = 0.42"
   ]
  },
  {
   "cell_type": "markdown",
   "metadata": {},
   "source": [
    "**Checking model performance on training set**"
   ]
  },
  {
   "cell_type": "code",
   "execution_count": 55,
   "metadata": {},
   "outputs": [
    {
     "data": {
      "image/png": "[encoded data removed]",
      "text/plain": [
       "<Figure size 432x288 with 2 Axes>"
      ]
     },
     "metadata": {
      "needs_background": "light"
     },
     "output_type": "display_data"
    }
   ],
   "source": [
    "# creating confusion matrix\n",
    "confusion_matrix_statsmodels(lg3, X_train4, y_train, threshold=optimal_threshold_curve)"
   ]
  },
  {
   "cell_type": "code",
   "execution_count": 56,
   "metadata": {},
   "outputs": [
    {
     "name": "stdout",
     "output_type": "stream",
     "text": [
      "Training performance:\n"
     ]
    },
    {
     "data": {
      "text/html": [
       "<div>\n",
       "<style scoped>\n",
       "    .dataframe tbody tr th:only-of-type {\n",
       "        vertical-align: middle;\n",
       "    }\n",
       "\n",
       "    .dataframe tbody tr th {\n",
       "        vertical-align: top;\n",
       "    }\n",
       "\n",
       "    .dataframe thead th {\n",
       "        text-align: right;\n",
       "    }\n",
       "</style>\n",
       "<table border=\"1\" class=\"dataframe\">\n",
       "  <thead>\n",
       "    <tr style=\"text-align: right;\">\n",
       "      <th></th>\n",
       "      <th>Accuracy</th>\n",
       "      <th>Recall</th>\n",
       "      <th>Precision</th>\n",
       "      <th>F1</th>\n",
       "    </tr>\n",
       "  </thead>\n",
       "  <tbody>\n",
       "    <tr>\n",
       "      <th>0</th>\n",
       "      <td>0.797259</td>\n",
       "      <td>0.692814</td>\n",
       "      <td>0.691986</td>\n",
       "      <td>0.6924</td>\n",
       "    </tr>\n",
       "  </tbody>\n",
       "</table>\n",
       "</div>"
      ],
      "text/plain": [
       "   Accuracy    Recall  Precision      F1\n",
       "0  0.797259  0.692814   0.691986  0.6924"
      ]
     },
     "execution_count": 56,
     "metadata": {},
     "output_type": "execute_result"
    }
   ],
   "source": [
    "log_reg_model_train_perf_threshold_curve = model_performance_classification_statsmodels(\n",
    "    lg3, X_train4, y_train, threshold=optimal_threshold_curve\n",
    ")\n",
    "print(\"Training performance:\")\n",
    "log_reg_model_train_perf_threshold_curve"
   ]
  },
  {
   "cell_type": "markdown",
   "metadata": {},
   "source": [
    "* Model is performing well on training set.\n",
    "* There's not much improvement in the model performance as the default threshold is 0.50 and here we get 0.42 as the optimal threshold."
   ]
  },
  {
   "cell_type": "markdown",
   "metadata": {},
   "source": [
    "**Checking model performance on test set**"
   ]
  },
  {
   "cell_type": "code",
   "execution_count": 57,
   "metadata": {},
   "outputs": [
    {
     "data": {
      "image/png": "[encoded data removed]",
      "text/plain": [
       "<Figure size 432x288 with 2 Axes>"
      ]
     },
     "metadata": {
      "needs_background": "light"
     },
     "output_type": "display_data"
    }
   ],
   "source": [
    "# creating confusion matrix\n",
    "confusion_matrix_statsmodels(lg3, X_test4, y_test, threshold=optimal_threshold_curve)"
   ]
  },
  {
   "cell_type": "code",
   "execution_count": 58,
   "metadata": {},
   "outputs": [
    {
     "name": "stdout",
     "output_type": "stream",
     "text": [
      "Test performance:\n"
     ]
    },
    {
     "data": {
      "text/html": [
       "<div>\n",
       "<style scoped>\n",
       "    .dataframe tbody tr th:only-of-type {\n",
       "        vertical-align: middle;\n",
       "    }\n",
       "\n",
       "    .dataframe tbody tr th {\n",
       "        vertical-align: top;\n",
       "    }\n",
       "\n",
       "    .dataframe thead th {\n",
       "        text-align: right;\n",
       "    }\n",
       "</style>\n",
       "<table border=\"1\" class=\"dataframe\">\n",
       "  <thead>\n",
       "    <tr style=\"text-align: right;\">\n",
       "      <th></th>\n",
       "      <th>Accuracy</th>\n",
       "      <th>Recall</th>\n",
       "      <th>Precision</th>\n",
       "      <th>F1</th>\n",
       "    </tr>\n",
       "  </thead>\n",
       "  <tbody>\n",
       "    <tr>\n",
       "      <th>0</th>\n",
       "      <td>0.798217</td>\n",
       "      <td>0.693924</td>\n",
       "      <td>0.686131</td>\n",
       "      <td>0.690006</td>\n",
       "    </tr>\n",
       "  </tbody>\n",
       "</table>\n",
       "</div>"
      ],
      "text/plain": [
       "   Accuracy    Recall  Precision        F1\n",
       "0  0.798217  0.693924   0.686131  0.690006"
      ]
     },
     "execution_count": 58,
     "metadata": {},
     "output_type": "execute_result"
    }
   ],
   "source": [
    "log_reg_model_test_perf_threshold_curve = model_performance_classification_statsmodels(\n",
    "    lg3, X_test4, y_test, threshold=optimal_threshold_curve\n",
    ")\n",
    "print(\"Test performance:\")\n",
    "log_reg_model_test_perf_threshold_curve"
   ]
  },
  {
   "cell_type": "markdown",
   "metadata": {},
   "source": [
    "## Model Performance Comparison and Final Model Selection"
   ]
  },
  {
   "cell_type": "code",
   "execution_count": 59,
   "metadata": {},
   "outputs": [
    {
     "name": "stdout",
     "output_type": "stream",
     "text": [
      "Training performance comparison:\n"
     ]
    },
    {
     "data": {
      "text/html": [
       "<div>\n",
       "<style scoped>\n",
       "    .dataframe tbody tr th:only-of-type {\n",
       "        vertical-align: middle;\n",
       "    }\n",
       "\n",
       "    .dataframe tbody tr th {\n",
       "        vertical-align: top;\n",
       "    }\n",
       "\n",
       "    .dataframe thead th {\n",
       "        text-align: right;\n",
       "    }\n",
       "</style>\n",
       "<table border=\"1\" class=\"dataframe\">\n",
       "  <thead>\n",
       "    <tr style=\"text-align: right;\">\n",
       "      <th></th>\n",
       "      <th>Logistic Regression-default Threshold (0.5)</th>\n",
       "      <th>Logistic Regression-0.81 Threshold</th>\n",
       "      <th>Logistic Regression-0.42 Threshold</th>\n",
       "    </tr>\n",
       "  </thead>\n",
       "  <tbody>\n",
       "    <tr>\n",
       "      <th>Accuracy</th>\n",
       "      <td>0.799583</td>\n",
       "      <td>0.769888</td>\n",
       "      <td>0.797259</td>\n",
       "    </tr>\n",
       "    <tr>\n",
       "      <th>Recall</th>\n",
       "      <td>0.624776</td>\n",
       "      <td>0.789071</td>\n",
       "      <td>0.692814</td>\n",
       "    </tr>\n",
       "    <tr>\n",
       "      <th>Precision</th>\n",
       "      <td>0.728122</td>\n",
       "      <td>0.618000</td>\n",
       "      <td>0.691986</td>\n",
       "    </tr>\n",
       "    <tr>\n",
       "      <th>F1</th>\n",
       "      <td>0.672501</td>\n",
       "      <td>0.693136</td>\n",
       "      <td>0.692400</td>\n",
       "    </tr>\n",
       "  </tbody>\n",
       "</table>\n",
       "</div>"
      ],
      "text/plain": [
       "           Logistic Regression-default Threshold (0.5)  \\\n",
       "Accuracy                                      0.799583   \n",
       "Recall                                        0.624776   \n",
       "Precision                                     0.728122   \n",
       "F1                                            0.672501   \n",
       "\n",
       "           Logistic Regression-0.81 Threshold  \\\n",
       "Accuracy                             0.769888   \n",
       "Recall                               0.789071   \n",
       "Precision                            0.618000   \n",
       "F1                                   0.693136   \n",
       "\n",
       "           Logistic Regression-0.42 Threshold  \n",
       "Accuracy                             0.797259  \n",
       "Recall                               0.692814  \n",
       "Precision                            0.691986  \n",
       "F1                                   0.692400  "
      ]
     },
     "execution_count": 59,
     "metadata": {},
     "output_type": "execute_result"
    }
   ],
   "source": [
    "# training performance comparison\n",
    "\n",
    "models_train_comp_df = pd.concat(\n",
    "    [\n",
    "        log_reg_model_train_perf.T,\n",
    "        log_reg_model_train_perf_threshold_auc_roc.T,\n",
    "        log_reg_model_train_perf_threshold_curve.T,\n",
    "    ],\n",
    "    axis=1,\n",
    ")\n",
    "models_train_comp_df.columns = [\n",
    "    \"Logistic Regression-default Threshold (0.5)\",\n",
    "    \"Logistic Regression-0.81 Threshold\",\n",
    "    \"Logistic Regression-0.42 Threshold\",\n",
    "]\n",
    "\n",
    "print(\"Training performance comparison:\")\n",
    "models_train_comp_df"
   ]
  },
  {
   "cell_type": "markdown",
   "metadata": {},
   "source": [
    "- Almost all the three models are performing well on both training and test data without the problem of overfitting\n",
    "- The model with a threshold (0.81) is giving the best F1 score. Therefore it can be selected as the final model."
   ]
  },
  {
   "cell_type": "markdown",
   "metadata": {},
   "source": [
    "# KNN Classifier"
   ]
  },
  {
   "cell_type": "code",
   "execution_count": 28,
   "metadata": {},
   "outputs": [
    {
     "data": {
      "text/html": [
       "<div>\n",
       "<style scoped>\n",
       "    .dataframe tbody tr th:only-of-type {\n",
       "        vertical-align: middle;\n",
       "    }\n",
       "\n",
       "    .dataframe tbody tr th {\n",
       "        vertical-align: top;\n",
       "    }\n",
       "\n",
       "    .dataframe thead th {\n",
       "        text-align: right;\n",
       "    }\n",
       "</style>\n",
       "<table border=\"1\" class=\"dataframe\">\n",
       "  <thead>\n",
       "    <tr style=\"text-align: right;\">\n",
       "      <th></th>\n",
       "      <th>no_of_adults</th>\n",
       "      <th>no_of_weekend_nights</th>\n",
       "      <th>no_of_week_nights</th>\n",
       "      <th>lead_time</th>\n",
       "      <th>arrival_year</th>\n",
       "      <th>arrival_month</th>\n",
       "      <th>arrival_date</th>\n",
       "      <th>avg_price_per_room</th>\n",
       "      <th>no_of_special_requests</th>\n",
       "      <th>type_of_meal_plan_Meal Plan 2</th>\n",
       "      <th>type_of_meal_plan_Meal Plan 3</th>\n",
       "      <th>type_of_meal_plan_Not Selected</th>\n",
       "      <th>room_type_reserved_Room_Type 2</th>\n",
       "      <th>room_type_reserved_Room_Type 3</th>\n",
       "      <th>room_type_reserved_Room_Type 4</th>\n",
       "      <th>room_type_reserved_Room_Type 5</th>\n",
       "      <th>room_type_reserved_Room_Type 6</th>\n",
       "      <th>room_type_reserved_Room_Type 7</th>\n",
       "      <th>market_segment_type_Complementary</th>\n",
       "      <th>market_segment_type_Corporate</th>\n",
       "      <th>market_segment_type_Offline</th>\n",
       "      <th>market_segment_type_Online</th>\n",
       "      <th>repeated_guest_Yes</th>\n",
       "      <th>booking_label_Low</th>\n",
       "      <th>booking_label_Medium</th>\n",
       "      <th>booking_label_Very High</th>\n",
       "      <th>booking_label_Very Low</th>\n",
       "      <th>cancellation_label_Frequent Cancellations</th>\n",
       "      <th>cancellation_label_Moderate Cancellations</th>\n",
       "      <th>cancellation_label_No Cancellations</th>\n",
       "    </tr>\n",
       "  </thead>\n",
       "  <tbody>\n",
       "    <tr>\n",
       "      <th>0</th>\n",
       "      <td>2.0</td>\n",
       "      <td>1.0</td>\n",
       "      <td>2.0</td>\n",
       "      <td>224.0</td>\n",
       "      <td>2018.0</td>\n",
       "      <td>10.0</td>\n",
       "      <td>2.0</td>\n",
       "      <td>65.00</td>\n",
       "      <td>0.0</td>\n",
       "      <td>0.0</td>\n",
       "      <td>0.0</td>\n",
       "      <td>0.0</td>\n",
       "      <td>0.0</td>\n",
       "      <td>0.0</td>\n",
       "      <td>0.0</td>\n",
       "      <td>0.0</td>\n",
       "      <td>0.0</td>\n",
       "      <td>0.0</td>\n",
       "      <td>0.0</td>\n",
       "      <td>0.0</td>\n",
       "      <td>1.0</td>\n",
       "      <td>0.0</td>\n",
       "      <td>0.0</td>\n",
       "      <td>0.0</td>\n",
       "      <td>0.0</td>\n",
       "      <td>0.0</td>\n",
       "      <td>1.0</td>\n",
       "      <td>0.0</td>\n",
       "      <td>0.0</td>\n",
       "      <td>1.0</td>\n",
       "    </tr>\n",
       "    <tr>\n",
       "      <th>1</th>\n",
       "      <td>2.0</td>\n",
       "      <td>2.0</td>\n",
       "      <td>3.0</td>\n",
       "      <td>5.0</td>\n",
       "      <td>2018.0</td>\n",
       "      <td>11.0</td>\n",
       "      <td>6.0</td>\n",
       "      <td>106.68</td>\n",
       "      <td>1.0</td>\n",
       "      <td>0.0</td>\n",
       "      <td>0.0</td>\n",
       "      <td>1.0</td>\n",
       "      <td>0.0</td>\n",
       "      <td>0.0</td>\n",
       "      <td>0.0</td>\n",
       "      <td>0.0</td>\n",
       "      <td>0.0</td>\n",
       "      <td>0.0</td>\n",
       "      <td>0.0</td>\n",
       "      <td>0.0</td>\n",
       "      <td>0.0</td>\n",
       "      <td>1.0</td>\n",
       "      <td>0.0</td>\n",
       "      <td>0.0</td>\n",
       "      <td>0.0</td>\n",
       "      <td>0.0</td>\n",
       "      <td>1.0</td>\n",
       "      <td>0.0</td>\n",
       "      <td>0.0</td>\n",
       "      <td>1.0</td>\n",
       "    </tr>\n",
       "    <tr>\n",
       "      <th>2</th>\n",
       "      <td>2.0</td>\n",
       "      <td>2.0</td>\n",
       "      <td>1.0</td>\n",
       "      <td>1.0</td>\n",
       "      <td>2018.0</td>\n",
       "      <td>2.0</td>\n",
       "      <td>28.0</td>\n",
       "      <td>60.00</td>\n",
       "      <td>0.0</td>\n",
       "      <td>0.0</td>\n",
       "      <td>0.0</td>\n",
       "      <td>0.0</td>\n",
       "      <td>0.0</td>\n",
       "      <td>0.0</td>\n",
       "      <td>0.0</td>\n",
       "      <td>0.0</td>\n",
       "      <td>0.0</td>\n",
       "      <td>0.0</td>\n",
       "      <td>0.0</td>\n",
       "      <td>0.0</td>\n",
       "      <td>0.0</td>\n",
       "      <td>1.0</td>\n",
       "      <td>0.0</td>\n",
       "      <td>0.0</td>\n",
       "      <td>0.0</td>\n",
       "      <td>0.0</td>\n",
       "      <td>1.0</td>\n",
       "      <td>0.0</td>\n",
       "      <td>0.0</td>\n",
       "      <td>1.0</td>\n",
       "    </tr>\n",
       "    <tr>\n",
       "      <th>3</th>\n",
       "      <td>2.0</td>\n",
       "      <td>0.0</td>\n",
       "      <td>2.0</td>\n",
       "      <td>211.0</td>\n",
       "      <td>2018.0</td>\n",
       "      <td>5.0</td>\n",
       "      <td>20.0</td>\n",
       "      <td>100.00</td>\n",
       "      <td>0.0</td>\n",
       "      <td>0.0</td>\n",
       "      <td>0.0</td>\n",
       "      <td>0.0</td>\n",
       "      <td>0.0</td>\n",
       "      <td>0.0</td>\n",
       "      <td>0.0</td>\n",
       "      <td>0.0</td>\n",
       "      <td>0.0</td>\n",
       "      <td>0.0</td>\n",
       "      <td>0.0</td>\n",
       "      <td>0.0</td>\n",
       "      <td>0.0</td>\n",
       "      <td>1.0</td>\n",
       "      <td>0.0</td>\n",
       "      <td>0.0</td>\n",
       "      <td>0.0</td>\n",
       "      <td>0.0</td>\n",
       "      <td>1.0</td>\n",
       "      <td>0.0</td>\n",
       "      <td>0.0</td>\n",
       "      <td>1.0</td>\n",
       "    </tr>\n",
       "    <tr>\n",
       "      <th>4</th>\n",
       "      <td>2.0</td>\n",
       "      <td>1.0</td>\n",
       "      <td>1.0</td>\n",
       "      <td>48.0</td>\n",
       "      <td>2018.0</td>\n",
       "      <td>4.0</td>\n",
       "      <td>11.0</td>\n",
       "      <td>94.50</td>\n",
       "      <td>0.0</td>\n",
       "      <td>0.0</td>\n",
       "      <td>0.0</td>\n",
       "      <td>1.0</td>\n",
       "      <td>0.0</td>\n",
       "      <td>0.0</td>\n",
       "      <td>0.0</td>\n",
       "      <td>0.0</td>\n",
       "      <td>0.0</td>\n",
       "      <td>0.0</td>\n",
       "      <td>0.0</td>\n",
       "      <td>0.0</td>\n",
       "      <td>0.0</td>\n",
       "      <td>1.0</td>\n",
       "      <td>0.0</td>\n",
       "      <td>0.0</td>\n",
       "      <td>0.0</td>\n",
       "      <td>0.0</td>\n",
       "      <td>1.0</td>\n",
       "      <td>0.0</td>\n",
       "      <td>0.0</td>\n",
       "      <td>1.0</td>\n",
       "    </tr>\n",
       "  </tbody>\n",
       "</table>\n",
       "</div>"
      ],
      "text/plain": [
       "   no_of_adults  no_of_weekend_nights  no_of_week_nights  lead_time  \\\n",
       "0           2.0                   1.0                2.0      224.0   \n",
       "1           2.0                   2.0                3.0        5.0   \n",
       "2           2.0                   2.0                1.0        1.0   \n",
       "3           2.0                   0.0                2.0      211.0   \n",
       "4           2.0                   1.0                1.0       48.0   \n",
       "\n",
       "   arrival_year  arrival_month  arrival_date  avg_price_per_room  \\\n",
       "0        2018.0           10.0           2.0               65.00   \n",
       "1        2018.0           11.0           6.0              106.68   \n",
       "2        2018.0            2.0          28.0               60.00   \n",
       "3        2018.0            5.0          20.0              100.00   \n",
       "4        2018.0            4.0          11.0               94.50   \n",
       "\n",
       "   no_of_special_requests  type_of_meal_plan_Meal Plan 2  \\\n",
       "0                     0.0                            0.0   \n",
       "1                     1.0                            0.0   \n",
       "2                     0.0                            0.0   \n",
       "3                     0.0                            0.0   \n",
       "4                     0.0                            0.0   \n",
       "\n",
       "   type_of_meal_plan_Meal Plan 3  type_of_meal_plan_Not Selected  \\\n",
       "0                            0.0                             0.0   \n",
       "1                            0.0                             1.0   \n",
       "2                            0.0                             0.0   \n",
       "3                            0.0                             0.0   \n",
       "4                            0.0                             1.0   \n",
       "\n",
       "   room_type_reserved_Room_Type 2  room_type_reserved_Room_Type 3  \\\n",
       "0                             0.0                             0.0   \n",
       "1                             0.0                             0.0   \n",
       "2                             0.0                             0.0   \n",
       "3                             0.0                             0.0   \n",
       "4                             0.0                             0.0   \n",
       "\n",
       "   room_type_reserved_Room_Type 4  room_type_reserved_Room_Type 5  \\\n",
       "0                             0.0                             0.0   \n",
       "1                             0.0                             0.0   \n",
       "2                             0.0                             0.0   \n",
       "3                             0.0                             0.0   \n",
       "4                             0.0                             0.0   \n",
       "\n",
       "   room_type_reserved_Room_Type 6  room_type_reserved_Room_Type 7  \\\n",
       "0                             0.0                             0.0   \n",
       "1                             0.0                             0.0   \n",
       "2                             0.0                             0.0   \n",
       "3                             0.0                             0.0   \n",
       "4                             0.0                             0.0   \n",
       "\n",
       "   market_segment_type_Complementary  market_segment_type_Corporate  \\\n",
       "0                                0.0                            0.0   \n",
       "1                                0.0                            0.0   \n",
       "2                                0.0                            0.0   \n",
       "3                                0.0                            0.0   \n",
       "4                                0.0                            0.0   \n",
       "\n",
       "   market_segment_type_Offline  market_segment_type_Online  \\\n",
       "0                          1.0                         0.0   \n",
       "1                          0.0                         1.0   \n",
       "2                          0.0                         1.0   \n",
       "3                          0.0                         1.0   \n",
       "4                          0.0                         1.0   \n",
       "\n",
       "   repeated_guest_Yes  booking_label_Low  booking_label_Medium  \\\n",
       "0                 0.0                0.0                   0.0   \n",
       "1                 0.0                0.0                   0.0   \n",
       "2                 0.0                0.0                   0.0   \n",
       "3                 0.0                0.0                   0.0   \n",
       "4                 0.0                0.0                   0.0   \n",
       "\n",
       "   booking_label_Very High  booking_label_Very Low  \\\n",
       "0                      0.0                     1.0   \n",
       "1                      0.0                     1.0   \n",
       "2                      0.0                     1.0   \n",
       "3                      0.0                     1.0   \n",
       "4                      0.0                     1.0   \n",
       "\n",
       "   cancellation_label_Frequent Cancellations  \\\n",
       "0                                        0.0   \n",
       "1                                        0.0   \n",
       "2                                        0.0   \n",
       "3                                        0.0   \n",
       "4                                        0.0   \n",
       "\n",
       "   cancellation_label_Moderate Cancellations  \\\n",
       "0                                        0.0   \n",
       "1                                        0.0   \n",
       "2                                        0.0   \n",
       "3                                        0.0   \n",
       "4                                        0.0   \n",
       "\n",
       "   cancellation_label_No Cancellations  \n",
       "0                                  1.0  \n",
       "1                                  1.0  \n",
       "2                                  1.0  \n",
       "3                                  1.0  \n",
       "4                                  1.0  "
      ]
     },
     "execution_count": 28,
     "metadata": {},
     "output_type": "execute_result"
    }
   ],
   "source": [
    "# specifying the independent  and dependent variables\n",
    "X = df.drop([\"booking_status\"], axis=1)\n",
    "Y = df[\"booking_status\"]\n",
    "\n",
    "# adding a constant to the independent variables\n",
    "X = sm.add_constant(X)\n",
    "\n",
    "# creating dummy variables\n",
    "X = pd.get_dummies(X, drop_first=True)\n",
    "\n",
    "#Converting values to float\n",
    "X = X.astype(float)\n",
    "\n",
    "X.head()"
   ]
  },
  {
   "cell_type": "markdown",
   "metadata": {},
   "source": [
    "### Normalizing the numerical variables"
   ]
  },
  {
   "cell_type": "code",
   "execution_count": 29,
   "metadata": {},
   "outputs": [],
   "source": [
    "num_columns = ['lead_time', 'avg_price_per_room']"
   ]
  },
  {
   "cell_type": "code",
   "execution_count": 32,
   "metadata": {},
   "outputs": [],
   "source": [
    "# Initialize the StandardScaler\n",
    "scaler = StandardScaler()\n",
    "\n",
    "# Fit the scaler to the selected columns in the x_train data\n",
    "scaler.fit(X[num_columns])\n",
    "\n",
    "# Transform selected columns in X using the fitted scaler\n",
    "\n",
    "X[num_columns] = scaler.transform(X[num_columns])"
   ]
  },
  {
   "cell_type": "code",
   "execution_count": 33,
   "metadata": {},
   "outputs": [
    {
     "data": {
      "text/html": [
       "<div>\n",
       "<style scoped>\n",
       "    .dataframe tbody tr th:only-of-type {\n",
       "        vertical-align: middle;\n",
       "    }\n",
       "\n",
       "    .dataframe tbody tr th {\n",
       "        vertical-align: top;\n",
       "    }\n",
       "\n",
       "    .dataframe thead th {\n",
       "        text-align: right;\n",
       "    }\n",
       "</style>\n",
       "<table border=\"1\" class=\"dataframe\">\n",
       "  <thead>\n",
       "    <tr style=\"text-align: right;\">\n",
       "      <th></th>\n",
       "      <th>no_of_adults</th>\n",
       "      <th>no_of_weekend_nights</th>\n",
       "      <th>no_of_week_nights</th>\n",
       "      <th>lead_time</th>\n",
       "      <th>arrival_year</th>\n",
       "      <th>arrival_month</th>\n",
       "      <th>arrival_date</th>\n",
       "      <th>avg_price_per_room</th>\n",
       "      <th>no_of_special_requests</th>\n",
       "      <th>type_of_meal_plan_Meal Plan 2</th>\n",
       "      <th>type_of_meal_plan_Meal Plan 3</th>\n",
       "      <th>type_of_meal_plan_Not Selected</th>\n",
       "      <th>room_type_reserved_Room_Type 2</th>\n",
       "      <th>room_type_reserved_Room_Type 3</th>\n",
       "      <th>room_type_reserved_Room_Type 4</th>\n",
       "      <th>room_type_reserved_Room_Type 5</th>\n",
       "      <th>room_type_reserved_Room_Type 6</th>\n",
       "      <th>room_type_reserved_Room_Type 7</th>\n",
       "      <th>market_segment_type_Complementary</th>\n",
       "      <th>market_segment_type_Corporate</th>\n",
       "      <th>market_segment_type_Offline</th>\n",
       "      <th>market_segment_type_Online</th>\n",
       "      <th>repeated_guest_Yes</th>\n",
       "      <th>booking_label_Low</th>\n",
       "      <th>booking_label_Medium</th>\n",
       "      <th>booking_label_Very High</th>\n",
       "      <th>booking_label_Very Low</th>\n",
       "      <th>cancellation_label_Frequent Cancellations</th>\n",
       "      <th>cancellation_label_Moderate Cancellations</th>\n",
       "      <th>cancellation_label_No Cancellations</th>\n",
       "    </tr>\n",
       "  </thead>\n",
       "  <tbody>\n",
       "    <tr>\n",
       "      <th>0</th>\n",
       "      <td>2.0</td>\n",
       "      <td>1.0</td>\n",
       "      <td>2.0</td>\n",
       "      <td>1.717432</td>\n",
       "      <td>2018.0</td>\n",
       "      <td>10.0</td>\n",
       "      <td>2.0</td>\n",
       "      <td>-1.198524</td>\n",
       "      <td>0.0</td>\n",
       "      <td>0.0</td>\n",
       "      <td>0.0</td>\n",
       "      <td>0.0</td>\n",
       "      <td>0.0</td>\n",
       "      <td>0.0</td>\n",
       "      <td>0.0</td>\n",
       "      <td>0.0</td>\n",
       "      <td>0.0</td>\n",
       "      <td>0.0</td>\n",
       "      <td>0.0</td>\n",
       "      <td>0.0</td>\n",
       "      <td>1.0</td>\n",
       "      <td>0.0</td>\n",
       "      <td>0.0</td>\n",
       "      <td>0.0</td>\n",
       "      <td>0.0</td>\n",
       "      <td>0.0</td>\n",
       "      <td>1.0</td>\n",
       "      <td>0.0</td>\n",
       "      <td>0.0</td>\n",
       "      <td>1.0</td>\n",
       "    </tr>\n",
       "    <tr>\n",
       "      <th>1</th>\n",
       "      <td>2.0</td>\n",
       "      <td>2.0</td>\n",
       "      <td>3.0</td>\n",
       "      <td>-0.964558</td>\n",
       "      <td>2018.0</td>\n",
       "      <td>11.0</td>\n",
       "      <td>6.0</td>\n",
       "      <td>0.117100</td>\n",
       "      <td>1.0</td>\n",
       "      <td>0.0</td>\n",
       "      <td>0.0</td>\n",
       "      <td>1.0</td>\n",
       "      <td>0.0</td>\n",
       "      <td>0.0</td>\n",
       "      <td>0.0</td>\n",
       "      <td>0.0</td>\n",
       "      <td>0.0</td>\n",
       "      <td>0.0</td>\n",
       "      <td>0.0</td>\n",
       "      <td>0.0</td>\n",
       "      <td>0.0</td>\n",
       "      <td>1.0</td>\n",
       "      <td>0.0</td>\n",
       "      <td>0.0</td>\n",
       "      <td>0.0</td>\n",
       "      <td>0.0</td>\n",
       "      <td>1.0</td>\n",
       "      <td>0.0</td>\n",
       "      <td>0.0</td>\n",
       "      <td>1.0</td>\n",
       "    </tr>\n",
       "    <tr>\n",
       "      <th>2</th>\n",
       "      <td>2.0</td>\n",
       "      <td>2.0</td>\n",
       "      <td>1.0</td>\n",
       "      <td>-1.013544</td>\n",
       "      <td>2018.0</td>\n",
       "      <td>2.0</td>\n",
       "      <td>28.0</td>\n",
       "      <td>-1.356349</td>\n",
       "      <td>0.0</td>\n",
       "      <td>0.0</td>\n",
       "      <td>0.0</td>\n",
       "      <td>0.0</td>\n",
       "      <td>0.0</td>\n",
       "      <td>0.0</td>\n",
       "      <td>0.0</td>\n",
       "      <td>0.0</td>\n",
       "      <td>0.0</td>\n",
       "      <td>0.0</td>\n",
       "      <td>0.0</td>\n",
       "      <td>0.0</td>\n",
       "      <td>0.0</td>\n",
       "      <td>1.0</td>\n",
       "      <td>0.0</td>\n",
       "      <td>0.0</td>\n",
       "      <td>0.0</td>\n",
       "      <td>0.0</td>\n",
       "      <td>1.0</td>\n",
       "      <td>0.0</td>\n",
       "      <td>0.0</td>\n",
       "      <td>1.0</td>\n",
       "    </tr>\n",
       "    <tr>\n",
       "      <th>3</th>\n",
       "      <td>2.0</td>\n",
       "      <td>0.0</td>\n",
       "      <td>2.0</td>\n",
       "      <td>1.558227</td>\n",
       "      <td>2018.0</td>\n",
       "      <td>5.0</td>\n",
       "      <td>20.0</td>\n",
       "      <td>-0.093753</td>\n",
       "      <td>0.0</td>\n",
       "      <td>0.0</td>\n",
       "      <td>0.0</td>\n",
       "      <td>0.0</td>\n",
       "      <td>0.0</td>\n",
       "      <td>0.0</td>\n",
       "      <td>0.0</td>\n",
       "      <td>0.0</td>\n",
       "      <td>0.0</td>\n",
       "      <td>0.0</td>\n",
       "      <td>0.0</td>\n",
       "      <td>0.0</td>\n",
       "      <td>0.0</td>\n",
       "      <td>1.0</td>\n",
       "      <td>0.0</td>\n",
       "      <td>0.0</td>\n",
       "      <td>0.0</td>\n",
       "      <td>0.0</td>\n",
       "      <td>1.0</td>\n",
       "      <td>0.0</td>\n",
       "      <td>0.0</td>\n",
       "      <td>1.0</td>\n",
       "    </tr>\n",
       "    <tr>\n",
       "      <th>4</th>\n",
       "      <td>2.0</td>\n",
       "      <td>1.0</td>\n",
       "      <td>1.0</td>\n",
       "      <td>-0.437957</td>\n",
       "      <td>2018.0</td>\n",
       "      <td>4.0</td>\n",
       "      <td>11.0</td>\n",
       "      <td>-0.267360</td>\n",
       "      <td>0.0</td>\n",
       "      <td>0.0</td>\n",
       "      <td>0.0</td>\n",
       "      <td>1.0</td>\n",
       "      <td>0.0</td>\n",
       "      <td>0.0</td>\n",
       "      <td>0.0</td>\n",
       "      <td>0.0</td>\n",
       "      <td>0.0</td>\n",
       "      <td>0.0</td>\n",
       "      <td>0.0</td>\n",
       "      <td>0.0</td>\n",
       "      <td>0.0</td>\n",
       "      <td>1.0</td>\n",
       "      <td>0.0</td>\n",
       "      <td>0.0</td>\n",
       "      <td>0.0</td>\n",
       "      <td>0.0</td>\n",
       "      <td>1.0</td>\n",
       "      <td>0.0</td>\n",
       "      <td>0.0</td>\n",
       "      <td>1.0</td>\n",
       "    </tr>\n",
       "  </tbody>\n",
       "</table>\n",
       "</div>"
      ],
      "text/plain": [
       "   no_of_adults  no_of_weekend_nights  no_of_week_nights  lead_time  \\\n",
       "0           2.0                   1.0                2.0   1.717432   \n",
       "1           2.0                   2.0                3.0  -0.964558   \n",
       "2           2.0                   2.0                1.0  -1.013544   \n",
       "3           2.0                   0.0                2.0   1.558227   \n",
       "4           2.0                   1.0                1.0  -0.437957   \n",
       "\n",
       "   arrival_year  arrival_month  arrival_date  avg_price_per_room  \\\n",
       "0        2018.0           10.0           2.0           -1.198524   \n",
       "1        2018.0           11.0           6.0            0.117100   \n",
       "2        2018.0            2.0          28.0           -1.356349   \n",
       "3        2018.0            5.0          20.0           -0.093753   \n",
       "4        2018.0            4.0          11.0           -0.267360   \n",
       "\n",
       "   no_of_special_requests  type_of_meal_plan_Meal Plan 2  \\\n",
       "0                     0.0                            0.0   \n",
       "1                     1.0                            0.0   \n",
       "2                     0.0                            0.0   \n",
       "3                     0.0                            0.0   \n",
       "4                     0.0                            0.0   \n",
       "\n",
       "   type_of_meal_plan_Meal Plan 3  type_of_meal_plan_Not Selected  \\\n",
       "0                            0.0                             0.0   \n",
       "1                            0.0                             1.0   \n",
       "2                            0.0                             0.0   \n",
       "3                            0.0                             0.0   \n",
       "4                            0.0                             1.0   \n",
       "\n",
       "   room_type_reserved_Room_Type 2  room_type_reserved_Room_Type 3  \\\n",
       "0                             0.0                             0.0   \n",
       "1                             0.0                             0.0   \n",
       "2                             0.0                             0.0   \n",
       "3                             0.0                             0.0   \n",
       "4                             0.0                             0.0   \n",
       "\n",
       "   room_type_reserved_Room_Type 4  room_type_reserved_Room_Type 5  \\\n",
       "0                             0.0                             0.0   \n",
       "1                             0.0                             0.0   \n",
       "2                             0.0                             0.0   \n",
       "3                             0.0                             0.0   \n",
       "4                             0.0                             0.0   \n",
       "\n",
       "   room_type_reserved_Room_Type 6  room_type_reserved_Room_Type 7  \\\n",
       "0                             0.0                             0.0   \n",
       "1                             0.0                             0.0   \n",
       "2                             0.0                             0.0   \n",
       "3                             0.0                             0.0   \n",
       "4                             0.0                             0.0   \n",
       "\n",
       "   market_segment_type_Complementary  market_segment_type_Corporate  \\\n",
       "0                                0.0                            0.0   \n",
       "1                                0.0                            0.0   \n",
       "2                                0.0                            0.0   \n",
       "3                                0.0                            0.0   \n",
       "4                                0.0                            0.0   \n",
       "\n",
       "   market_segment_type_Offline  market_segment_type_Online  \\\n",
       "0                          1.0                         0.0   \n",
       "1                          0.0                         1.0   \n",
       "2                          0.0                         1.0   \n",
       "3                          0.0                         1.0   \n",
       "4                          0.0                         1.0   \n",
       "\n",
       "   repeated_guest_Yes  booking_label_Low  booking_label_Medium  \\\n",
       "0                 0.0                0.0                   0.0   \n",
       "1                 0.0                0.0                   0.0   \n",
       "2                 0.0                0.0                   0.0   \n",
       "3                 0.0                0.0                   0.0   \n",
       "4                 0.0                0.0                   0.0   \n",
       "\n",
       "   booking_label_Very High  booking_label_Very Low  \\\n",
       "0                      0.0                     1.0   \n",
       "1                      0.0                     1.0   \n",
       "2                      0.0                     1.0   \n",
       "3                      0.0                     1.0   \n",
       "4                      0.0                     1.0   \n",
       "\n",
       "   cancellation_label_Frequent Cancellations  \\\n",
       "0                                        0.0   \n",
       "1                                        0.0   \n",
       "2                                        0.0   \n",
       "3                                        0.0   \n",
       "4                                        0.0   \n",
       "\n",
       "   cancellation_label_Moderate Cancellations  \\\n",
       "0                                        0.0   \n",
       "1                                        0.0   \n",
       "2                                        0.0   \n",
       "3                                        0.0   \n",
       "4                                        0.0   \n",
       "\n",
       "   cancellation_label_No Cancellations  \n",
       "0                                  1.0  \n",
       "1                                  1.0  \n",
       "2                                  1.0  \n",
       "3                                  1.0  \n",
       "4                                  1.0  "
      ]
     },
     "execution_count": 33,
     "metadata": {},
     "output_type": "execute_result"
    }
   ],
   "source": [
    "X.head()"
   ]
  },
  {
   "cell_type": "markdown",
   "metadata": {},
   "source": [
    "### Train Test Split"
   ]
  },
  {
   "cell_type": "code",
   "execution_count": 34,
   "metadata": {},
   "outputs": [],
   "source": [
    "# Splitting data in train and test sets\n",
    "X_train, X_test, y_train, y_test = train_test_split(\n",
    "    X, Y, test_size=0.30, random_state=1\n",
    ")"
   ]
  },
  {
   "cell_type": "code",
   "execution_count": 35,
   "metadata": {},
   "outputs": [
    {
     "name": "stdout",
     "output_type": "stream",
     "text": [
      "Shape of Training set :  (25392, 30)\n",
      "Shape of test set :  (10883, 30)\n",
      "Percentage of classes in training set:\n",
      "0    0.670644\n",
      "1    0.329356\n",
      "Name: booking_status, dtype: float64\n",
      "Percentage of classes in test set:\n",
      "0    0.676376\n",
      "1    0.323624\n",
      "Name: booking_status, dtype: float64\n"
     ]
    }
   ],
   "source": [
    "print(\"Shape of Training set : \", X_train.shape)\n",
    "print(\"Shape of test set : \", X_test.shape)\n",
    "print(\"Percentage of classes in training set:\")\n",
    "print(y_train.value_counts(normalize=True))\n",
    "print(\"Percentage of classes in test set:\")\n",
    "print(y_test.value_counts(normalize=True))"
   ]
  },
  {
   "cell_type": "markdown",
   "metadata": {},
   "source": [
    "## Model Building"
   ]
  },
  {
   "cell_type": "markdown",
   "metadata": {},
   "source": [
    "### Model Evaluation"
   ]
  },
  {
   "cell_type": "markdown",
   "metadata": {},
   "source": [
    "**Model evaluation criterion**\n",
    "\n",
    "**Model can make wrong predictions as:**\n",
    "- Predicting a booking will not get cancelled but in reality, the booking gets cancelled (FN)\n",
    "- Predicting a booking will get cancelled but in reality, the booking does not cancell (FP)\n",
    "\n",
    "**Which case is more important?**\n",
    "\n",
    "- If we predict that a booking will not get cancelled but in reality, the guest cancelles the booking, then the hotel company has to face losses due to cancellation of booking in following ways\n",
    "    - the hotel cannot resell the room.\n",
    "    - Additional costs of distribution channels by increasing commissions or paying for publicity to help sell these rooms.\n",
    "    - Lowering prices last minute, so the hotel can resell a room, resulting in reducing the profit margin.\n",
    "    - Human resources to make arrangements for the guests.\n",
    "\n",
    "- If we predict that a booking will get cancelled but in reality, the guest does not cancelles the booking, then the company will have to bear the cost of inspection\n",
    "    - Due to wrong prediction the booking will not take place and then hotel takecare cost will increase.\n",
    "    \n",
    "\n",
    "**How to reduce the losses?**\n",
    "\n",
    "The company would want the recall to be maximized, greater the recall score higher are the chances of minimizing the False Negatives."
   ]
  },
  {
   "cell_type": "code",
   "execution_count": 36,
   "metadata": {},
   "outputs": [],
   "source": [
    "# defining a function to compute different metrics to check performance of a classification model built using sklearn\n",
    "def model_performance_classification_sklearn(model, predictors, target):\n",
    "    \"\"\"\n",
    "    Function to compute different metrics to check classification model performance\n",
    "\n",
    "    model: classifier\n",
    "    predictors: independent variables\n",
    "    target: dependent variable\n",
    "    \"\"\"\n",
    "\n",
    "    # predicting using the independent variables\n",
    "    pred = model.predict(predictors)\n",
    "\n",
    "    acc = accuracy_score(target, pred)  # to compute Accuracy\n",
    "    recall = recall_score(target, pred)  # to compute Recall\n",
    "    precision = precision_score(target, pred)  # to compute Precision\n",
    "    f1 = f1_score(target, pred)  # to compute F1-score\n",
    "\n",
    "    # creating a dataframe of metrics\n",
    "    df_perf = pd.DataFrame(\n",
    "        {\"Accuracy\": acc, \"Recall\": recall, \"Precision\": precision, \"F1\": f1,},\n",
    "        index=[0],\n",
    "    )\n",
    "\n",
    "    return df_perf"
   ]
  },
  {
   "cell_type": "code",
   "execution_count": 37,
   "metadata": {},
   "outputs": [],
   "source": [
    "def confusion_matrix_sklearn(model, predictors, target):\n",
    "    \"\"\"\n",
    "    To plot the confusion_matrix with percentages\n",
    "\n",
    "    model: classifier\n",
    "    predictors: independent variables\n",
    "    target: dependent variable\n",
    "    \"\"\"\n",
    "    y_pred = model.predict(predictors)\n",
    "    cm = confusion_matrix(target, y_pred)\n",
    "    labels = np.asarray(\n",
    "        [\n",
    "            [\"{0:0.0f}\".format(item) + \"\\n{0:.2%}\".format(item / cm.flatten().sum())]\n",
    "            for item in cm.flatten()\n",
    "        ]\n",
    "    ).reshape(2, 2)\n",
    "\n",
    "    plt.figure(figsize=(6, 4))\n",
    "    sns.heatmap(cm, annot=labels, fmt=\"\")\n",
    "    plt.ylabel(\"True label\")\n",
    "    plt.xlabel(\"Predicted label\")"
   ]
  },
  {
   "cell_type": "markdown",
   "metadata": {},
   "source": [
    "### K- Nearest Neighbor"
   ]
  },
  {
   "cell_type": "markdown",
   "metadata": {},
   "source": [
    "In order to optimize our model, it's essential to experiment with different values of k to find the most suitable fit for our data. We can commence this process by setting k equal to 3 and gradually exploring other values to assess their impact on the model's performance.\n",
    "\n",
    "- We'll only consider odd values of K as the classification will be done based on majority voting."
   ]
  },
  {
   "cell_type": "markdown",
   "metadata": {},
   "source": [
    "#### K=3"
   ]
  },
  {
   "cell_type": "code",
   "execution_count": 38,
   "metadata": {},
   "outputs": [
    {
     "data": {
      "text/plain": [
       "KNeighborsClassifier(n_neighbors=3)"
      ]
     },
     "execution_count": 38,
     "metadata": {},
     "output_type": "execute_result"
    }
   ],
   "source": [
    "# instantiate learning model (k = 3)\n",
    "knn_3 = KNeighborsClassifier(n_neighbors = 3)\n",
    "# fitting the model\n",
    "knn_3.fit(X_train, y_train)"
   ]
  },
  {
   "cell_type": "code",
   "execution_count": 39,
   "metadata": {},
   "outputs": [
    {
     "data": {
      "image/png": "[encoded data removed]",
      "text/plain": [
       "<Figure size 432x288 with 2 Axes>"
      ]
     },
     "metadata": {
      "needs_background": "light"
     },
     "output_type": "display_data"
    }
   ],
   "source": [
    "confusion_matrix_sklearn(knn_3, X_train, y_train)"
   ]
  },
  {
   "cell_type": "code",
   "execution_count": 40,
   "metadata": {},
   "outputs": [
    {
     "data": {
      "text/html": [
       "<div>\n",
       "<style scoped>\n",
       "    .dataframe tbody tr th:only-of-type {\n",
       "        vertical-align: middle;\n",
       "    }\n",
       "\n",
       "    .dataframe tbody tr th {\n",
       "        vertical-align: top;\n",
       "    }\n",
       "\n",
       "    .dataframe thead th {\n",
       "        text-align: right;\n",
       "    }\n",
       "</style>\n",
       "<table border=\"1\" class=\"dataframe\">\n",
       "  <thead>\n",
       "    <tr style=\"text-align: right;\">\n",
       "      <th></th>\n",
       "      <th>Accuracy</th>\n",
       "      <th>Recall</th>\n",
       "      <th>Precision</th>\n",
       "      <th>F1</th>\n",
       "    </tr>\n",
       "  </thead>\n",
       "  <tbody>\n",
       "    <tr>\n",
       "      <th>0</th>\n",
       "      <td>0.911626</td>\n",
       "      <td>0.841205</td>\n",
       "      <td>0.884794</td>\n",
       "      <td>0.862449</td>\n",
       "    </tr>\n",
       "  </tbody>\n",
       "</table>\n",
       "</div>"
      ],
      "text/plain": [
       "   Accuracy    Recall  Precision        F1\n",
       "0  0.911626  0.841205   0.884794  0.862449"
      ]
     },
     "execution_count": 40,
     "metadata": {},
     "output_type": "execute_result"
    }
   ],
   "source": [
    "knn_perf_train_3 = model_performance_classification_sklearn(\n",
    "    knn_3, X_train, y_train\n",
    ")\n",
    "knn_perf_train_3"
   ]
  },
  {
   "cell_type": "code",
   "execution_count": 41,
   "metadata": {},
   "outputs": [
    {
     "data": {
      "image/png": "[encoded data removed]",
      "text/plain": [
       "<Figure size 432x288 with 2 Axes>"
      ]
     },
     "metadata": {
      "needs_background": "light"
     },
     "output_type": "display_data"
    }
   ],
   "source": [
    "confusion_matrix_sklearn(knn_3, X_test, y_test)"
   ]
  },
  {
   "cell_type": "code",
   "execution_count": 42,
   "metadata": {},
   "outputs": [
    {
     "data": {
      "text/html": [
       "<div>\n",
       "<style scoped>\n",
       "    .dataframe tbody tr th:only-of-type {\n",
       "        vertical-align: middle;\n",
       "    }\n",
       "\n",
       "    .dataframe tbody tr th {\n",
       "        vertical-align: top;\n",
       "    }\n",
       "\n",
       "    .dataframe thead th {\n",
       "        text-align: right;\n",
       "    }\n",
       "</style>\n",
       "<table border=\"1\" class=\"dataframe\">\n",
       "  <thead>\n",
       "    <tr style=\"text-align: right;\">\n",
       "      <th></th>\n",
       "      <th>Accuracy</th>\n",
       "      <th>Recall</th>\n",
       "      <th>Precision</th>\n",
       "      <th>F1</th>\n",
       "    </tr>\n",
       "  </thead>\n",
       "  <tbody>\n",
       "    <tr>\n",
       "      <th>0</th>\n",
       "      <td>0.835891</td>\n",
       "      <td>0.716922</td>\n",
       "      <td>0.761919</td>\n",
       "      <td>0.738736</td>\n",
       "    </tr>\n",
       "  </tbody>\n",
       "</table>\n",
       "</div>"
      ],
      "text/plain": [
       "   Accuracy    Recall  Precision        F1\n",
       "0  0.835891  0.716922   0.761919  0.738736"
      ]
     },
     "execution_count": 42,
     "metadata": {},
     "output_type": "execute_result"
    }
   ],
   "source": [
    "knn_perf_test_3 = model_performance_classification_sklearn(\n",
    "    knn_3, X_test, y_test\n",
    ")\n",
    "knn_perf_test_3"
   ]
  },
  {
   "cell_type": "markdown",
   "metadata": {},
   "source": [
    "Let's run the KNN with no of neighbours to be 1,3,5..19 and find the optimal number of neighbours from the above list using the recall score"
   ]
  },
  {
   "cell_type": "markdown",
   "metadata": {},
   "source": [
    "#### K with different values"
   ]
  },
  {
   "cell_type": "code",
   "execution_count": 44,
   "metadata": {},
   "outputs": [],
   "source": [
    "# creating odd list of K for KNN\n",
    "# myList = list(range(2,20))\n",
    "\n",
    "# subsetting just the odd ones\n",
    "# neighbors = list(filter(lambda x: x % 2 != 0, myList))\n",
    "\n",
    "# creating a list of odd values of K for KNN\n",
    "neighbors = [i for i in range(3,20) if i%2 != 0]\n",
    "\n",
    "# empty list that will hold recall scores\n",
    "recall_scores_train = []\n",
    "recall_scores_test = []\n",
    "\n",
    "# perform recall metrics\n",
    "for k in neighbors:\n",
    "    knn = KNeighborsClassifier(n_neighbors=k)\n",
    "    knn.fit(X_train, y_train)\n",
    "\n",
    "    # predict on train and test\n",
    "    y_pred_train = knn.predict(X_train)\n",
    "    y_pred_test = knn.predict(X_test)\n",
    "\n",
    "    # evaluate recall on train and test\n",
    "    scores_train = recall_score(y_train, y_pred_train)\n",
    "    recall_scores_train.append(scores_train)\n",
    "    scores_test = recall_score(y_test, y_pred_test)\n",
    "    recall_scores_test.append(scores_test)"
   ]
  },
  {
   "cell_type": "code",
   "execution_count": 45,
   "metadata": {},
   "outputs": [
    {
     "data": {
      "image/png": "[encoded data removed]",
      "text/plain": [
       "<Figure size 576x432 with 1 Axes>"
      ]
     },
     "metadata": {
      "needs_background": "light"
     },
     "output_type": "display_data"
    }
   ],
   "source": [
    "import matplotlib.pyplot as plt\n",
    "\n",
    "# Plot recall scores for training and test sets\n",
    "plt.figure(figsize=(8, 6))\n",
    "plt.plot(neighbors, recall_scores_train, label='Training Recall', marker='o')\n",
    "plt.plot(neighbors, recall_scores_test, label='Test Recall', marker='o')\n",
    "plt.title('KNN Recall Scores for Different Values of K')\n",
    "plt.xlabel('Number of Neighbors (K)')\n",
    "plt.ylabel('Recall Score')\n",
    "plt.xticks(neighbors)\n",
    "plt.legend()\n",
    "plt.grid(True)\n",
    "plt.show()"
   ]
  },
  {
   "cell_type": "markdown",
   "metadata": {},
   "source": [
    "### Naive Bayes"
   ]
  },
  {
   "cell_type": "code",
   "execution_count": 46,
   "metadata": {},
   "outputs": [
    {
     "data": {
      "text/plain": [
       "GaussianNB()"
      ]
     },
     "execution_count": 46,
     "metadata": {},
     "output_type": "execute_result"
    }
   ],
   "source": [
    "nb = GaussianNB()\n",
    "nb.fit(X_train, y_train)"
   ]
  },
  {
   "cell_type": "code",
   "execution_count": 47,
   "metadata": {},
   "outputs": [
    {
     "data": {
      "image/png": "[encoded data removed]",
      "text/plain": [
       "<Figure size 432x288 with 2 Axes>"
      ]
     },
     "metadata": {
      "needs_background": "light"
     },
     "output_type": "display_data"
    }
   ],
   "source": [
    "confusion_matrix_sklearn(nb, X_train, y_train)"
   ]
  },
  {
   "cell_type": "code",
   "execution_count": 48,
   "metadata": {},
   "outputs": [
    {
     "data": {
      "text/html": [
       "<div>\n",
       "<style scoped>\n",
       "    .dataframe tbody tr th:only-of-type {\n",
       "        vertical-align: middle;\n",
       "    }\n",
       "\n",
       "    .dataframe tbody tr th {\n",
       "        vertical-align: top;\n",
       "    }\n",
       "\n",
       "    .dataframe thead th {\n",
       "        text-align: right;\n",
       "    }\n",
       "</style>\n",
       "<table border=\"1\" class=\"dataframe\">\n",
       "  <thead>\n",
       "    <tr style=\"text-align: right;\">\n",
       "      <th></th>\n",
       "      <th>Accuracy</th>\n",
       "      <th>Recall</th>\n",
       "      <th>Precision</th>\n",
       "      <th>F1</th>\n",
       "    </tr>\n",
       "  </thead>\n",
       "  <tbody>\n",
       "    <tr>\n",
       "      <th>0</th>\n",
       "      <td>0.362988</td>\n",
       "      <td>0.993184</td>\n",
       "      <td>0.340075</td>\n",
       "      <td>0.506664</td>\n",
       "    </tr>\n",
       "  </tbody>\n",
       "</table>\n",
       "</div>"
      ],
      "text/plain": [
       "   Accuracy    Recall  Precision        F1\n",
       "0  0.362988  0.993184   0.340075  0.506664"
      ]
     },
     "execution_count": 48,
     "metadata": {},
     "output_type": "execute_result"
    }
   ],
   "source": [
    "nb_perf_train = model_performance_classification_sklearn(\n",
    "    nb, X_train, y_train\n",
    ")\n",
    "nb_perf_train"
   ]
  },
  {
   "cell_type": "code",
   "execution_count": 49,
   "metadata": {},
   "outputs": [
    {
     "data": {
      "image/png": "[encoded data removed]",
      "text/plain": [
       "<Figure size 432x288 with 2 Axes>"
      ]
     },
     "metadata": {
      "needs_background": "light"
     },
     "output_type": "display_data"
    }
   ],
   "source": [
    "confusion_matrix_sklearn(nb, X_test, y_test)"
   ]
  },
  {
   "cell_type": "code",
   "execution_count": 50,
   "metadata": {},
   "outputs": [
    {
     "data": {
      "text/html": [
       "<div>\n",
       "<style scoped>\n",
       "    .dataframe tbody tr th:only-of-type {\n",
       "        vertical-align: middle;\n",
       "    }\n",
       "\n",
       "    .dataframe tbody tr th {\n",
       "        vertical-align: top;\n",
       "    }\n",
       "\n",
       "    .dataframe thead th {\n",
       "        text-align: right;\n",
       "    }\n",
       "</style>\n",
       "<table border=\"1\" class=\"dataframe\">\n",
       "  <thead>\n",
       "    <tr style=\"text-align: right;\">\n",
       "      <th></th>\n",
       "      <th>Accuracy</th>\n",
       "      <th>Recall</th>\n",
       "      <th>Precision</th>\n",
       "      <th>F1</th>\n",
       "    </tr>\n",
       "  </thead>\n",
       "  <tbody>\n",
       "    <tr>\n",
       "      <th>0</th>\n",
       "      <td>0.358449</td>\n",
       "      <td>0.994889</td>\n",
       "      <td>0.334734</td>\n",
       "      <td>0.500929</td>\n",
       "    </tr>\n",
       "  </tbody>\n",
       "</table>\n",
       "</div>"
      ],
      "text/plain": [
       "   Accuracy    Recall  Precision        F1\n",
       "0  0.358449  0.994889   0.334734  0.500929"
      ]
     },
     "execution_count": 50,
     "metadata": {},
     "output_type": "execute_result"
    }
   ],
   "source": [
    "nb_perf_test = model_performance_classification_sklearn(\n",
    "    nb, X_test, y_test\n",
    ")\n",
    "nb_perf_test"
   ]
  },
  {
   "cell_type": "markdown",
   "metadata": {},
   "source": [
    "## Comparison of Models and Final Model Selection"
   ]
  },
  {
   "cell_type": "code",
   "execution_count": 51,
   "metadata": {},
   "outputs": [
    {
     "name": "stdout",
     "output_type": "stream",
     "text": [
      "Training performance comparison:\n"
     ]
    },
    {
     "data": {
      "text/html": [
       "<div>\n",
       "<style scoped>\n",
       "    .dataframe tbody tr th:only-of-type {\n",
       "        vertical-align: middle;\n",
       "    }\n",
       "\n",
       "    .dataframe tbody tr th {\n",
       "        vertical-align: top;\n",
       "    }\n",
       "\n",
       "    .dataframe thead th {\n",
       "        text-align: right;\n",
       "    }\n",
       "</style>\n",
       "<table border=\"1\" class=\"dataframe\">\n",
       "  <thead>\n",
       "    <tr style=\"text-align: right;\">\n",
       "      <th></th>\n",
       "      <th>K Nearest Neighbor k=3</th>\n",
       "      <th>Naive Bayes</th>\n",
       "    </tr>\n",
       "  </thead>\n",
       "  <tbody>\n",
       "    <tr>\n",
       "      <th>Accuracy</th>\n",
       "      <td>0.911626</td>\n",
       "      <td>0.362988</td>\n",
       "    </tr>\n",
       "    <tr>\n",
       "      <th>Recall</th>\n",
       "      <td>0.841205</td>\n",
       "      <td>0.993184</td>\n",
       "    </tr>\n",
       "    <tr>\n",
       "      <th>Precision</th>\n",
       "      <td>0.884794</td>\n",
       "      <td>0.340075</td>\n",
       "    </tr>\n",
       "    <tr>\n",
       "      <th>F1</th>\n",
       "      <td>0.862449</td>\n",
       "      <td>0.506664</td>\n",
       "    </tr>\n",
       "  </tbody>\n",
       "</table>\n",
       "</div>"
      ],
      "text/plain": [
       "           K Nearest Neighbor k=3  Naive Bayes\n",
       "Accuracy                 0.911626     0.362988\n",
       "Recall                   0.841205     0.993184\n",
       "Precision                0.884794     0.340075\n",
       "F1                       0.862449     0.506664"
      ]
     },
     "execution_count": 51,
     "metadata": {},
     "output_type": "execute_result"
    }
   ],
   "source": [
    "# training performance comparison\n",
    "\n",
    "models_train_comp_df = pd.concat(\n",
    "    [\n",
    "        knn_perf_train_3.T,\n",
    "        nb_perf_train.T,\n",
    "    ],\n",
    "    axis=1,\n",
    ")\n",
    "models_train_comp_df.columns = [\n",
    "    \"K Nearest Neighbor k=3\",\n",
    "    \"Naive Bayes\",\n",
    "]\n",
    "print(\"Training performance comparison:\")\n",
    "models_train_comp_df"
   ]
  },
  {
   "cell_type": "code",
   "execution_count": 52,
   "metadata": {},
   "outputs": [
    {
     "name": "stdout",
     "output_type": "stream",
     "text": [
      "Test set performance comparison:\n"
     ]
    },
    {
     "data": {
      "text/html": [
       "<div>\n",
       "<style scoped>\n",
       "    .dataframe tbody tr th:only-of-type {\n",
       "        vertical-align: middle;\n",
       "    }\n",
       "\n",
       "    .dataframe tbody tr th {\n",
       "        vertical-align: top;\n",
       "    }\n",
       "\n",
       "    .dataframe thead th {\n",
       "        text-align: right;\n",
       "    }\n",
       "</style>\n",
       "<table border=\"1\" class=\"dataframe\">\n",
       "  <thead>\n",
       "    <tr style=\"text-align: right;\">\n",
       "      <th></th>\n",
       "      <th>K Nearest Neighbor k=3</th>\n",
       "      <th>Naive Bayes</th>\n",
       "    </tr>\n",
       "  </thead>\n",
       "  <tbody>\n",
       "    <tr>\n",
       "      <th>Accuracy</th>\n",
       "      <td>0.835891</td>\n",
       "      <td>0.358449</td>\n",
       "    </tr>\n",
       "    <tr>\n",
       "      <th>Recall</th>\n",
       "      <td>0.716922</td>\n",
       "      <td>0.994889</td>\n",
       "    </tr>\n",
       "    <tr>\n",
       "      <th>Precision</th>\n",
       "      <td>0.761919</td>\n",
       "      <td>0.334734</td>\n",
       "    </tr>\n",
       "    <tr>\n",
       "      <th>F1</th>\n",
       "      <td>0.738736</td>\n",
       "      <td>0.500929</td>\n",
       "    </tr>\n",
       "  </tbody>\n",
       "</table>\n",
       "</div>"
      ],
      "text/plain": [
       "           K Nearest Neighbor k=3  Naive Bayes\n",
       "Accuracy                 0.835891     0.358449\n",
       "Recall                   0.716922     0.994889\n",
       "Precision                0.761919     0.334734\n",
       "F1                       0.738736     0.500929"
      ]
     },
     "execution_count": 52,
     "metadata": {},
     "output_type": "execute_result"
    }
   ],
   "source": [
    "# testing performance comparison\n",
    "\n",
    "models_test_comp_df = pd.concat(\n",
    "    [\n",
    "        knn_perf_test_3.T,\n",
    "        nb_perf_test.T,\n",
    "    ],\n",
    "    axis=1,\n",
    ")\n",
    "models_test_comp_df.columns = [\n",
    "    \"K Nearest Neighbor k=3\",\n",
    "    \"Naive Bayes\",\n",
    "]\n",
    "print(\"Test set performance comparison:\")\n",
    "models_test_comp_df"
   ]
  },
  {
   "cell_type": "markdown",
   "metadata": {},
   "source": [
    "- In both the training and test sets, the K Nearest Neighbor model with k=3 demonstrates the highest recall among all compared models. This indicates that the model with k=3 is better at correctly identifying positive instances compared to the models with different k values and Naive Bayes.\n",
    "\n",
    "- Naive Bayes consistently shows lower recall values compared to K Nearest Neighbor models with different k values. This suggests that Naive Bayes may struggle to capture positive instances as effectively as K Nearest Neighbor models in both training and test datasets, highlighting potential limitations in its performance for this specific task."
   ]
  },
  {
   "cell_type": "code",
   "execution_count": null,
   "metadata": {},
   "outputs": [],
   "source": []
  }
 ],
 "metadata": {
  "accelerator": "GPU",
  "colab": {
   "authorship_tag": "ABX9TyNNeW+wp03fanE0i6/mvwqj",
   "gpuType": "T4",
   "provenance": []
  },
  "kernelspec": {
   "display_name": "Python 3 (ipykernel)",
   "language": "python",
   "name": "python3"
  },
  "language_info": {
   "codemirror_mode": {
    "name": "ipython",
    "version": 3
   },
   "file_extension": ".py",
   "mimetype": "text/x-python",
   "name": "python",
   "nbconvert_exporter": "python",
   "pygments_lexer": "ipython3",
   "version": "3.9.12"
  }
 },
 "nbformat": 4,
 "nbformat_minor": 1
}
